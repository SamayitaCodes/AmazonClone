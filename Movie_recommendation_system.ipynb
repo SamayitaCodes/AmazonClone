{
  "nbformat": 4,
  "nbformat_minor": 0,
  "metadata": {
    "colab": {
      "provenance": [],
      "authorship_tag": "ABX9TyNYsdkNvK5iTpdiovvYTkxO",
      "include_colab_link": true
    },
    "kernelspec": {
      "name": "python3",
      "display_name": "Python 3"
    },
    "language_info": {
      "name": "python"
    }
  },
  "cells": [
    {
      "cell_type": "markdown",
      "metadata": {
        "id": "view-in-github",
        "colab_type": "text"
      },
      "source": [
        "<a href=\"https://colab.research.google.com/github/SamayitaCodes/AmazonClone/blob/main/Movie_recommendation_system.ipynb\" target=\"_parent\"><img src=\"https://colab.research.google.com/assets/colab-badge.svg\" alt=\"Open In Colab\"/></a>"
      ]
    },
    {
      "cell_type": "code",
      "execution_count": null,
      "metadata": {
        "id": "sG7dWWNoQ1qB"
      },
      "outputs": [],
      "source": []
    },
    {
      "cell_type": "code",
      "source": [
        "# Step 1: Import necessary libraries\n",
        "import pandas as pd\n",
        "import numpy as np\n",
        "from sklearn.model_selection import train_test_split\n",
        "from surprise import Dataset, Reader, SVD\n",
        "from surprise.model_selection import cross_validate\n",
        "\n",
        "# Step 2: Load the MovieLens dataset\n",
        "# Download the dataset\n",
        "!wget https://files.grouplens.org/datasets/movielens/ml-latest-small.zip\n",
        "!unzip ml-latest-small.zip\n",
        "\n",
        "# Load the data into Pandas DataFrames\n",
        "ratings = pd.read_csv('ml-latest-small/ratings.csv')\n",
        "movies = pd.read_csv('ml-latest-small/movies.csv')\n",
        "\n",
        "print(ratings.head())\n",
        "print(movies.head())\n",
        "\n",
        "# Step 3: Preprocess the data\n",
        "# Using the 'surprise' library to load data\n",
        "reader = Reader(rating_scale=(0.5, 5.0))\n",
        "data = Dataset.load_from_df(ratings[['userId', 'movieId', 'rating']], reader)\n",
        "\n",
        "# Step 4: Build and train the model using SVD\n",
        "trainset = data.build_full_trainset()\n",
        "model = SVD()\n",
        "model.fit(trainset)\n",
        "\n",
        "# Step 5: Make recommendations\n",
        "# Function to get movie recommendations for a specific user\n",
        "def get_movie_recommendations(user_id, num_recommendations=10):\n",
        "    # Get a list of all movie IDs\n",
        "    movie_ids = movies['movieId'].tolist()\n",
        "\n",
        "    # Predict ratings for all movies\n",
        "    predicted_ratings = []\n",
        "    for movie_id in movie_ids:\n",
        "        predicted_ratings.append((movie_id, model.predict(user_id, movie_id).est))\n",
        "\n",
        "    # Sort the predicted ratings in descending order\n",
        "    predicted_ratings.sort(key=lambda x: x[1], reverse=True)\n",
        "\n",
        "    # Get the top 'num_recommendations' movies\n",
        "    top_movie_ids = [x[0] for x in predicted_ratings[:num_recommendations]]\n",
        "\n",
        "    # Get the movie titles for the top movie IDs\n",
        "    recommended_movies = movies[movies['movieId'].isin(top_movie_ids)]\n",
        "\n",
        "    return recommended_movies\n",
        "\n",
        "# Get recommendations for a specific user (e.g., user ID 1)\n",
        "user_id = 1\n",
        "recommended_movies = get_movie_recommendations(user_id)\n",
        "print(f\"Top 10 movie recommendations for user {user_id}:\")\n",
        "print(recommended_movies[['movieId', 'title']])\n",
        "\n",
        "# Optional: Cross-validation to evaluate the model\n",
        "cross_validate(model, data, measures=['RMSE', 'MAE'],\n"
      ],
      "metadata": {
        "colab": {
          "base_uri": "https://localhost:8080/",
          "height": 106
        },
        "id": "iLD0iPQhQ6pr",
        "outputId": "dce6e577-9552-48d1-cdb4-272063aca4ce"
      },
      "execution_count": 1,
      "outputs": [
        {
          "output_type": "error",
          "ename": "SyntaxError",
          "evalue": "incomplete input (<ipython-input-1-3adf59967e4a>, line 59)",
          "traceback": [
            "\u001b[0;36m  File \u001b[0;32m\"<ipython-input-1-3adf59967e4a>\"\u001b[0;36m, line \u001b[0;32m59\u001b[0m\n\u001b[0;31m    cross_validate(model, data, measures=['RMSE', 'MAE'],\u001b[0m\n\u001b[0m                                                         ^\u001b[0m\n\u001b[0;31mSyntaxError\u001b[0m\u001b[0;31m:\u001b[0m incomplete input\n"
          ]
        }
      ]
    }
  ]
}