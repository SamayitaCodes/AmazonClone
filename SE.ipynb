{
  "nbformat": 4,
  "nbformat_minor": 0,
  "metadata": {
    "colab": {
      "provenance": [],
      "include_colab_link": true
    },
    "kernelspec": {
      "name": "python3",
      "display_name": "Python 3"
    },
    "language_info": {
      "name": "python"
    }
  },
  "cells": [
    {
      "cell_type": "markdown",
      "metadata": {
        "id": "view-in-github",
        "colab_type": "text"
      },
      "source": [
        "<a href=\"https://colab.research.google.com/github/SamayitaCodes/AmazonClone/blob/main/SE.ipynb\" target=\"_parent\"><img src=\"https://colab.research.google.com/assets/colab-badge.svg\" alt=\"Open In Colab\"/></a>"
      ]
    },
    {
      "cell_type": "markdown",
      "source": [
        "# **Stroke Prediction Model**"
      ],
      "metadata": {
        "id": "5MMF1tb7fTwM"
      }
    },
    {
      "cell_type": "code",
      "execution_count": null,
      "metadata": {
        "id": "iy6EM1VwFqGG"
      },
      "outputs": [],
      "source": [
        "import numpy as np\n",
        "import pandas as pd\n",
        "import matplotlib.pyplot as plt\n",
        "import plotly.express as px"
      ]
    },
    {
      "cell_type": "code",
      "source": [
        "df = pd.read_csv('data1.csv')\n",
        "df.head()"
      ],
      "metadata": {
        "colab": {
          "base_uri": "https://localhost:8080/",
          "height": 261
        },
        "id": "HMBKwgGsF0ZH",
        "outputId": "89b83423-ece4-4354-e881-5c1a25346b41"
      },
      "execution_count": null,
      "outputs": [
        {
          "output_type": "execute_result",
          "data": {
            "text/plain": [
              "      id  gender   age  hypertension  heart_disease ever_married  \\\n",
              "0   9046    Male  67.0             0              1          Yes   \n",
              "1  51676  Female  61.0             0              0          Yes   \n",
              "2  31112    Male  80.0             0              1          Yes   \n",
              "3  60182  Female  49.0             0              0          Yes   \n",
              "4   1665  Female  79.0             1              0          Yes   \n",
              "\n",
              "       work_type Residence_type  avg_glucose_level   bmi   smoking_status  \\\n",
              "0        Private          Urban             228.69  36.6  formerly smoked   \n",
              "1  Self-employed          Rural             202.21   NaN     never smoked   \n",
              "2        Private          Rural             105.92  32.5     never smoked   \n",
              "3        Private          Urban             171.23  34.4           smokes   \n",
              "4  Self-employed          Rural             174.12  24.0     never smoked   \n",
              "\n",
              "   stroke  \n",
              "0       1  \n",
              "1       1  \n",
              "2       1  \n",
              "3       1  \n",
              "4       1  "
            ],
            "text/html": [
              "\n",
              "  <div id=\"df-149b8e21-b83b-491a-a2f2-656e26f8d8ac\" class=\"colab-df-container\">\n",
              "    <div>\n",
              "<style scoped>\n",
              "    .dataframe tbody tr th:only-of-type {\n",
              "        vertical-align: middle;\n",
              "    }\n",
              "\n",
              "    .dataframe tbody tr th {\n",
              "        vertical-align: top;\n",
              "    }\n",
              "\n",
              "    .dataframe thead th {\n",
              "        text-align: right;\n",
              "    }\n",
              "</style>\n",
              "<table border=\"1\" class=\"dataframe\">\n",
              "  <thead>\n",
              "    <tr style=\"text-align: right;\">\n",
              "      <th></th>\n",
              "      <th>id</th>\n",
              "      <th>gender</th>\n",
              "      <th>age</th>\n",
              "      <th>hypertension</th>\n",
              "      <th>heart_disease</th>\n",
              "      <th>ever_married</th>\n",
              "      <th>work_type</th>\n",
              "      <th>Residence_type</th>\n",
              "      <th>avg_glucose_level</th>\n",
              "      <th>bmi</th>\n",
              "      <th>smoking_status</th>\n",
              "      <th>stroke</th>\n",
              "    </tr>\n",
              "  </thead>\n",
              "  <tbody>\n",
              "    <tr>\n",
              "      <th>0</th>\n",
              "      <td>9046</td>\n",
              "      <td>Male</td>\n",
              "      <td>67.0</td>\n",
              "      <td>0</td>\n",
              "      <td>1</td>\n",
              "      <td>Yes</td>\n",
              "      <td>Private</td>\n",
              "      <td>Urban</td>\n",
              "      <td>228.69</td>\n",
              "      <td>36.6</td>\n",
              "      <td>formerly smoked</td>\n",
              "      <td>1</td>\n",
              "    </tr>\n",
              "    <tr>\n",
              "      <th>1</th>\n",
              "      <td>51676</td>\n",
              "      <td>Female</td>\n",
              "      <td>61.0</td>\n",
              "      <td>0</td>\n",
              "      <td>0</td>\n",
              "      <td>Yes</td>\n",
              "      <td>Self-employed</td>\n",
              "      <td>Rural</td>\n",
              "      <td>202.21</td>\n",
              "      <td>NaN</td>\n",
              "      <td>never smoked</td>\n",
              "      <td>1</td>\n",
              "    </tr>\n",
              "    <tr>\n",
              "      <th>2</th>\n",
              "      <td>31112</td>\n",
              "      <td>Male</td>\n",
              "      <td>80.0</td>\n",
              "      <td>0</td>\n",
              "      <td>1</td>\n",
              "      <td>Yes</td>\n",
              "      <td>Private</td>\n",
              "      <td>Rural</td>\n",
              "      <td>105.92</td>\n",
              "      <td>32.5</td>\n",
              "      <td>never smoked</td>\n",
              "      <td>1</td>\n",
              "    </tr>\n",
              "    <tr>\n",
              "      <th>3</th>\n",
              "      <td>60182</td>\n",
              "      <td>Female</td>\n",
              "      <td>49.0</td>\n",
              "      <td>0</td>\n",
              "      <td>0</td>\n",
              "      <td>Yes</td>\n",
              "      <td>Private</td>\n",
              "      <td>Urban</td>\n",
              "      <td>171.23</td>\n",
              "      <td>34.4</td>\n",
              "      <td>smokes</td>\n",
              "      <td>1</td>\n",
              "    </tr>\n",
              "    <tr>\n",
              "      <th>4</th>\n",
              "      <td>1665</td>\n",
              "      <td>Female</td>\n",
              "      <td>79.0</td>\n",
              "      <td>1</td>\n",
              "      <td>0</td>\n",
              "      <td>Yes</td>\n",
              "      <td>Self-employed</td>\n",
              "      <td>Rural</td>\n",
              "      <td>174.12</td>\n",
              "      <td>24.0</td>\n",
              "      <td>never smoked</td>\n",
              "      <td>1</td>\n",
              "    </tr>\n",
              "  </tbody>\n",
              "</table>\n",
              "</div>\n",
              "    <div class=\"colab-df-buttons\">\n",
              "\n",
              "  <div class=\"colab-df-container\">\n",
              "    <button class=\"colab-df-convert\" onclick=\"convertToInteractive('df-149b8e21-b83b-491a-a2f2-656e26f8d8ac')\"\n",
              "            title=\"Convert this dataframe to an interactive table.\"\n",
              "            style=\"display:none;\">\n",
              "\n",
              "  <svg xmlns=\"http://www.w3.org/2000/svg\" height=\"24px\" viewBox=\"0 -960 960 960\">\n",
              "    <path d=\"M120-120v-720h720v720H120Zm60-500h600v-160H180v160Zm220 220h160v-160H400v160Zm0 220h160v-160H400v160ZM180-400h160v-160H180v160Zm440 0h160v-160H620v160ZM180-180h160v-160H180v160Zm440 0h160v-160H620v160Z\"/>\n",
              "  </svg>\n",
              "    </button>\n",
              "\n",
              "  <style>\n",
              "    .colab-df-container {\n",
              "      display:flex;\n",
              "      gap: 12px;\n",
              "    }\n",
              "\n",
              "    .colab-df-convert {\n",
              "      background-color: #E8F0FE;\n",
              "      border: none;\n",
              "      border-radius: 50%;\n",
              "      cursor: pointer;\n",
              "      display: none;\n",
              "      fill: #1967D2;\n",
              "      height: 32px;\n",
              "      padding: 0 0 0 0;\n",
              "      width: 32px;\n",
              "    }\n",
              "\n",
              "    .colab-df-convert:hover {\n",
              "      background-color: #E2EBFA;\n",
              "      box-shadow: 0px 1px 2px rgba(60, 64, 67, 0.3), 0px 1px 3px 1px rgba(60, 64, 67, 0.15);\n",
              "      fill: #174EA6;\n",
              "    }\n",
              "\n",
              "    .colab-df-buttons div {\n",
              "      margin-bottom: 4px;\n",
              "    }\n",
              "\n",
              "    [theme=dark] .colab-df-convert {\n",
              "      background-color: #3B4455;\n",
              "      fill: #D2E3FC;\n",
              "    }\n",
              "\n",
              "    [theme=dark] .colab-df-convert:hover {\n",
              "      background-color: #434B5C;\n",
              "      box-shadow: 0px 1px 3px 1px rgba(0, 0, 0, 0.15);\n",
              "      filter: drop-shadow(0px 1px 2px rgba(0, 0, 0, 0.3));\n",
              "      fill: #FFFFFF;\n",
              "    }\n",
              "  </style>\n",
              "\n",
              "    <script>\n",
              "      const buttonEl =\n",
              "        document.querySelector('#df-149b8e21-b83b-491a-a2f2-656e26f8d8ac button.colab-df-convert');\n",
              "      buttonEl.style.display =\n",
              "        google.colab.kernel.accessAllowed ? 'block' : 'none';\n",
              "\n",
              "      async function convertToInteractive(key) {\n",
              "        const element = document.querySelector('#df-149b8e21-b83b-491a-a2f2-656e26f8d8ac');\n",
              "        const dataTable =\n",
              "          await google.colab.kernel.invokeFunction('convertToInteractive',\n",
              "                                                    [key], {});\n",
              "        if (!dataTable) return;\n",
              "\n",
              "        const docLinkHtml = 'Like what you see? Visit the ' +\n",
              "          '<a target=\"_blank\" href=https://colab.research.google.com/notebooks/data_table.ipynb>data table notebook</a>'\n",
              "          + ' to learn more about interactive tables.';\n",
              "        element.innerHTML = '';\n",
              "        dataTable['output_type'] = 'display_data';\n",
              "        await google.colab.output.renderOutput(dataTable, element);\n",
              "        const docLink = document.createElement('div');\n",
              "        docLink.innerHTML = docLinkHtml;\n",
              "        element.appendChild(docLink);\n",
              "      }\n",
              "    </script>\n",
              "  </div>\n",
              "\n",
              "\n",
              "<div id=\"df-27100e3c-e0d5-48e5-9cda-d57f52d8b463\">\n",
              "  <button class=\"colab-df-quickchart\" onclick=\"quickchart('df-27100e3c-e0d5-48e5-9cda-d57f52d8b463')\"\n",
              "            title=\"Suggest charts\"\n",
              "            style=\"display:none;\">\n",
              "\n",
              "<svg xmlns=\"http://www.w3.org/2000/svg\" height=\"24px\"viewBox=\"0 0 24 24\"\n",
              "     width=\"24px\">\n",
              "    <g>\n",
              "        <path d=\"M19 3H5c-1.1 0-2 .9-2 2v14c0 1.1.9 2 2 2h14c1.1 0 2-.9 2-2V5c0-1.1-.9-2-2-2zM9 17H7v-7h2v7zm4 0h-2V7h2v10zm4 0h-2v-4h2v4z\"/>\n",
              "    </g>\n",
              "</svg>\n",
              "  </button>\n",
              "\n",
              "<style>\n",
              "  .colab-df-quickchart {\n",
              "      --bg-color: #E8F0FE;\n",
              "      --fill-color: #1967D2;\n",
              "      --hover-bg-color: #E2EBFA;\n",
              "      --hover-fill-color: #174EA6;\n",
              "      --disabled-fill-color: #AAA;\n",
              "      --disabled-bg-color: #DDD;\n",
              "  }\n",
              "\n",
              "  [theme=dark] .colab-df-quickchart {\n",
              "      --bg-color: #3B4455;\n",
              "      --fill-color: #D2E3FC;\n",
              "      --hover-bg-color: #434B5C;\n",
              "      --hover-fill-color: #FFFFFF;\n",
              "      --disabled-bg-color: #3B4455;\n",
              "      --disabled-fill-color: #666;\n",
              "  }\n",
              "\n",
              "  .colab-df-quickchart {\n",
              "    background-color: var(--bg-color);\n",
              "    border: none;\n",
              "    border-radius: 50%;\n",
              "    cursor: pointer;\n",
              "    display: none;\n",
              "    fill: var(--fill-color);\n",
              "    height: 32px;\n",
              "    padding: 0;\n",
              "    width: 32px;\n",
              "  }\n",
              "\n",
              "  .colab-df-quickchart:hover {\n",
              "    background-color: var(--hover-bg-color);\n",
              "    box-shadow: 0 1px 2px rgba(60, 64, 67, 0.3), 0 1px 3px 1px rgba(60, 64, 67, 0.15);\n",
              "    fill: var(--button-hover-fill-color);\n",
              "  }\n",
              "\n",
              "  .colab-df-quickchart-complete:disabled,\n",
              "  .colab-df-quickchart-complete:disabled:hover {\n",
              "    background-color: var(--disabled-bg-color);\n",
              "    fill: var(--disabled-fill-color);\n",
              "    box-shadow: none;\n",
              "  }\n",
              "\n",
              "  .colab-df-spinner {\n",
              "    border: 2px solid var(--fill-color);\n",
              "    border-color: transparent;\n",
              "    border-bottom-color: var(--fill-color);\n",
              "    animation:\n",
              "      spin 1s steps(1) infinite;\n",
              "  }\n",
              "\n",
              "  @keyframes spin {\n",
              "    0% {\n",
              "      border-color: transparent;\n",
              "      border-bottom-color: var(--fill-color);\n",
              "      border-left-color: var(--fill-color);\n",
              "    }\n",
              "    20% {\n",
              "      border-color: transparent;\n",
              "      border-left-color: var(--fill-color);\n",
              "      border-top-color: var(--fill-color);\n",
              "    }\n",
              "    30% {\n",
              "      border-color: transparent;\n",
              "      border-left-color: var(--fill-color);\n",
              "      border-top-color: var(--fill-color);\n",
              "      border-right-color: var(--fill-color);\n",
              "    }\n",
              "    40% {\n",
              "      border-color: transparent;\n",
              "      border-right-color: var(--fill-color);\n",
              "      border-top-color: var(--fill-color);\n",
              "    }\n",
              "    60% {\n",
              "      border-color: transparent;\n",
              "      border-right-color: var(--fill-color);\n",
              "    }\n",
              "    80% {\n",
              "      border-color: transparent;\n",
              "      border-right-color: var(--fill-color);\n",
              "      border-bottom-color: var(--fill-color);\n",
              "    }\n",
              "    90% {\n",
              "      border-color: transparent;\n",
              "      border-bottom-color: var(--fill-color);\n",
              "    }\n",
              "  }\n",
              "</style>\n",
              "\n",
              "  <script>\n",
              "    async function quickchart(key) {\n",
              "      const quickchartButtonEl =\n",
              "        document.querySelector('#' + key + ' button');\n",
              "      quickchartButtonEl.disabled = true;  // To prevent multiple clicks.\n",
              "      quickchartButtonEl.classList.add('colab-df-spinner');\n",
              "      try {\n",
              "        const charts = await google.colab.kernel.invokeFunction(\n",
              "            'suggestCharts', [key], {});\n",
              "      } catch (error) {\n",
              "        console.error('Error during call to suggestCharts:', error);\n",
              "      }\n",
              "      quickchartButtonEl.classList.remove('colab-df-spinner');\n",
              "      quickchartButtonEl.classList.add('colab-df-quickchart-complete');\n",
              "    }\n",
              "    (() => {\n",
              "      let quickchartButtonEl =\n",
              "        document.querySelector('#df-27100e3c-e0d5-48e5-9cda-d57f52d8b463 button');\n",
              "      quickchartButtonEl.style.display =\n",
              "        google.colab.kernel.accessAllowed ? 'block' : 'none';\n",
              "    })();\n",
              "  </script>\n",
              "</div>\n",
              "\n",
              "    </div>\n",
              "  </div>\n"
            ],
            "application/vnd.google.colaboratory.intrinsic+json": {
              "type": "dataframe",
              "variable_name": "df",
              "summary": "{\n  \"name\": \"df\",\n  \"rows\": 5110,\n  \"fields\": [\n    {\n      \"column\": \"id\",\n      \"properties\": {\n        \"dtype\": \"number\",\n        \"std\": 21161,\n        \"min\": 67,\n        \"max\": 72940,\n        \"num_unique_values\": 5110,\n        \"samples\": [\n          40041,\n          55244,\n          70992\n        ],\n        \"semantic_type\": \"\",\n        \"description\": \"\"\n      }\n    },\n    {\n      \"column\": \"gender\",\n      \"properties\": {\n        \"dtype\": \"category\",\n        \"num_unique_values\": 3,\n        \"samples\": [\n          \"Male\",\n          \"Female\",\n          \"Other\"\n        ],\n        \"semantic_type\": \"\",\n        \"description\": \"\"\n      }\n    },\n    {\n      \"column\": \"age\",\n      \"properties\": {\n        \"dtype\": \"number\",\n        \"std\": 22.61264672311352,\n        \"min\": 0.08,\n        \"max\": 82.0,\n        \"num_unique_values\": 104,\n        \"samples\": [\n          45.0,\n          24.0,\n          33.0\n        ],\n        \"semantic_type\": \"\",\n        \"description\": \"\"\n      }\n    },\n    {\n      \"column\": \"hypertension\",\n      \"properties\": {\n        \"dtype\": \"number\",\n        \"std\": 0,\n        \"min\": 0,\n        \"max\": 1,\n        \"num_unique_values\": 2,\n        \"samples\": [\n          1,\n          0\n        ],\n        \"semantic_type\": \"\",\n        \"description\": \"\"\n      }\n    },\n    {\n      \"column\": \"heart_disease\",\n      \"properties\": {\n        \"dtype\": \"number\",\n        \"std\": 0,\n        \"min\": 0,\n        \"max\": 1,\n        \"num_unique_values\": 2,\n        \"samples\": [\n          0,\n          1\n        ],\n        \"semantic_type\": \"\",\n        \"description\": \"\"\n      }\n    },\n    {\n      \"column\": \"ever_married\",\n      \"properties\": {\n        \"dtype\": \"category\",\n        \"num_unique_values\": 2,\n        \"samples\": [\n          \"No\",\n          \"Yes\"\n        ],\n        \"semantic_type\": \"\",\n        \"description\": \"\"\n      }\n    },\n    {\n      \"column\": \"work_type\",\n      \"properties\": {\n        \"dtype\": \"category\",\n        \"num_unique_values\": 5,\n        \"samples\": [\n          \"Self-employed\",\n          \"Never_worked\"\n        ],\n        \"semantic_type\": \"\",\n        \"description\": \"\"\n      }\n    },\n    {\n      \"column\": \"Residence_type\",\n      \"properties\": {\n        \"dtype\": \"category\",\n        \"num_unique_values\": 2,\n        \"samples\": [\n          \"Rural\",\n          \"Urban\"\n        ],\n        \"semantic_type\": \"\",\n        \"description\": \"\"\n      }\n    },\n    {\n      \"column\": \"avg_glucose_level\",\n      \"properties\": {\n        \"dtype\": \"number\",\n        \"std\": 45.28356015058203,\n        \"min\": 55.12,\n        \"max\": 271.74,\n        \"num_unique_values\": 3979,\n        \"samples\": [\n          178.29,\n          156.69\n        ],\n        \"semantic_type\": \"\",\n        \"description\": \"\"\n      }\n    },\n    {\n      \"column\": \"bmi\",\n      \"properties\": {\n        \"dtype\": \"number\",\n        \"std\": 7.854066729680158,\n        \"min\": 10.3,\n        \"max\": 97.6,\n        \"num_unique_values\": 418,\n        \"samples\": [\n          49.5,\n          18.5\n        ],\n        \"semantic_type\": \"\",\n        \"description\": \"\"\n      }\n    },\n    {\n      \"column\": \"smoking_status\",\n      \"properties\": {\n        \"dtype\": \"category\",\n        \"num_unique_values\": 4,\n        \"samples\": [\n          \"never smoked\",\n          \"Unknown\"\n        ],\n        \"semantic_type\": \"\",\n        \"description\": \"\"\n      }\n    },\n    {\n      \"column\": \"stroke\",\n      \"properties\": {\n        \"dtype\": \"number\",\n        \"std\": 0,\n        \"min\": 0,\n        \"max\": 1,\n        \"num_unique_values\": 2,\n        \"samples\": [\n          0,\n          1\n        ],\n        \"semantic_type\": \"\",\n        \"description\": \"\"\n      }\n    }\n  ]\n}"
            }
          },
          "metadata": {},
          "execution_count": 4
        }
      ]
    },
    {
      "cell_type": "markdown",
      "source": [
        "# Data Cleaning"
      ],
      "metadata": {
        "id": "a1XzPk-2JrEq"
      }
    },
    {
      "cell_type": "code",
      "source": [
        "df.info()"
      ],
      "metadata": {
        "colab": {
          "base_uri": "https://localhost:8080/"
        },
        "id": "Uft8AQS2F0b2",
        "outputId": "d819a796-0a09-4b92-8cb9-4948f7e75b3e"
      },
      "execution_count": null,
      "outputs": [
        {
          "output_type": "stream",
          "name": "stdout",
          "text": [
            "<class 'pandas.core.frame.DataFrame'>\n",
            "RangeIndex: 5110 entries, 0 to 5109\n",
            "Data columns (total 12 columns):\n",
            " #   Column             Non-Null Count  Dtype  \n",
            "---  ------             --------------  -----  \n",
            " 0   id                 5110 non-null   int64  \n",
            " 1   gender             5110 non-null   object \n",
            " 2   age                5110 non-null   float64\n",
            " 3   hypertension       5110 non-null   int64  \n",
            " 4   heart_disease      5110 non-null   int64  \n",
            " 5   ever_married       5110 non-null   object \n",
            " 6   work_type          5110 non-null   object \n",
            " 7   Residence_type     5110 non-null   object \n",
            " 8   avg_glucose_level  5110 non-null   float64\n",
            " 9   bmi                4909 non-null   float64\n",
            " 10  smoking_status     5110 non-null   object \n",
            " 11  stroke             5110 non-null   int64  \n",
            "dtypes: float64(3), int64(4), object(5)\n",
            "memory usage: 479.2+ KB\n"
          ]
        }
      ]
    },
    {
      "cell_type": "code",
      "source": [
        "def calculate_nan_percentage(df):\n",
        "  # Get the number of rows in the DataFrame\n",
        "  total_rows = len(df)\n",
        "\n",
        "  # Calculate the number of NaN values in each column\n",
        "  missing_values = df.isnull().sum()\n",
        "\n",
        "  # Calculate the percentage of NaN values in each column\n",
        "  percentage_missing =(missing_values / total_rows) * 100\n",
        "\n",
        "  return percentage_missing"
      ],
      "metadata": {
        "id": "lBVkg8McF0eu"
      },
      "execution_count": null,
      "outputs": []
    },
    {
      "cell_type": "code",
      "source": [
        "calculate_nan_percentage(df)"
      ],
      "metadata": {
        "colab": {
          "base_uri": "https://localhost:8080/",
          "height": 460
        },
        "id": "Ik2ybUPkF0hW",
        "outputId": "e5ffb987-0440-4171-e425-995e44ed6d31"
      },
      "execution_count": null,
      "outputs": [
        {
          "output_type": "execute_result",
          "data": {
            "text/plain": [
              "id                   0.000000\n",
              "gender               0.000000\n",
              "age                  0.000000\n",
              "hypertension         0.000000\n",
              "heart_disease        0.000000\n",
              "ever_married         0.000000\n",
              "work_type            0.000000\n",
              "Residence_type       0.000000\n",
              "avg_glucose_level    0.000000\n",
              "bmi                  3.933464\n",
              "smoking_status       0.000000\n",
              "stroke               0.000000\n",
              "dtype: float64"
            ],
            "text/html": [
              "<div>\n",
              "<style scoped>\n",
              "    .dataframe tbody tr th:only-of-type {\n",
              "        vertical-align: middle;\n",
              "    }\n",
              "\n",
              "    .dataframe tbody tr th {\n",
              "        vertical-align: top;\n",
              "    }\n",
              "\n",
              "    .dataframe thead th {\n",
              "        text-align: right;\n",
              "    }\n",
              "</style>\n",
              "<table border=\"1\" class=\"dataframe\">\n",
              "  <thead>\n",
              "    <tr style=\"text-align: right;\">\n",
              "      <th></th>\n",
              "      <th>0</th>\n",
              "    </tr>\n",
              "  </thead>\n",
              "  <tbody>\n",
              "    <tr>\n",
              "      <th>id</th>\n",
              "      <td>0.000000</td>\n",
              "    </tr>\n",
              "    <tr>\n",
              "      <th>gender</th>\n",
              "      <td>0.000000</td>\n",
              "    </tr>\n",
              "    <tr>\n",
              "      <th>age</th>\n",
              "      <td>0.000000</td>\n",
              "    </tr>\n",
              "    <tr>\n",
              "      <th>hypertension</th>\n",
              "      <td>0.000000</td>\n",
              "    </tr>\n",
              "    <tr>\n",
              "      <th>heart_disease</th>\n",
              "      <td>0.000000</td>\n",
              "    </tr>\n",
              "    <tr>\n",
              "      <th>ever_married</th>\n",
              "      <td>0.000000</td>\n",
              "    </tr>\n",
              "    <tr>\n",
              "      <th>work_type</th>\n",
              "      <td>0.000000</td>\n",
              "    </tr>\n",
              "    <tr>\n",
              "      <th>Residence_type</th>\n",
              "      <td>0.000000</td>\n",
              "    </tr>\n",
              "    <tr>\n",
              "      <th>avg_glucose_level</th>\n",
              "      <td>0.000000</td>\n",
              "    </tr>\n",
              "    <tr>\n",
              "      <th>bmi</th>\n",
              "      <td>3.933464</td>\n",
              "    </tr>\n",
              "    <tr>\n",
              "      <th>smoking_status</th>\n",
              "      <td>0.000000</td>\n",
              "    </tr>\n",
              "    <tr>\n",
              "      <th>stroke</th>\n",
              "      <td>0.000000</td>\n",
              "    </tr>\n",
              "  </tbody>\n",
              "</table>\n",
              "</div><br><label><b>dtype:</b> float64</label>"
            ]
          },
          "metadata": {},
          "execution_count": 7
        }
      ]
    },
    {
      "cell_type": "code",
      "source": [
        "df['bmi'].describe()"
      ],
      "metadata": {
        "colab": {
          "base_uri": "https://localhost:8080/",
          "height": 335
        },
        "id": "VwAL0RWMF0kG",
        "outputId": "05e319e5-54df-4ca0-9d29-5b6ca55014a6"
      },
      "execution_count": null,
      "outputs": [
        {
          "output_type": "execute_result",
          "data": {
            "text/plain": [
              "count    4909.000000\n",
              "mean       28.893237\n",
              "std         7.854067\n",
              "min        10.300000\n",
              "25%        23.500000\n",
              "50%        28.100000\n",
              "75%        33.100000\n",
              "max        97.600000\n",
              "Name: bmi, dtype: float64"
            ],
            "text/html": [
              "<div>\n",
              "<style scoped>\n",
              "    .dataframe tbody tr th:only-of-type {\n",
              "        vertical-align: middle;\n",
              "    }\n",
              "\n",
              "    .dataframe tbody tr th {\n",
              "        vertical-align: top;\n",
              "    }\n",
              "\n",
              "    .dataframe thead th {\n",
              "        text-align: right;\n",
              "    }\n",
              "</style>\n",
              "<table border=\"1\" class=\"dataframe\">\n",
              "  <thead>\n",
              "    <tr style=\"text-align: right;\">\n",
              "      <th></th>\n",
              "      <th>bmi</th>\n",
              "    </tr>\n",
              "  </thead>\n",
              "  <tbody>\n",
              "    <tr>\n",
              "      <th>count</th>\n",
              "      <td>4909.000000</td>\n",
              "    </tr>\n",
              "    <tr>\n",
              "      <th>mean</th>\n",
              "      <td>28.893237</td>\n",
              "    </tr>\n",
              "    <tr>\n",
              "      <th>std</th>\n",
              "      <td>7.854067</td>\n",
              "    </tr>\n",
              "    <tr>\n",
              "      <th>min</th>\n",
              "      <td>10.300000</td>\n",
              "    </tr>\n",
              "    <tr>\n",
              "      <th>25%</th>\n",
              "      <td>23.500000</td>\n",
              "    </tr>\n",
              "    <tr>\n",
              "      <th>50%</th>\n",
              "      <td>28.100000</td>\n",
              "    </tr>\n",
              "    <tr>\n",
              "      <th>75%</th>\n",
              "      <td>33.100000</td>\n",
              "    </tr>\n",
              "    <tr>\n",
              "      <th>max</th>\n",
              "      <td>97.600000</td>\n",
              "    </tr>\n",
              "  </tbody>\n",
              "</table>\n",
              "</div><br><label><b>dtype:</b> float64</label>"
            ]
          },
          "metadata": {},
          "execution_count": 8
        }
      ]
    },
    {
      "cell_type": "code",
      "source": [
        "# fill null in bmi with mean value\n",
        "mean = df.bmi.mean()\n",
        "df['bmi'] = df['bmi'].fillna(mean)"
      ],
      "metadata": {
        "id": "vIfuOOd8F0m3"
      },
      "execution_count": null,
      "outputs": []
    },
    {
      "cell_type": "code",
      "source": [
        "calculate_nan_percentage(df)"
      ],
      "metadata": {
        "colab": {
          "base_uri": "https://localhost:8080/",
          "height": 460
        },
        "id": "ayRpjTrgF0pn",
        "outputId": "2cfe662f-bfd2-4975-fd6a-45cd0e26ba14"
      },
      "execution_count": null,
      "outputs": [
        {
          "output_type": "execute_result",
          "data": {
            "text/plain": [
              "id                   0.0\n",
              "gender               0.0\n",
              "age                  0.0\n",
              "hypertension         0.0\n",
              "heart_disease        0.0\n",
              "ever_married         0.0\n",
              "work_type            0.0\n",
              "Residence_type       0.0\n",
              "avg_glucose_level    0.0\n",
              "bmi                  0.0\n",
              "smoking_status       0.0\n",
              "stroke               0.0\n",
              "dtype: float64"
            ],
            "text/html": [
              "<div>\n",
              "<style scoped>\n",
              "    .dataframe tbody tr th:only-of-type {\n",
              "        vertical-align: middle;\n",
              "    }\n",
              "\n",
              "    .dataframe tbody tr th {\n",
              "        vertical-align: top;\n",
              "    }\n",
              "\n",
              "    .dataframe thead th {\n",
              "        text-align: right;\n",
              "    }\n",
              "</style>\n",
              "<table border=\"1\" class=\"dataframe\">\n",
              "  <thead>\n",
              "    <tr style=\"text-align: right;\">\n",
              "      <th></th>\n",
              "      <th>0</th>\n",
              "    </tr>\n",
              "  </thead>\n",
              "  <tbody>\n",
              "    <tr>\n",
              "      <th>id</th>\n",
              "      <td>0.0</td>\n",
              "    </tr>\n",
              "    <tr>\n",
              "      <th>gender</th>\n",
              "      <td>0.0</td>\n",
              "    </tr>\n",
              "    <tr>\n",
              "      <th>age</th>\n",
              "      <td>0.0</td>\n",
              "    </tr>\n",
              "    <tr>\n",
              "      <th>hypertension</th>\n",
              "      <td>0.0</td>\n",
              "    </tr>\n",
              "    <tr>\n",
              "      <th>heart_disease</th>\n",
              "      <td>0.0</td>\n",
              "    </tr>\n",
              "    <tr>\n",
              "      <th>ever_married</th>\n",
              "      <td>0.0</td>\n",
              "    </tr>\n",
              "    <tr>\n",
              "      <th>work_type</th>\n",
              "      <td>0.0</td>\n",
              "    </tr>\n",
              "    <tr>\n",
              "      <th>Residence_type</th>\n",
              "      <td>0.0</td>\n",
              "    </tr>\n",
              "    <tr>\n",
              "      <th>avg_glucose_level</th>\n",
              "      <td>0.0</td>\n",
              "    </tr>\n",
              "    <tr>\n",
              "      <th>bmi</th>\n",
              "      <td>0.0</td>\n",
              "    </tr>\n",
              "    <tr>\n",
              "      <th>smoking_status</th>\n",
              "      <td>0.0</td>\n",
              "    </tr>\n",
              "    <tr>\n",
              "      <th>stroke</th>\n",
              "      <td>0.0</td>\n",
              "    </tr>\n",
              "  </tbody>\n",
              "</table>\n",
              "</div><br><label><b>dtype:</b> float64</label>"
            ]
          },
          "metadata": {},
          "execution_count": 10
        }
      ]
    },
    {
      "cell_type": "code",
      "source": [
        "df.info()"
      ],
      "metadata": {
        "colab": {
          "base_uri": "https://localhost:8080/"
        },
        "id": "nqxsve9LF0sY",
        "outputId": "be6f7bbd-24fa-4fd7-968b-6e944e1321ce"
      },
      "execution_count": null,
      "outputs": [
        {
          "output_type": "stream",
          "name": "stdout",
          "text": [
            "<class 'pandas.core.frame.DataFrame'>\n",
            "RangeIndex: 5110 entries, 0 to 5109\n",
            "Data columns (total 12 columns):\n",
            " #   Column             Non-Null Count  Dtype  \n",
            "---  ------             --------------  -----  \n",
            " 0   id                 5110 non-null   int64  \n",
            " 1   gender             5110 non-null   object \n",
            " 2   age                5110 non-null   float64\n",
            " 3   hypertension       5110 non-null   int64  \n",
            " 4   heart_disease      5110 non-null   int64  \n",
            " 5   ever_married       5110 non-null   object \n",
            " 6   work_type          5110 non-null   object \n",
            " 7   Residence_type     5110 non-null   object \n",
            " 8   avg_glucose_level  5110 non-null   float64\n",
            " 9   bmi                5110 non-null   float64\n",
            " 10  smoking_status     5110 non-null   object \n",
            " 11  stroke             5110 non-null   int64  \n",
            "dtypes: float64(3), int64(4), object(5)\n",
            "memory usage: 479.2+ KB\n"
          ]
        }
      ]
    },
    {
      "cell_type": "code",
      "source": [
        "df['age'] = df['age'].astype('int')"
      ],
      "metadata": {
        "id": "To-YPaMxF0u_"
      },
      "execution_count": null,
      "outputs": []
    },
    {
      "cell_type": "code",
      "source": [
        "df.nunique(axis = 0)"
      ],
      "metadata": {
        "colab": {
          "base_uri": "https://localhost:8080/",
          "height": 460
        },
        "id": "hFMuJDQXGUe1",
        "outputId": "23a2dd72-c601-46d3-9489-4875b29e1814"
      },
      "execution_count": null,
      "outputs": [
        {
          "output_type": "execute_result",
          "data": {
            "text/plain": [
              "id                   5110\n",
              "gender                  3\n",
              "age                    83\n",
              "hypertension            2\n",
              "heart_disease           2\n",
              "ever_married            2\n",
              "work_type               5\n",
              "Residence_type          2\n",
              "avg_glucose_level    3979\n",
              "bmi                   419\n",
              "smoking_status          4\n",
              "stroke                  2\n",
              "dtype: int64"
            ],
            "text/html": [
              "<div>\n",
              "<style scoped>\n",
              "    .dataframe tbody tr th:only-of-type {\n",
              "        vertical-align: middle;\n",
              "    }\n",
              "\n",
              "    .dataframe tbody tr th {\n",
              "        vertical-align: top;\n",
              "    }\n",
              "\n",
              "    .dataframe thead th {\n",
              "        text-align: right;\n",
              "    }\n",
              "</style>\n",
              "<table border=\"1\" class=\"dataframe\">\n",
              "  <thead>\n",
              "    <tr style=\"text-align: right;\">\n",
              "      <th></th>\n",
              "      <th>0</th>\n",
              "    </tr>\n",
              "  </thead>\n",
              "  <tbody>\n",
              "    <tr>\n",
              "      <th>id</th>\n",
              "      <td>5110</td>\n",
              "    </tr>\n",
              "    <tr>\n",
              "      <th>gender</th>\n",
              "      <td>3</td>\n",
              "    </tr>\n",
              "    <tr>\n",
              "      <th>age</th>\n",
              "      <td>83</td>\n",
              "    </tr>\n",
              "    <tr>\n",
              "      <th>hypertension</th>\n",
              "      <td>2</td>\n",
              "    </tr>\n",
              "    <tr>\n",
              "      <th>heart_disease</th>\n",
              "      <td>2</td>\n",
              "    </tr>\n",
              "    <tr>\n",
              "      <th>ever_married</th>\n",
              "      <td>2</td>\n",
              "    </tr>\n",
              "    <tr>\n",
              "      <th>work_type</th>\n",
              "      <td>5</td>\n",
              "    </tr>\n",
              "    <tr>\n",
              "      <th>Residence_type</th>\n",
              "      <td>2</td>\n",
              "    </tr>\n",
              "    <tr>\n",
              "      <th>avg_glucose_level</th>\n",
              "      <td>3979</td>\n",
              "    </tr>\n",
              "    <tr>\n",
              "      <th>bmi</th>\n",
              "      <td>419</td>\n",
              "    </tr>\n",
              "    <tr>\n",
              "      <th>smoking_status</th>\n",
              "      <td>4</td>\n",
              "    </tr>\n",
              "    <tr>\n",
              "      <th>stroke</th>\n",
              "      <td>2</td>\n",
              "    </tr>\n",
              "  </tbody>\n",
              "</table>\n",
              "</div><br><label><b>dtype:</b> int64</label>"
            ]
          },
          "metadata": {},
          "execution_count": 13
        }
      ]
    },
    {
      "cell_type": "code",
      "source": [
        "df['gender'].value_counts()"
      ],
      "metadata": {
        "colab": {
          "base_uri": "https://localhost:8080/",
          "height": 209
        },
        "id": "MEyj-otaGUhh",
        "outputId": "77fb73bb-8947-4956-9a71-c854bbe6c1b5"
      },
      "execution_count": null,
      "outputs": [
        {
          "output_type": "execute_result",
          "data": {
            "text/plain": [
              "gender\n",
              "Female    2994\n",
              "Male      2115\n",
              "Other        1\n",
              "Name: count, dtype: int64"
            ],
            "text/html": [
              "<div>\n",
              "<style scoped>\n",
              "    .dataframe tbody tr th:only-of-type {\n",
              "        vertical-align: middle;\n",
              "    }\n",
              "\n",
              "    .dataframe tbody tr th {\n",
              "        vertical-align: top;\n",
              "    }\n",
              "\n",
              "    .dataframe thead th {\n",
              "        text-align: right;\n",
              "    }\n",
              "</style>\n",
              "<table border=\"1\" class=\"dataframe\">\n",
              "  <thead>\n",
              "    <tr style=\"text-align: right;\">\n",
              "      <th></th>\n",
              "      <th>count</th>\n",
              "    </tr>\n",
              "    <tr>\n",
              "      <th>gender</th>\n",
              "      <th></th>\n",
              "    </tr>\n",
              "  </thead>\n",
              "  <tbody>\n",
              "    <tr>\n",
              "      <th>Female</th>\n",
              "      <td>2994</td>\n",
              "    </tr>\n",
              "    <tr>\n",
              "      <th>Male</th>\n",
              "      <td>2115</td>\n",
              "    </tr>\n",
              "    <tr>\n",
              "      <th>Other</th>\n",
              "      <td>1</td>\n",
              "    </tr>\n",
              "  </tbody>\n",
              "</table>\n",
              "</div><br><label><b>dtype:</b> int64</label>"
            ]
          },
          "metadata": {},
          "execution_count": 14
        }
      ]
    },
    {
      "cell_type": "code",
      "source": [
        "df['gender'] = df['gender'][df['gender']!='Other']"
      ],
      "metadata": {
        "id": "xxau29NBGUkW"
      },
      "execution_count": null,
      "outputs": []
    },
    {
      "cell_type": "code",
      "source": [
        "df['smoking_status'].value_counts()"
      ],
      "metadata": {
        "colab": {
          "base_uri": "https://localhost:8080/",
          "height": 241
        },
        "id": "GQYP6TgZGUm6",
        "outputId": "3c6a674f-811d-4507-b373-d7b57a9c2019"
      },
      "execution_count": null,
      "outputs": [
        {
          "output_type": "execute_result",
          "data": {
            "text/plain": [
              "smoking_status\n",
              "never smoked       1892\n",
              "Unknown            1544\n",
              "formerly smoked     885\n",
              "smokes              789\n",
              "Name: count, dtype: int64"
            ],
            "text/html": [
              "<div>\n",
              "<style scoped>\n",
              "    .dataframe tbody tr th:only-of-type {\n",
              "        vertical-align: middle;\n",
              "    }\n",
              "\n",
              "    .dataframe tbody tr th {\n",
              "        vertical-align: top;\n",
              "    }\n",
              "\n",
              "    .dataframe thead th {\n",
              "        text-align: right;\n",
              "    }\n",
              "</style>\n",
              "<table border=\"1\" class=\"dataframe\">\n",
              "  <thead>\n",
              "    <tr style=\"text-align: right;\">\n",
              "      <th></th>\n",
              "      <th>count</th>\n",
              "    </tr>\n",
              "    <tr>\n",
              "      <th>smoking_status</th>\n",
              "      <th></th>\n",
              "    </tr>\n",
              "  </thead>\n",
              "  <tbody>\n",
              "    <tr>\n",
              "      <th>never smoked</th>\n",
              "      <td>1892</td>\n",
              "    </tr>\n",
              "    <tr>\n",
              "      <th>Unknown</th>\n",
              "      <td>1544</td>\n",
              "    </tr>\n",
              "    <tr>\n",
              "      <th>formerly smoked</th>\n",
              "      <td>885</td>\n",
              "    </tr>\n",
              "    <tr>\n",
              "      <th>smokes</th>\n",
              "      <td>789</td>\n",
              "    </tr>\n",
              "  </tbody>\n",
              "</table>\n",
              "</div><br><label><b>dtype:</b> int64</label>"
            ]
          },
          "metadata": {},
          "execution_count": 16
        }
      ]
    },
    {
      "cell_type": "code",
      "source": [
        "df.age.describe()"
      ],
      "metadata": {
        "colab": {
          "base_uri": "https://localhost:8080/",
          "height": 335
        },
        "id": "3J_ylOWlGUpY",
        "outputId": "48bb6505-a105-4b4f-8c69-2be99c8dde4a"
      },
      "execution_count": null,
      "outputs": [
        {
          "output_type": "execute_result",
          "data": {
            "text/plain": [
              "count    5110.000000\n",
              "mean       43.215264\n",
              "std        22.633866\n",
              "min         0.000000\n",
              "25%        25.000000\n",
              "50%        45.000000\n",
              "75%        61.000000\n",
              "max        82.000000\n",
              "Name: age, dtype: float64"
            ],
            "text/html": [
              "<div>\n",
              "<style scoped>\n",
              "    .dataframe tbody tr th:only-of-type {\n",
              "        vertical-align: middle;\n",
              "    }\n",
              "\n",
              "    .dataframe tbody tr th {\n",
              "        vertical-align: top;\n",
              "    }\n",
              "\n",
              "    .dataframe thead th {\n",
              "        text-align: right;\n",
              "    }\n",
              "</style>\n",
              "<table border=\"1\" class=\"dataframe\">\n",
              "  <thead>\n",
              "    <tr style=\"text-align: right;\">\n",
              "      <th></th>\n",
              "      <th>age</th>\n",
              "    </tr>\n",
              "  </thead>\n",
              "  <tbody>\n",
              "    <tr>\n",
              "      <th>count</th>\n",
              "      <td>5110.000000</td>\n",
              "    </tr>\n",
              "    <tr>\n",
              "      <th>mean</th>\n",
              "      <td>43.215264</td>\n",
              "    </tr>\n",
              "    <tr>\n",
              "      <th>std</th>\n",
              "      <td>22.633866</td>\n",
              "    </tr>\n",
              "    <tr>\n",
              "      <th>min</th>\n",
              "      <td>0.000000</td>\n",
              "    </tr>\n",
              "    <tr>\n",
              "      <th>25%</th>\n",
              "      <td>25.000000</td>\n",
              "    </tr>\n",
              "    <tr>\n",
              "      <th>50%</th>\n",
              "      <td>45.000000</td>\n",
              "    </tr>\n",
              "    <tr>\n",
              "      <th>75%</th>\n",
              "      <td>61.000000</td>\n",
              "    </tr>\n",
              "    <tr>\n",
              "      <th>max</th>\n",
              "      <td>82.000000</td>\n",
              "    </tr>\n",
              "  </tbody>\n",
              "</table>\n",
              "</div><br><label><b>dtype:</b> float64</label>"
            ]
          },
          "metadata": {},
          "execution_count": 15
        }
      ]
    },
    {
      "cell_type": "code",
      "source": [
        "(df['age'] == 0).sum()"
      ],
      "metadata": {
        "colab": {
          "base_uri": "https://localhost:8080/"
        },
        "id": "2hW1faEGGUsF",
        "outputId": "5f7d8bc5-45ba-4bfb-fe06-1aea46af9362"
      },
      "execution_count": null,
      "outputs": [
        {
          "output_type": "execute_result",
          "data": {
            "text/plain": [
              "43"
            ]
          },
          "metadata": {},
          "execution_count": 17
        }
      ]
    },
    {
      "cell_type": "code",
      "source": [
        "df['age'] = df['age'][df['age'] != 0]"
      ],
      "metadata": {
        "id": "3F8kjX9PGUus"
      },
      "execution_count": null,
      "outputs": []
    },
    {
      "cell_type": "code",
      "source": [
        "df.age.describe()"
      ],
      "metadata": {
        "colab": {
          "base_uri": "https://localhost:8080/",
          "height": 335
        },
        "id": "qHHn8JfJGUxV",
        "outputId": "05230104-0704-4a47-d548-37bc1851909f"
      },
      "execution_count": null,
      "outputs": [
        {
          "output_type": "execute_result",
          "data": {
            "text/plain": [
              "count    5067.000000\n",
              "mean       43.582001\n",
              "std        22.375297\n",
              "min         1.000000\n",
              "25%        26.000000\n",
              "50%        45.000000\n",
              "75%        61.000000\n",
              "max        82.000000\n",
              "Name: age, dtype: float64"
            ],
            "text/html": [
              "<div>\n",
              "<style scoped>\n",
              "    .dataframe tbody tr th:only-of-type {\n",
              "        vertical-align: middle;\n",
              "    }\n",
              "\n",
              "    .dataframe tbody tr th {\n",
              "        vertical-align: top;\n",
              "    }\n",
              "\n",
              "    .dataframe thead th {\n",
              "        text-align: right;\n",
              "    }\n",
              "</style>\n",
              "<table border=\"1\" class=\"dataframe\">\n",
              "  <thead>\n",
              "    <tr style=\"text-align: right;\">\n",
              "      <th></th>\n",
              "      <th>age</th>\n",
              "    </tr>\n",
              "  </thead>\n",
              "  <tbody>\n",
              "    <tr>\n",
              "      <th>count</th>\n",
              "      <td>5067.000000</td>\n",
              "    </tr>\n",
              "    <tr>\n",
              "      <th>mean</th>\n",
              "      <td>43.582001</td>\n",
              "    </tr>\n",
              "    <tr>\n",
              "      <th>std</th>\n",
              "      <td>22.375297</td>\n",
              "    </tr>\n",
              "    <tr>\n",
              "      <th>min</th>\n",
              "      <td>1.000000</td>\n",
              "    </tr>\n",
              "    <tr>\n",
              "      <th>25%</th>\n",
              "      <td>26.000000</td>\n",
              "    </tr>\n",
              "    <tr>\n",
              "      <th>50%</th>\n",
              "      <td>45.000000</td>\n",
              "    </tr>\n",
              "    <tr>\n",
              "      <th>75%</th>\n",
              "      <td>61.000000</td>\n",
              "    </tr>\n",
              "    <tr>\n",
              "      <th>max</th>\n",
              "      <td>82.000000</td>\n",
              "    </tr>\n",
              "  </tbody>\n",
              "</table>\n",
              "</div><br><label><b>dtype:</b> float64</label>"
            ]
          },
          "metadata": {},
          "execution_count": 19
        }
      ]
    },
    {
      "cell_type": "code",
      "source": [
        "df.dropna(inplace = True)"
      ],
      "metadata": {
        "id": "1YnNsGkSGU0A"
      },
      "execution_count": null,
      "outputs": []
    },
    {
      "cell_type": "markdown",
      "source": [
        "# Univariate Analysis\n"
      ],
      "metadata": {
        "id": "QZxG_FisKTJa"
      }
    },
    {
      "cell_type": "markdown",
      "source": [
        "Distribution of categorical variables"
      ],
      "metadata": {
        "id": "-yH2BD-qKaHW"
      }
    },
    {
      "cell_type": "code",
      "source": [
        "categorical_cols = df.select_dtypes(include=['object']).columns.tolist()\n",
        "\n",
        "# 2. Extract columns that have only two unique values (binary categorical features like 0, 1)\n",
        "binary_cols = [col for col in df.columns if df[col].nunique() <= 4]\n",
        "\n",
        "# 3. Combine both the object type columns and binary columns into one list\n",
        "all_categorical_cols = set(categorical_cols + binary_cols)\n",
        "\n",
        "# Print the final list of all categorical features, including binary ones\n",
        "print(\"Categorical features including binary ones:\", all_categorical_cols)"
      ],
      "metadata": {
        "colab": {
          "base_uri": "https://localhost:8080/"
        },
        "id": "NNhWqaFfGU2j",
        "outputId": "d9c73b26-6b34-4d79-e739-ceb2fb01adee"
      },
      "execution_count": null,
      "outputs": [
        {
          "output_type": "stream",
          "name": "stdout",
          "text": [
            "Categorical features including binary ones: {'gender', 'heart_disease', 'smoking_status', 'ever_married', 'work_type', 'hypertension', 'stroke', 'Residence_type'}\n"
          ]
        }
      ]
    },
    {
      "cell_type": "code",
      "source": [
        "import plotly.graph_objects as go\n",
        "from plotly.subplots import make_subplots\n",
        "\n",
        "def plot_barplots(data, columns, rows):\n",
        "\n",
        "    fig = make_subplots(rows=rows, cols=columns, subplot_titles=[f'Bar plot of {col}' for col in data.columns])\n",
        "\n",
        "    for i, column in enumerate(data.columns):\n",
        "        row = (i // columns) + 1\n",
        "        col = (i % columns) + 1\n",
        "        data_ = data[column].dropna().value_counts()  # Count the occurrences of each category\n",
        "\n",
        "        # Add bar plot\n",
        "        fig.add_trace(go.Bar(x=data_.index.astype(str), y=data_, name=f'{column} bar plot',\n",
        "                             marker=dict(color='rgba(50, 171, 96, 0.6)', line=dict(color='black', width=1))),\n",
        "                      row=row, col=col)\n",
        "\n",
        "    # Update layout\n",
        "    fig.update_layout(height=1000, width=1000, title_text=\"Bar Plots\", showlegend=False)\n",
        "    fig.show()\n"
      ],
      "metadata": {
        "id": "LLqv8F1PGU5f"
      },
      "execution_count": null,
      "outputs": []
    },
    {
      "cell_type": "code",
      "source": [
        "df[list(all_categorical_cols)].astype('object').describe()"
      ],
      "metadata": {
        "colab": {
          "base_uri": "https://localhost:8080/",
          "height": 175
        },
        "id": "vkxlGqCZF0xu",
        "outputId": "c313097d-8fbc-48e7-ca05-8aceaae10378"
      },
      "execution_count": null,
      "outputs": [
        {
          "output_type": "execute_result",
          "data": {
            "text/plain": [
              "        gender  heart_disease smoking_status ever_married work_type  \\\n",
              "count     5066           5066           5066         5066      5066   \n",
              "unique       2              2              4            2         5   \n",
              "top     Female              0   never smoked          Yes   Private   \n",
              "freq      2979           4790           1892         3353      2924   \n",
              "\n",
              "        hypertension  stroke Residence_type  \n",
              "count           5066    5066           5066  \n",
              "unique             2       2              2  \n",
              "top                0       0          Urban  \n",
              "freq            4568    4817           2573  "
            ],
            "text/html": [
              "\n",
              "  <div id=\"df-5449ea6c-3a44-4c37-9896-0082f8073bcf\" class=\"colab-df-container\">\n",
              "    <div>\n",
              "<style scoped>\n",
              "    .dataframe tbody tr th:only-of-type {\n",
              "        vertical-align: middle;\n",
              "    }\n",
              "\n",
              "    .dataframe tbody tr th {\n",
              "        vertical-align: top;\n",
              "    }\n",
              "\n",
              "    .dataframe thead th {\n",
              "        text-align: right;\n",
              "    }\n",
              "</style>\n",
              "<table border=\"1\" class=\"dataframe\">\n",
              "  <thead>\n",
              "    <tr style=\"text-align: right;\">\n",
              "      <th></th>\n",
              "      <th>gender</th>\n",
              "      <th>heart_disease</th>\n",
              "      <th>smoking_status</th>\n",
              "      <th>ever_married</th>\n",
              "      <th>work_type</th>\n",
              "      <th>hypertension</th>\n",
              "      <th>stroke</th>\n",
              "      <th>Residence_type</th>\n",
              "    </tr>\n",
              "  </thead>\n",
              "  <tbody>\n",
              "    <tr>\n",
              "      <th>count</th>\n",
              "      <td>5066</td>\n",
              "      <td>5066</td>\n",
              "      <td>5066</td>\n",
              "      <td>5066</td>\n",
              "      <td>5066</td>\n",
              "      <td>5066</td>\n",
              "      <td>5066</td>\n",
              "      <td>5066</td>\n",
              "    </tr>\n",
              "    <tr>\n",
              "      <th>unique</th>\n",
              "      <td>2</td>\n",
              "      <td>2</td>\n",
              "      <td>4</td>\n",
              "      <td>2</td>\n",
              "      <td>5</td>\n",
              "      <td>2</td>\n",
              "      <td>2</td>\n",
              "      <td>2</td>\n",
              "    </tr>\n",
              "    <tr>\n",
              "      <th>top</th>\n",
              "      <td>Female</td>\n",
              "      <td>0</td>\n",
              "      <td>never smoked</td>\n",
              "      <td>Yes</td>\n",
              "      <td>Private</td>\n",
              "      <td>0</td>\n",
              "      <td>0</td>\n",
              "      <td>Urban</td>\n",
              "    </tr>\n",
              "    <tr>\n",
              "      <th>freq</th>\n",
              "      <td>2979</td>\n",
              "      <td>4790</td>\n",
              "      <td>1892</td>\n",
              "      <td>3353</td>\n",
              "      <td>2924</td>\n",
              "      <td>4568</td>\n",
              "      <td>4817</td>\n",
              "      <td>2573</td>\n",
              "    </tr>\n",
              "  </tbody>\n",
              "</table>\n",
              "</div>\n",
              "    <div class=\"colab-df-buttons\">\n",
              "\n",
              "  <div class=\"colab-df-container\">\n",
              "    <button class=\"colab-df-convert\" onclick=\"convertToInteractive('df-5449ea6c-3a44-4c37-9896-0082f8073bcf')\"\n",
              "            title=\"Convert this dataframe to an interactive table.\"\n",
              "            style=\"display:none;\">\n",
              "\n",
              "  <svg xmlns=\"http://www.w3.org/2000/svg\" height=\"24px\" viewBox=\"0 -960 960 960\">\n",
              "    <path d=\"M120-120v-720h720v720H120Zm60-500h600v-160H180v160Zm220 220h160v-160H400v160Zm0 220h160v-160H400v160ZM180-400h160v-160H180v160Zm440 0h160v-160H620v160ZM180-180h160v-160H180v160Zm440 0h160v-160H620v160Z\"/>\n",
              "  </svg>\n",
              "    </button>\n",
              "\n",
              "  <style>\n",
              "    .colab-df-container {\n",
              "      display:flex;\n",
              "      gap: 12px;\n",
              "    }\n",
              "\n",
              "    .colab-df-convert {\n",
              "      background-color: #E8F0FE;\n",
              "      border: none;\n",
              "      border-radius: 50%;\n",
              "      cursor: pointer;\n",
              "      display: none;\n",
              "      fill: #1967D2;\n",
              "      height: 32px;\n",
              "      padding: 0 0 0 0;\n",
              "      width: 32px;\n",
              "    }\n",
              "\n",
              "    .colab-df-convert:hover {\n",
              "      background-color: #E2EBFA;\n",
              "      box-shadow: 0px 1px 2px rgba(60, 64, 67, 0.3), 0px 1px 3px 1px rgba(60, 64, 67, 0.15);\n",
              "      fill: #174EA6;\n",
              "    }\n",
              "\n",
              "    .colab-df-buttons div {\n",
              "      margin-bottom: 4px;\n",
              "    }\n",
              "\n",
              "    [theme=dark] .colab-df-convert {\n",
              "      background-color: #3B4455;\n",
              "      fill: #D2E3FC;\n",
              "    }\n",
              "\n",
              "    [theme=dark] .colab-df-convert:hover {\n",
              "      background-color: #434B5C;\n",
              "      box-shadow: 0px 1px 3px 1px rgba(0, 0, 0, 0.15);\n",
              "      filter: drop-shadow(0px 1px 2px rgba(0, 0, 0, 0.3));\n",
              "      fill: #FFFFFF;\n",
              "    }\n",
              "  </style>\n",
              "\n",
              "    <script>\n",
              "      const buttonEl =\n",
              "        document.querySelector('#df-5449ea6c-3a44-4c37-9896-0082f8073bcf button.colab-df-convert');\n",
              "      buttonEl.style.display =\n",
              "        google.colab.kernel.accessAllowed ? 'block' : 'none';\n",
              "\n",
              "      async function convertToInteractive(key) {\n",
              "        const element = document.querySelector('#df-5449ea6c-3a44-4c37-9896-0082f8073bcf');\n",
              "        const dataTable =\n",
              "          await google.colab.kernel.invokeFunction('convertToInteractive',\n",
              "                                                    [key], {});\n",
              "        if (!dataTable) return;\n",
              "\n",
              "        const docLinkHtml = 'Like what you see? Visit the ' +\n",
              "          '<a target=\"_blank\" href=https://colab.research.google.com/notebooks/data_table.ipynb>data table notebook</a>'\n",
              "          + ' to learn more about interactive tables.';\n",
              "        element.innerHTML = '';\n",
              "        dataTable['output_type'] = 'display_data';\n",
              "        await google.colab.output.renderOutput(dataTable, element);\n",
              "        const docLink = document.createElement('div');\n",
              "        docLink.innerHTML = docLinkHtml;\n",
              "        element.appendChild(docLink);\n",
              "      }\n",
              "    </script>\n",
              "  </div>\n",
              "\n",
              "\n",
              "<div id=\"df-c6aa836e-f0f1-4874-ba8c-e22fe5080269\">\n",
              "  <button class=\"colab-df-quickchart\" onclick=\"quickchart('df-c6aa836e-f0f1-4874-ba8c-e22fe5080269')\"\n",
              "            title=\"Suggest charts\"\n",
              "            style=\"display:none;\">\n",
              "\n",
              "<svg xmlns=\"http://www.w3.org/2000/svg\" height=\"24px\"viewBox=\"0 0 24 24\"\n",
              "     width=\"24px\">\n",
              "    <g>\n",
              "        <path d=\"M19 3H5c-1.1 0-2 .9-2 2v14c0 1.1.9 2 2 2h14c1.1 0 2-.9 2-2V5c0-1.1-.9-2-2-2zM9 17H7v-7h2v7zm4 0h-2V7h2v10zm4 0h-2v-4h2v4z\"/>\n",
              "    </g>\n",
              "</svg>\n",
              "  </button>\n",
              "\n",
              "<style>\n",
              "  .colab-df-quickchart {\n",
              "      --bg-color: #E8F0FE;\n",
              "      --fill-color: #1967D2;\n",
              "      --hover-bg-color: #E2EBFA;\n",
              "      --hover-fill-color: #174EA6;\n",
              "      --disabled-fill-color: #AAA;\n",
              "      --disabled-bg-color: #DDD;\n",
              "  }\n",
              "\n",
              "  [theme=dark] .colab-df-quickchart {\n",
              "      --bg-color: #3B4455;\n",
              "      --fill-color: #D2E3FC;\n",
              "      --hover-bg-color: #434B5C;\n",
              "      --hover-fill-color: #FFFFFF;\n",
              "      --disabled-bg-color: #3B4455;\n",
              "      --disabled-fill-color: #666;\n",
              "  }\n",
              "\n",
              "  .colab-df-quickchart {\n",
              "    background-color: var(--bg-color);\n",
              "    border: none;\n",
              "    border-radius: 50%;\n",
              "    cursor: pointer;\n",
              "    display: none;\n",
              "    fill: var(--fill-color);\n",
              "    height: 32px;\n",
              "    padding: 0;\n",
              "    width: 32px;\n",
              "  }\n",
              "\n",
              "  .colab-df-quickchart:hover {\n",
              "    background-color: var(--hover-bg-color);\n",
              "    box-shadow: 0 1px 2px rgba(60, 64, 67, 0.3), 0 1px 3px 1px rgba(60, 64, 67, 0.15);\n",
              "    fill: var(--button-hover-fill-color);\n",
              "  }\n",
              "\n",
              "  .colab-df-quickchart-complete:disabled,\n",
              "  .colab-df-quickchart-complete:disabled:hover {\n",
              "    background-color: var(--disabled-bg-color);\n",
              "    fill: var(--disabled-fill-color);\n",
              "    box-shadow: none;\n",
              "  }\n",
              "\n",
              "  .colab-df-spinner {\n",
              "    border: 2px solid var(--fill-color);\n",
              "    border-color: transparent;\n",
              "    border-bottom-color: var(--fill-color);\n",
              "    animation:\n",
              "      spin 1s steps(1) infinite;\n",
              "  }\n",
              "\n",
              "  @keyframes spin {\n",
              "    0% {\n",
              "      border-color: transparent;\n",
              "      border-bottom-color: var(--fill-color);\n",
              "      border-left-color: var(--fill-color);\n",
              "    }\n",
              "    20% {\n",
              "      border-color: transparent;\n",
              "      border-left-color: var(--fill-color);\n",
              "      border-top-color: var(--fill-color);\n",
              "    }\n",
              "    30% {\n",
              "      border-color: transparent;\n",
              "      border-left-color: var(--fill-color);\n",
              "      border-top-color: var(--fill-color);\n",
              "      border-right-color: var(--fill-color);\n",
              "    }\n",
              "    40% {\n",
              "      border-color: transparent;\n",
              "      border-right-color: var(--fill-color);\n",
              "      border-top-color: var(--fill-color);\n",
              "    }\n",
              "    60% {\n",
              "      border-color: transparent;\n",
              "      border-right-color: var(--fill-color);\n",
              "    }\n",
              "    80% {\n",
              "      border-color: transparent;\n",
              "      border-right-color: var(--fill-color);\n",
              "      border-bottom-color: var(--fill-color);\n",
              "    }\n",
              "    90% {\n",
              "      border-color: transparent;\n",
              "      border-bottom-color: var(--fill-color);\n",
              "    }\n",
              "  }\n",
              "</style>\n",
              "\n",
              "  <script>\n",
              "    async function quickchart(key) {\n",
              "      const quickchartButtonEl =\n",
              "        document.querySelector('#' + key + ' button');\n",
              "      quickchartButtonEl.disabled = true;  // To prevent multiple clicks.\n",
              "      quickchartButtonEl.classList.add('colab-df-spinner');\n",
              "      try {\n",
              "        const charts = await google.colab.kernel.invokeFunction(\n",
              "            'suggestCharts', [key], {});\n",
              "      } catch (error) {\n",
              "        console.error('Error during call to suggestCharts:', error);\n",
              "      }\n",
              "      quickchartButtonEl.classList.remove('colab-df-spinner');\n",
              "      quickchartButtonEl.classList.add('colab-df-quickchart-complete');\n",
              "    }\n",
              "    (() => {\n",
              "      let quickchartButtonEl =\n",
              "        document.querySelector('#df-c6aa836e-f0f1-4874-ba8c-e22fe5080269 button');\n",
              "      quickchartButtonEl.style.display =\n",
              "        google.colab.kernel.accessAllowed ? 'block' : 'none';\n",
              "    })();\n",
              "  </script>\n",
              "</div>\n",
              "\n",
              "    </div>\n",
              "  </div>\n"
            ],
            "application/vnd.google.colaboratory.intrinsic+json": {
              "type": "dataframe",
              "summary": "{\n  \"name\": \"df[list(all_categorical_cols)]\",\n  \"rows\": 4,\n  \"fields\": [\n    {\n      \"column\": \"gender\",\n      \"properties\": {\n        \"dtype\": \"string\",\n        \"num_unique_values\": 4,\n        \"samples\": [\n          2,\n          \"2979\",\n          \"5066\"\n        ],\n        \"semantic_type\": \"\",\n        \"description\": \"\"\n      }\n    },\n    {\n      \"column\": \"heart_disease\",\n      \"properties\": {\n        \"dtype\": \"number\",\n        \"std\": 2846,\n        \"min\": 0,\n        \"max\": 5066,\n        \"num_unique_values\": 4,\n        \"samples\": [\n          2,\n          4790,\n          5066\n        ],\n        \"semantic_type\": \"\",\n        \"description\": \"\"\n      }\n    },\n    {\n      \"column\": \"smoking_status\",\n      \"properties\": {\n        \"dtype\": \"string\",\n        \"num_unique_values\": 4,\n        \"samples\": [\n          4,\n          \"1892\",\n          \"5066\"\n        ],\n        \"semantic_type\": \"\",\n        \"description\": \"\"\n      }\n    },\n    {\n      \"column\": \"ever_married\",\n      \"properties\": {\n        \"dtype\": \"string\",\n        \"num_unique_values\": 4,\n        \"samples\": [\n          2,\n          \"3353\",\n          \"5066\"\n        ],\n        \"semantic_type\": \"\",\n        \"description\": \"\"\n      }\n    },\n    {\n      \"column\": \"work_type\",\n      \"properties\": {\n        \"dtype\": \"string\",\n        \"num_unique_values\": 4,\n        \"samples\": [\n          5,\n          \"2924\",\n          \"5066\"\n        ],\n        \"semantic_type\": \"\",\n        \"description\": \"\"\n      }\n    },\n    {\n      \"column\": \"hypertension\",\n      \"properties\": {\n        \"dtype\": \"number\",\n        \"std\": 2787,\n        \"min\": 0,\n        \"max\": 5066,\n        \"num_unique_values\": 4,\n        \"samples\": [\n          2,\n          4568,\n          5066\n        ],\n        \"semantic_type\": \"\",\n        \"description\": \"\"\n      }\n    },\n    {\n      \"column\": \"stroke\",\n      \"properties\": {\n        \"dtype\": \"number\",\n        \"std\": 2854,\n        \"min\": 0,\n        \"max\": 5066,\n        \"num_unique_values\": 4,\n        \"samples\": [\n          2,\n          4817,\n          5066\n        ],\n        \"semantic_type\": \"\",\n        \"description\": \"\"\n      }\n    },\n    {\n      \"column\": \"Residence_type\",\n      \"properties\": {\n        \"dtype\": \"string\",\n        \"num_unique_values\": 4,\n        \"samples\": [\n          2,\n          \"2573\",\n          \"5066\"\n        ],\n        \"semantic_type\": \"\",\n        \"description\": \"\"\n      }\n    }\n  ]\n}"
            }
          },
          "metadata": {},
          "execution_count": 23
        }
      ]
    },
    {
      "cell_type": "code",
      "source": [
        "plot_barplots(df[list(all_categorical_cols)],3,3)"
      ],
      "metadata": {
        "colab": {
          "base_uri": "https://localhost:8080/",
          "height": 1000
        },
        "id": "XPYzBYZQG3r4",
        "outputId": "5a8955b0-2d95-4fcd-8886-3db7e4b4cd23"
      },
      "execution_count": null,
      "outputs": [
        {
          "output_type": "display_data",
          "data": {
            "text/html": [
              "<html>\n",
              "<head><meta charset=\"utf-8\" /></head>\n",
              "<body>\n",
              "    <div>            <script src=\"https://cdnjs.cloudflare.com/ajax/libs/mathjax/2.7.5/MathJax.js?config=TeX-AMS-MML_SVG\"></script><script type=\"text/javascript\">if (window.MathJax && window.MathJax.Hub && window.MathJax.Hub.Config) {window.MathJax.Hub.Config({SVG: {font: \"STIX-Web\"}});}</script>                <script type=\"text/javascript\">window.PlotlyConfig = {MathJaxConfig: 'local'};</script>\n",
              "        <script charset=\"utf-8\" src=\"https://cdn.plot.ly/plotly-2.35.2.min.js\"></script>                <div id=\"405327ed-94b3-47c9-b436-39ba245b7360\" class=\"plotly-graph-div\" style=\"height:1000px; width:1000px;\"></div>            <script type=\"text/javascript\">                                    window.PLOTLYENV=window.PLOTLYENV || {};                                    if (document.getElementById(\"405327ed-94b3-47c9-b436-39ba245b7360\")) {                    Plotly.newPlot(                        \"405327ed-94b3-47c9-b436-39ba245b7360\",                        [{\"marker\":{\"color\":\"rgba(50, 171, 96, 0.6)\",\"line\":{\"color\":\"black\",\"width\":1}},\"name\":\"gender bar plot\",\"x\":[\"Female\",\"Male\"],\"y\":[2979,2087],\"type\":\"bar\",\"xaxis\":\"x\",\"yaxis\":\"y\"},{\"marker\":{\"color\":\"rgba(50, 171, 96, 0.6)\",\"line\":{\"color\":\"black\",\"width\":1}},\"name\":\"heart_disease bar plot\",\"x\":[\"0\",\"1\"],\"y\":[4790,276],\"type\":\"bar\",\"xaxis\":\"x2\",\"yaxis\":\"y2\"},{\"marker\":{\"color\":\"rgba(50, 171, 96, 0.6)\",\"line\":{\"color\":\"black\",\"width\":1}},\"name\":\"smoking_status bar plot\",\"x\":[\"never smoked\",\"Unknown\",\"formerly smoked\",\"smokes\"],\"y\":[1892,1501,884,789],\"type\":\"bar\",\"xaxis\":\"x3\",\"yaxis\":\"y3\"},{\"marker\":{\"color\":\"rgba(50, 171, 96, 0.6)\",\"line\":{\"color\":\"black\",\"width\":1}},\"name\":\"ever_married bar plot\",\"x\":[\"Yes\",\"No\"],\"y\":[3353,1713],\"type\":\"bar\",\"xaxis\":\"x4\",\"yaxis\":\"y4\"},{\"marker\":{\"color\":\"rgba(50, 171, 96, 0.6)\",\"line\":{\"color\":\"black\",\"width\":1}},\"name\":\"work_type bar plot\",\"x\":[\"Private\",\"Self-employed\",\"Govt_job\",\"children\",\"Never_worked\"],\"y\":[2924,819,657,644,22],\"type\":\"bar\",\"xaxis\":\"x5\",\"yaxis\":\"y5\"},{\"marker\":{\"color\":\"rgba(50, 171, 96, 0.6)\",\"line\":{\"color\":\"black\",\"width\":1}},\"name\":\"hypertension bar plot\",\"x\":[\"0\",\"1\"],\"y\":[4568,498],\"type\":\"bar\",\"xaxis\":\"x6\",\"yaxis\":\"y6\"},{\"marker\":{\"color\":\"rgba(50, 171, 96, 0.6)\",\"line\":{\"color\":\"black\",\"width\":1}},\"name\":\"stroke bar plot\",\"x\":[\"0\",\"1\"],\"y\":[4817,249],\"type\":\"bar\",\"xaxis\":\"x7\",\"yaxis\":\"y7\"},{\"marker\":{\"color\":\"rgba(50, 171, 96, 0.6)\",\"line\":{\"color\":\"black\",\"width\":1}},\"name\":\"Residence_type bar plot\",\"x\":[\"Urban\",\"Rural\"],\"y\":[2573,2493],\"type\":\"bar\",\"xaxis\":\"x8\",\"yaxis\":\"y8\"}],                        {\"template\":{\"data\":{\"histogram2dcontour\":[{\"type\":\"histogram2dcontour\",\"colorbar\":{\"outlinewidth\":0,\"ticks\":\"\"},\"colorscale\":[[0.0,\"#0d0887\"],[0.1111111111111111,\"#46039f\"],[0.2222222222222222,\"#7201a8\"],[0.3333333333333333,\"#9c179e\"],[0.4444444444444444,\"#bd3786\"],[0.5555555555555556,\"#d8576b\"],[0.6666666666666666,\"#ed7953\"],[0.7777777777777778,\"#fb9f3a\"],[0.8888888888888888,\"#fdca26\"],[1.0,\"#f0f921\"]]}],\"choropleth\":[{\"type\":\"choropleth\",\"colorbar\":{\"outlinewidth\":0,\"ticks\":\"\"}}],\"histogram2d\":[{\"type\":\"histogram2d\",\"colorbar\":{\"outlinewidth\":0,\"ticks\":\"\"},\"colorscale\":[[0.0,\"#0d0887\"],[0.1111111111111111,\"#46039f\"],[0.2222222222222222,\"#7201a8\"],[0.3333333333333333,\"#9c179e\"],[0.4444444444444444,\"#bd3786\"],[0.5555555555555556,\"#d8576b\"],[0.6666666666666666,\"#ed7953\"],[0.7777777777777778,\"#fb9f3a\"],[0.8888888888888888,\"#fdca26\"],[1.0,\"#f0f921\"]]}],\"heatmap\":[{\"type\":\"heatmap\",\"colorbar\":{\"outlinewidth\":0,\"ticks\":\"\"},\"colorscale\":[[0.0,\"#0d0887\"],[0.1111111111111111,\"#46039f\"],[0.2222222222222222,\"#7201a8\"],[0.3333333333333333,\"#9c179e\"],[0.4444444444444444,\"#bd3786\"],[0.5555555555555556,\"#d8576b\"],[0.6666666666666666,\"#ed7953\"],[0.7777777777777778,\"#fb9f3a\"],[0.8888888888888888,\"#fdca26\"],[1.0,\"#f0f921\"]]}],\"heatmapgl\":[{\"type\":\"heatmapgl\",\"colorbar\":{\"outlinewidth\":0,\"ticks\":\"\"},\"colorscale\":[[0.0,\"#0d0887\"],[0.1111111111111111,\"#46039f\"],[0.2222222222222222,\"#7201a8\"],[0.3333333333333333,\"#9c179e\"],[0.4444444444444444,\"#bd3786\"],[0.5555555555555556,\"#d8576b\"],[0.6666666666666666,\"#ed7953\"],[0.7777777777777778,\"#fb9f3a\"],[0.8888888888888888,\"#fdca26\"],[1.0,\"#f0f921\"]]}],\"contourcarpet\":[{\"type\":\"contourcarpet\",\"colorbar\":{\"outlinewidth\":0,\"ticks\":\"\"}}],\"contour\":[{\"type\":\"contour\",\"colorbar\":{\"outlinewidth\":0,\"ticks\":\"\"},\"colorscale\":[[0.0,\"#0d0887\"],[0.1111111111111111,\"#46039f\"],[0.2222222222222222,\"#7201a8\"],[0.3333333333333333,\"#9c179e\"],[0.4444444444444444,\"#bd3786\"],[0.5555555555555556,\"#d8576b\"],[0.6666666666666666,\"#ed7953\"],[0.7777777777777778,\"#fb9f3a\"],[0.8888888888888888,\"#fdca26\"],[1.0,\"#f0f921\"]]}],\"surface\":[{\"type\":\"surface\",\"colorbar\":{\"outlinewidth\":0,\"ticks\":\"\"},\"colorscale\":[[0.0,\"#0d0887\"],[0.1111111111111111,\"#46039f\"],[0.2222222222222222,\"#7201a8\"],[0.3333333333333333,\"#9c179e\"],[0.4444444444444444,\"#bd3786\"],[0.5555555555555556,\"#d8576b\"],[0.6666666666666666,\"#ed7953\"],[0.7777777777777778,\"#fb9f3a\"],[0.8888888888888888,\"#fdca26\"],[1.0,\"#f0f921\"]]}],\"mesh3d\":[{\"type\":\"mesh3d\",\"colorbar\":{\"outlinewidth\":0,\"ticks\":\"\"}}],\"scatter\":[{\"fillpattern\":{\"fillmode\":\"overlay\",\"size\":10,\"solidity\":0.2},\"type\":\"scatter\"}],\"parcoords\":[{\"type\":\"parcoords\",\"line\":{\"colorbar\":{\"outlinewidth\":0,\"ticks\":\"\"}}}],\"scatterpolargl\":[{\"type\":\"scatterpolargl\",\"marker\":{\"colorbar\":{\"outlinewidth\":0,\"ticks\":\"\"}}}],\"bar\":[{\"error_x\":{\"color\":\"#2a3f5f\"},\"error_y\":{\"color\":\"#2a3f5f\"},\"marker\":{\"line\":{\"color\":\"#E5ECF6\",\"width\":0.5},\"pattern\":{\"fillmode\":\"overlay\",\"size\":10,\"solidity\":0.2}},\"type\":\"bar\"}],\"scattergeo\":[{\"type\":\"scattergeo\",\"marker\":{\"colorbar\":{\"outlinewidth\":0,\"ticks\":\"\"}}}],\"scatterpolar\":[{\"type\":\"scatterpolar\",\"marker\":{\"colorbar\":{\"outlinewidth\":0,\"ticks\":\"\"}}}],\"histogram\":[{\"marker\":{\"pattern\":{\"fillmode\":\"overlay\",\"size\":10,\"solidity\":0.2}},\"type\":\"histogram\"}],\"scattergl\":[{\"type\":\"scattergl\",\"marker\":{\"colorbar\":{\"outlinewidth\":0,\"ticks\":\"\"}}}],\"scatter3d\":[{\"type\":\"scatter3d\",\"line\":{\"colorbar\":{\"outlinewidth\":0,\"ticks\":\"\"}},\"marker\":{\"colorbar\":{\"outlinewidth\":0,\"ticks\":\"\"}}}],\"scattermapbox\":[{\"type\":\"scattermapbox\",\"marker\":{\"colorbar\":{\"outlinewidth\":0,\"ticks\":\"\"}}}],\"scatterternary\":[{\"type\":\"scatterternary\",\"marker\":{\"colorbar\":{\"outlinewidth\":0,\"ticks\":\"\"}}}],\"scattercarpet\":[{\"type\":\"scattercarpet\",\"marker\":{\"colorbar\":{\"outlinewidth\":0,\"ticks\":\"\"}}}],\"carpet\":[{\"aaxis\":{\"endlinecolor\":\"#2a3f5f\",\"gridcolor\":\"white\",\"linecolor\":\"white\",\"minorgridcolor\":\"white\",\"startlinecolor\":\"#2a3f5f\"},\"baxis\":{\"endlinecolor\":\"#2a3f5f\",\"gridcolor\":\"white\",\"linecolor\":\"white\",\"minorgridcolor\":\"white\",\"startlinecolor\":\"#2a3f5f\"},\"type\":\"carpet\"}],\"table\":[{\"cells\":{\"fill\":{\"color\":\"#EBF0F8\"},\"line\":{\"color\":\"white\"}},\"header\":{\"fill\":{\"color\":\"#C8D4E3\"},\"line\":{\"color\":\"white\"}},\"type\":\"table\"}],\"barpolar\":[{\"marker\":{\"line\":{\"color\":\"#E5ECF6\",\"width\":0.5},\"pattern\":{\"fillmode\":\"overlay\",\"size\":10,\"solidity\":0.2}},\"type\":\"barpolar\"}],\"pie\":[{\"automargin\":true,\"type\":\"pie\"}]},\"layout\":{\"autotypenumbers\":\"strict\",\"colorway\":[\"#636efa\",\"#EF553B\",\"#00cc96\",\"#ab63fa\",\"#FFA15A\",\"#19d3f3\",\"#FF6692\",\"#B6E880\",\"#FF97FF\",\"#FECB52\"],\"font\":{\"color\":\"#2a3f5f\"},\"hovermode\":\"closest\",\"hoverlabel\":{\"align\":\"left\"},\"paper_bgcolor\":\"white\",\"plot_bgcolor\":\"#E5ECF6\",\"polar\":{\"bgcolor\":\"#E5ECF6\",\"angularaxis\":{\"gridcolor\":\"white\",\"linecolor\":\"white\",\"ticks\":\"\"},\"radialaxis\":{\"gridcolor\":\"white\",\"linecolor\":\"white\",\"ticks\":\"\"}},\"ternary\":{\"bgcolor\":\"#E5ECF6\",\"aaxis\":{\"gridcolor\":\"white\",\"linecolor\":\"white\",\"ticks\":\"\"},\"baxis\":{\"gridcolor\":\"white\",\"linecolor\":\"white\",\"ticks\":\"\"},\"caxis\":{\"gridcolor\":\"white\",\"linecolor\":\"white\",\"ticks\":\"\"}},\"coloraxis\":{\"colorbar\":{\"outlinewidth\":0,\"ticks\":\"\"}},\"colorscale\":{\"sequential\":[[0.0,\"#0d0887\"],[0.1111111111111111,\"#46039f\"],[0.2222222222222222,\"#7201a8\"],[0.3333333333333333,\"#9c179e\"],[0.4444444444444444,\"#bd3786\"],[0.5555555555555556,\"#d8576b\"],[0.6666666666666666,\"#ed7953\"],[0.7777777777777778,\"#fb9f3a\"],[0.8888888888888888,\"#fdca26\"],[1.0,\"#f0f921\"]],\"sequentialminus\":[[0.0,\"#0d0887\"],[0.1111111111111111,\"#46039f\"],[0.2222222222222222,\"#7201a8\"],[0.3333333333333333,\"#9c179e\"],[0.4444444444444444,\"#bd3786\"],[0.5555555555555556,\"#d8576b\"],[0.6666666666666666,\"#ed7953\"],[0.7777777777777778,\"#fb9f3a\"],[0.8888888888888888,\"#fdca26\"],[1.0,\"#f0f921\"]],\"diverging\":[[0,\"#8e0152\"],[0.1,\"#c51b7d\"],[0.2,\"#de77ae\"],[0.3,\"#f1b6da\"],[0.4,\"#fde0ef\"],[0.5,\"#f7f7f7\"],[0.6,\"#e6f5d0\"],[0.7,\"#b8e186\"],[0.8,\"#7fbc41\"],[0.9,\"#4d9221\"],[1,\"#276419\"]]},\"xaxis\":{\"gridcolor\":\"white\",\"linecolor\":\"white\",\"ticks\":\"\",\"title\":{\"standoff\":15},\"zerolinecolor\":\"white\",\"automargin\":true,\"zerolinewidth\":2},\"yaxis\":{\"gridcolor\":\"white\",\"linecolor\":\"white\",\"ticks\":\"\",\"title\":{\"standoff\":15},\"zerolinecolor\":\"white\",\"automargin\":true,\"zerolinewidth\":2},\"scene\":{\"xaxis\":{\"backgroundcolor\":\"#E5ECF6\",\"gridcolor\":\"white\",\"linecolor\":\"white\",\"showbackground\":true,\"ticks\":\"\",\"zerolinecolor\":\"white\",\"gridwidth\":2},\"yaxis\":{\"backgroundcolor\":\"#E5ECF6\",\"gridcolor\":\"white\",\"linecolor\":\"white\",\"showbackground\":true,\"ticks\":\"\",\"zerolinecolor\":\"white\",\"gridwidth\":2},\"zaxis\":{\"backgroundcolor\":\"#E5ECF6\",\"gridcolor\":\"white\",\"linecolor\":\"white\",\"showbackground\":true,\"ticks\":\"\",\"zerolinecolor\":\"white\",\"gridwidth\":2}},\"shapedefaults\":{\"line\":{\"color\":\"#2a3f5f\"}},\"annotationdefaults\":{\"arrowcolor\":\"#2a3f5f\",\"arrowhead\":0,\"arrowwidth\":1},\"geo\":{\"bgcolor\":\"white\",\"landcolor\":\"#E5ECF6\",\"subunitcolor\":\"white\",\"showland\":true,\"showlakes\":true,\"lakecolor\":\"white\"},\"title\":{\"x\":0.05},\"mapbox\":{\"style\":\"light\"}}},\"xaxis\":{\"anchor\":\"y\",\"domain\":[0.0,0.2888888888888889]},\"yaxis\":{\"anchor\":\"x\",\"domain\":[0.7777777777777778,1.0]},\"xaxis2\":{\"anchor\":\"y2\",\"domain\":[0.35555555555555557,0.6444444444444445]},\"yaxis2\":{\"anchor\":\"x2\",\"domain\":[0.7777777777777778,1.0]},\"xaxis3\":{\"anchor\":\"y3\",\"domain\":[0.7111111111111111,1.0]},\"yaxis3\":{\"anchor\":\"x3\",\"domain\":[0.7777777777777778,1.0]},\"xaxis4\":{\"anchor\":\"y4\",\"domain\":[0.0,0.2888888888888889]},\"yaxis4\":{\"anchor\":\"x4\",\"domain\":[0.3888888888888889,0.6111111111111112]},\"xaxis5\":{\"anchor\":\"y5\",\"domain\":[0.35555555555555557,0.6444444444444445]},\"yaxis5\":{\"anchor\":\"x5\",\"domain\":[0.3888888888888889,0.6111111111111112]},\"xaxis6\":{\"anchor\":\"y6\",\"domain\":[0.7111111111111111,1.0]},\"yaxis6\":{\"anchor\":\"x6\",\"domain\":[0.3888888888888889,0.6111111111111112]},\"xaxis7\":{\"anchor\":\"y7\",\"domain\":[0.0,0.2888888888888889]},\"yaxis7\":{\"anchor\":\"x7\",\"domain\":[0.0,0.22222222222222224]},\"xaxis8\":{\"anchor\":\"y8\",\"domain\":[0.35555555555555557,0.6444444444444445]},\"yaxis8\":{\"anchor\":\"x8\",\"domain\":[0.0,0.22222222222222224]},\"xaxis9\":{\"anchor\":\"y9\",\"domain\":[0.7111111111111111,1.0]},\"yaxis9\":{\"anchor\":\"x9\",\"domain\":[0.0,0.22222222222222224]},\"annotations\":[{\"font\":{\"size\":16},\"showarrow\":false,\"text\":\"Bar plot of gender\",\"x\":0.14444444444444446,\"xanchor\":\"center\",\"xref\":\"paper\",\"y\":1.0,\"yanchor\":\"bottom\",\"yref\":\"paper\"},{\"font\":{\"size\":16},\"showarrow\":false,\"text\":\"Bar plot of heart_disease\",\"x\":0.5,\"xanchor\":\"center\",\"xref\":\"paper\",\"y\":1.0,\"yanchor\":\"bottom\",\"yref\":\"paper\"},{\"font\":{\"size\":16},\"showarrow\":false,\"text\":\"Bar plot of smoking_status\",\"x\":0.8555555555555556,\"xanchor\":\"center\",\"xref\":\"paper\",\"y\":1.0,\"yanchor\":\"bottom\",\"yref\":\"paper\"},{\"font\":{\"size\":16},\"showarrow\":false,\"text\":\"Bar plot of ever_married\",\"x\":0.14444444444444446,\"xanchor\":\"center\",\"xref\":\"paper\",\"y\":0.6111111111111112,\"yanchor\":\"bottom\",\"yref\":\"paper\"},{\"font\":{\"size\":16},\"showarrow\":false,\"text\":\"Bar plot of work_type\",\"x\":0.5,\"xanchor\":\"center\",\"xref\":\"paper\",\"y\":0.6111111111111112,\"yanchor\":\"bottom\",\"yref\":\"paper\"},{\"font\":{\"size\":16},\"showarrow\":false,\"text\":\"Bar plot of hypertension\",\"x\":0.8555555555555556,\"xanchor\":\"center\",\"xref\":\"paper\",\"y\":0.6111111111111112,\"yanchor\":\"bottom\",\"yref\":\"paper\"},{\"font\":{\"size\":16},\"showarrow\":false,\"text\":\"Bar plot of stroke\",\"x\":0.14444444444444446,\"xanchor\":\"center\",\"xref\":\"paper\",\"y\":0.22222222222222224,\"yanchor\":\"bottom\",\"yref\":\"paper\"},{\"font\":{\"size\":16},\"showarrow\":false,\"text\":\"Bar plot of Residence_type\",\"x\":0.5,\"xanchor\":\"center\",\"xref\":\"paper\",\"y\":0.22222222222222224,\"yanchor\":\"bottom\",\"yref\":\"paper\"}],\"title\":{\"text\":\"Bar Plots\"},\"height\":1000,\"width\":1000,\"showlegend\":false},                        {\"responsive\": true}                    ).then(function(){\n",
              "                            \n",
              "var gd = document.getElementById('405327ed-94b3-47c9-b436-39ba245b7360');\n",
              "var x = new MutationObserver(function (mutations, observer) {{\n",
              "        var display = window.getComputedStyle(gd).display;\n",
              "        if (!display || display === 'none') {{\n",
              "            console.log([gd, 'removed!']);\n",
              "            Plotly.purge(gd);\n",
              "            observer.disconnect();\n",
              "        }}\n",
              "}});\n",
              "\n",
              "// Listen for the removal of the full notebook cells\n",
              "var notebookContainer = gd.closest('#notebook-container');\n",
              "if (notebookContainer) {{\n",
              "    x.observe(notebookContainer, {childList: true});\n",
              "}}\n",
              "\n",
              "// Listen for the clearing of the current output cell\n",
              "var outputEl = gd.closest('.output');\n",
              "if (outputEl) {{\n",
              "    x.observe(outputEl, {childList: true});\n",
              "}}\n",
              "\n",
              "                        })                };                            </script>        </div>\n",
              "</body>\n",
              "</html>"
            ]
          },
          "metadata": {}
        }
      ]
    },
    {
      "cell_type": "markdown",
      "source": [
        "Distribution of Numerical variables"
      ],
      "metadata": {
        "id": "SLeqYaaoKkuq"
      }
    },
    {
      "cell_type": "code",
      "source": [
        "numerical_cols = df.columns[~df.columns.isin(list(all_categorical_cols))]"
      ],
      "metadata": {
        "id": "S7BMZQe7Kmqe"
      },
      "execution_count": null,
      "outputs": []
    },
    {
      "cell_type": "code",
      "source": [
        "df.loc[: ,numerical_cols]"
      ],
      "metadata": {
        "colab": {
          "base_uri": "https://localhost:8080/",
          "height": 423
        },
        "id": "66RFfqT4Kmsg",
        "outputId": "cff8d0c2-d49a-4eb2-9c01-12c6c2ef3037"
      },
      "execution_count": null,
      "outputs": [
        {
          "output_type": "execute_result",
          "data": {
            "text/plain": [
              "         id   age  avg_glucose_level        bmi\n",
              "0      9046  67.0             228.69  36.600000\n",
              "1     51676  61.0             202.21  28.893237\n",
              "2     31112  80.0             105.92  32.500000\n",
              "3     60182  49.0             171.23  34.400000\n",
              "4      1665  79.0             174.12  24.000000\n",
              "...     ...   ...                ...        ...\n",
              "5105  18234  80.0              83.75  28.893237\n",
              "5106  44873  81.0             125.20  40.000000\n",
              "5107  19723  35.0              82.99  30.600000\n",
              "5108  37544  51.0             166.29  25.600000\n",
              "5109  44679  44.0              85.28  26.200000\n",
              "\n",
              "[5066 rows x 4 columns]"
            ],
            "text/html": [
              "\n",
              "  <div id=\"df-3423e050-d08d-48bf-865f-67c78b38ba87\" class=\"colab-df-container\">\n",
              "    <div>\n",
              "<style scoped>\n",
              "    .dataframe tbody tr th:only-of-type {\n",
              "        vertical-align: middle;\n",
              "    }\n",
              "\n",
              "    .dataframe tbody tr th {\n",
              "        vertical-align: top;\n",
              "    }\n",
              "\n",
              "    .dataframe thead th {\n",
              "        text-align: right;\n",
              "    }\n",
              "</style>\n",
              "<table border=\"1\" class=\"dataframe\">\n",
              "  <thead>\n",
              "    <tr style=\"text-align: right;\">\n",
              "      <th></th>\n",
              "      <th>id</th>\n",
              "      <th>age</th>\n",
              "      <th>avg_glucose_level</th>\n",
              "      <th>bmi</th>\n",
              "    </tr>\n",
              "  </thead>\n",
              "  <tbody>\n",
              "    <tr>\n",
              "      <th>0</th>\n",
              "      <td>9046</td>\n",
              "      <td>67.0</td>\n",
              "      <td>228.69</td>\n",
              "      <td>36.600000</td>\n",
              "    </tr>\n",
              "    <tr>\n",
              "      <th>1</th>\n",
              "      <td>51676</td>\n",
              "      <td>61.0</td>\n",
              "      <td>202.21</td>\n",
              "      <td>28.893237</td>\n",
              "    </tr>\n",
              "    <tr>\n",
              "      <th>2</th>\n",
              "      <td>31112</td>\n",
              "      <td>80.0</td>\n",
              "      <td>105.92</td>\n",
              "      <td>32.500000</td>\n",
              "    </tr>\n",
              "    <tr>\n",
              "      <th>3</th>\n",
              "      <td>60182</td>\n",
              "      <td>49.0</td>\n",
              "      <td>171.23</td>\n",
              "      <td>34.400000</td>\n",
              "    </tr>\n",
              "    <tr>\n",
              "      <th>4</th>\n",
              "      <td>1665</td>\n",
              "      <td>79.0</td>\n",
              "      <td>174.12</td>\n",
              "      <td>24.000000</td>\n",
              "    </tr>\n",
              "    <tr>\n",
              "      <th>...</th>\n",
              "      <td>...</td>\n",
              "      <td>...</td>\n",
              "      <td>...</td>\n",
              "      <td>...</td>\n",
              "    </tr>\n",
              "    <tr>\n",
              "      <th>5105</th>\n",
              "      <td>18234</td>\n",
              "      <td>80.0</td>\n",
              "      <td>83.75</td>\n",
              "      <td>28.893237</td>\n",
              "    </tr>\n",
              "    <tr>\n",
              "      <th>5106</th>\n",
              "      <td>44873</td>\n",
              "      <td>81.0</td>\n",
              "      <td>125.20</td>\n",
              "      <td>40.000000</td>\n",
              "    </tr>\n",
              "    <tr>\n",
              "      <th>5107</th>\n",
              "      <td>19723</td>\n",
              "      <td>35.0</td>\n",
              "      <td>82.99</td>\n",
              "      <td>30.600000</td>\n",
              "    </tr>\n",
              "    <tr>\n",
              "      <th>5108</th>\n",
              "      <td>37544</td>\n",
              "      <td>51.0</td>\n",
              "      <td>166.29</td>\n",
              "      <td>25.600000</td>\n",
              "    </tr>\n",
              "    <tr>\n",
              "      <th>5109</th>\n",
              "      <td>44679</td>\n",
              "      <td>44.0</td>\n",
              "      <td>85.28</td>\n",
              "      <td>26.200000</td>\n",
              "    </tr>\n",
              "  </tbody>\n",
              "</table>\n",
              "<p>5066 rows × 4 columns</p>\n",
              "</div>\n",
              "    <div class=\"colab-df-buttons\">\n",
              "\n",
              "  <div class=\"colab-df-container\">\n",
              "    <button class=\"colab-df-convert\" onclick=\"convertToInteractive('df-3423e050-d08d-48bf-865f-67c78b38ba87')\"\n",
              "            title=\"Convert this dataframe to an interactive table.\"\n",
              "            style=\"display:none;\">\n",
              "\n",
              "  <svg xmlns=\"http://www.w3.org/2000/svg\" height=\"24px\" viewBox=\"0 -960 960 960\">\n",
              "    <path d=\"M120-120v-720h720v720H120Zm60-500h600v-160H180v160Zm220 220h160v-160H400v160Zm0 220h160v-160H400v160ZM180-400h160v-160H180v160Zm440 0h160v-160H620v160ZM180-180h160v-160H180v160Zm440 0h160v-160H620v160Z\"/>\n",
              "  </svg>\n",
              "    </button>\n",
              "\n",
              "  <style>\n",
              "    .colab-df-container {\n",
              "      display:flex;\n",
              "      gap: 12px;\n",
              "    }\n",
              "\n",
              "    .colab-df-convert {\n",
              "      background-color: #E8F0FE;\n",
              "      border: none;\n",
              "      border-radius: 50%;\n",
              "      cursor: pointer;\n",
              "      display: none;\n",
              "      fill: #1967D2;\n",
              "      height: 32px;\n",
              "      padding: 0 0 0 0;\n",
              "      width: 32px;\n",
              "    }\n",
              "\n",
              "    .colab-df-convert:hover {\n",
              "      background-color: #E2EBFA;\n",
              "      box-shadow: 0px 1px 2px rgba(60, 64, 67, 0.3), 0px 1px 3px 1px rgba(60, 64, 67, 0.15);\n",
              "      fill: #174EA6;\n",
              "    }\n",
              "\n",
              "    .colab-df-buttons div {\n",
              "      margin-bottom: 4px;\n",
              "    }\n",
              "\n",
              "    [theme=dark] .colab-df-convert {\n",
              "      background-color: #3B4455;\n",
              "      fill: #D2E3FC;\n",
              "    }\n",
              "\n",
              "    [theme=dark] .colab-df-convert:hover {\n",
              "      background-color: #434B5C;\n",
              "      box-shadow: 0px 1px 3px 1px rgba(0, 0, 0, 0.15);\n",
              "      filter: drop-shadow(0px 1px 2px rgba(0, 0, 0, 0.3));\n",
              "      fill: #FFFFFF;\n",
              "    }\n",
              "  </style>\n",
              "\n",
              "    <script>\n",
              "      const buttonEl =\n",
              "        document.querySelector('#df-3423e050-d08d-48bf-865f-67c78b38ba87 button.colab-df-convert');\n",
              "      buttonEl.style.display =\n",
              "        google.colab.kernel.accessAllowed ? 'block' : 'none';\n",
              "\n",
              "      async function convertToInteractive(key) {\n",
              "        const element = document.querySelector('#df-3423e050-d08d-48bf-865f-67c78b38ba87');\n",
              "        const dataTable =\n",
              "          await google.colab.kernel.invokeFunction('convertToInteractive',\n",
              "                                                    [key], {});\n",
              "        if (!dataTable) return;\n",
              "\n",
              "        const docLinkHtml = 'Like what you see? Visit the ' +\n",
              "          '<a target=\"_blank\" href=https://colab.research.google.com/notebooks/data_table.ipynb>data table notebook</a>'\n",
              "          + ' to learn more about interactive tables.';\n",
              "        element.innerHTML = '';\n",
              "        dataTable['output_type'] = 'display_data';\n",
              "        await google.colab.output.renderOutput(dataTable, element);\n",
              "        const docLink = document.createElement('div');\n",
              "        docLink.innerHTML = docLinkHtml;\n",
              "        element.appendChild(docLink);\n",
              "      }\n",
              "    </script>\n",
              "  </div>\n",
              "\n",
              "\n",
              "<div id=\"df-1d1a7499-f10d-4c0b-afb8-26bec265f1c9\">\n",
              "  <button class=\"colab-df-quickchart\" onclick=\"quickchart('df-1d1a7499-f10d-4c0b-afb8-26bec265f1c9')\"\n",
              "            title=\"Suggest charts\"\n",
              "            style=\"display:none;\">\n",
              "\n",
              "<svg xmlns=\"http://www.w3.org/2000/svg\" height=\"24px\"viewBox=\"0 0 24 24\"\n",
              "     width=\"24px\">\n",
              "    <g>\n",
              "        <path d=\"M19 3H5c-1.1 0-2 .9-2 2v14c0 1.1.9 2 2 2h14c1.1 0 2-.9 2-2V5c0-1.1-.9-2-2-2zM9 17H7v-7h2v7zm4 0h-2V7h2v10zm4 0h-2v-4h2v4z\"/>\n",
              "    </g>\n",
              "</svg>\n",
              "  </button>\n",
              "\n",
              "<style>\n",
              "  .colab-df-quickchart {\n",
              "      --bg-color: #E8F0FE;\n",
              "      --fill-color: #1967D2;\n",
              "      --hover-bg-color: #E2EBFA;\n",
              "      --hover-fill-color: #174EA6;\n",
              "      --disabled-fill-color: #AAA;\n",
              "      --disabled-bg-color: #DDD;\n",
              "  }\n",
              "\n",
              "  [theme=dark] .colab-df-quickchart {\n",
              "      --bg-color: #3B4455;\n",
              "      --fill-color: #D2E3FC;\n",
              "      --hover-bg-color: #434B5C;\n",
              "      --hover-fill-color: #FFFFFF;\n",
              "      --disabled-bg-color: #3B4455;\n",
              "      --disabled-fill-color: #666;\n",
              "  }\n",
              "\n",
              "  .colab-df-quickchart {\n",
              "    background-color: var(--bg-color);\n",
              "    border: none;\n",
              "    border-radius: 50%;\n",
              "    cursor: pointer;\n",
              "    display: none;\n",
              "    fill: var(--fill-color);\n",
              "    height: 32px;\n",
              "    padding: 0;\n",
              "    width: 32px;\n",
              "  }\n",
              "\n",
              "  .colab-df-quickchart:hover {\n",
              "    background-color: var(--hover-bg-color);\n",
              "    box-shadow: 0 1px 2px rgba(60, 64, 67, 0.3), 0 1px 3px 1px rgba(60, 64, 67, 0.15);\n",
              "    fill: var(--button-hover-fill-color);\n",
              "  }\n",
              "\n",
              "  .colab-df-quickchart-complete:disabled,\n",
              "  .colab-df-quickchart-complete:disabled:hover {\n",
              "    background-color: var(--disabled-bg-color);\n",
              "    fill: var(--disabled-fill-color);\n",
              "    box-shadow: none;\n",
              "  }\n",
              "\n",
              "  .colab-df-spinner {\n",
              "    border: 2px solid var(--fill-color);\n",
              "    border-color: transparent;\n",
              "    border-bottom-color: var(--fill-color);\n",
              "    animation:\n",
              "      spin 1s steps(1) infinite;\n",
              "  }\n",
              "\n",
              "  @keyframes spin {\n",
              "    0% {\n",
              "      border-color: transparent;\n",
              "      border-bottom-color: var(--fill-color);\n",
              "      border-left-color: var(--fill-color);\n",
              "    }\n",
              "    20% {\n",
              "      border-color: transparent;\n",
              "      border-left-color: var(--fill-color);\n",
              "      border-top-color: var(--fill-color);\n",
              "    }\n",
              "    30% {\n",
              "      border-color: transparent;\n",
              "      border-left-color: var(--fill-color);\n",
              "      border-top-color: var(--fill-color);\n",
              "      border-right-color: var(--fill-color);\n",
              "    }\n",
              "    40% {\n",
              "      border-color: transparent;\n",
              "      border-right-color: var(--fill-color);\n",
              "      border-top-color: var(--fill-color);\n",
              "    }\n",
              "    60% {\n",
              "      border-color: transparent;\n",
              "      border-right-color: var(--fill-color);\n",
              "    }\n",
              "    80% {\n",
              "      border-color: transparent;\n",
              "      border-right-color: var(--fill-color);\n",
              "      border-bottom-color: var(--fill-color);\n",
              "    }\n",
              "    90% {\n",
              "      border-color: transparent;\n",
              "      border-bottom-color: var(--fill-color);\n",
              "    }\n",
              "  }\n",
              "</style>\n",
              "\n",
              "  <script>\n",
              "    async function quickchart(key) {\n",
              "      const quickchartButtonEl =\n",
              "        document.querySelector('#' + key + ' button');\n",
              "      quickchartButtonEl.disabled = true;  // To prevent multiple clicks.\n",
              "      quickchartButtonEl.classList.add('colab-df-spinner');\n",
              "      try {\n",
              "        const charts = await google.colab.kernel.invokeFunction(\n",
              "            'suggestCharts', [key], {});\n",
              "      } catch (error) {\n",
              "        console.error('Error during call to suggestCharts:', error);\n",
              "      }\n",
              "      quickchartButtonEl.classList.remove('colab-df-spinner');\n",
              "      quickchartButtonEl.classList.add('colab-df-quickchart-complete');\n",
              "    }\n",
              "    (() => {\n",
              "      let quickchartButtonEl =\n",
              "        document.querySelector('#df-1d1a7499-f10d-4c0b-afb8-26bec265f1c9 button');\n",
              "      quickchartButtonEl.style.display =\n",
              "        google.colab.kernel.accessAllowed ? 'block' : 'none';\n",
              "    })();\n",
              "  </script>\n",
              "</div>\n",
              "\n",
              "    </div>\n",
              "  </div>\n"
            ],
            "application/vnd.google.colaboratory.intrinsic+json": {
              "type": "dataframe",
              "summary": "{\n  \"name\": \"df\",\n  \"rows\": 5066,\n  \"fields\": [\n    {\n      \"column\": \"id\",\n      \"properties\": {\n        \"dtype\": \"number\",\n        \"std\": 21160,\n        \"min\": 67,\n        \"max\": 72940,\n        \"num_unique_values\": 5066,\n        \"samples\": [\n          54401,\n          57757,\n          27380\n        ],\n        \"semantic_type\": \"\",\n        \"description\": \"\"\n      }\n    },\n    {\n      \"column\": \"age\",\n      \"properties\": {\n        \"dtype\": \"number\",\n        \"std\": 22.3761414450062,\n        \"min\": 1.0,\n        \"max\": 82.0,\n        \"num_unique_values\": 82,\n        \"samples\": [\n          45.0,\n          67.0,\n          48.0\n        ],\n        \"semantic_type\": \"\",\n        \"description\": \"\"\n      }\n    },\n    {\n      \"column\": \"avg_glucose_level\",\n      \"properties\": {\n        \"dtype\": \"number\",\n        \"std\": 45.39601327252144,\n        \"min\": 55.12,\n        \"max\": 271.74,\n        \"num_unique_values\": 3950,\n        \"samples\": [\n          72.08,\n          69.22,\n          128.72\n        ],\n        \"semantic_type\": \"\",\n        \"description\": \"\"\n      }\n    },\n    {\n      \"column\": \"bmi\",\n      \"properties\": {\n        \"dtype\": \"number\",\n        \"std\": 7.661451158444186,\n        \"min\": 10.3,\n        \"max\": 97.6,\n        \"num_unique_values\": 417,\n        \"samples\": [\n          31.2,\n          54.3,\n          13.3\n        ],\n        \"semantic_type\": \"\",\n        \"description\": \"\"\n      }\n    }\n  ]\n}"
            }
          },
          "metadata": {},
          "execution_count": 26
        }
      ]
    },
    {
      "cell_type": "code",
      "source": [
        "def plot_boxplots(data, columns, rows):\n",
        "\n",
        "    fig = make_subplots(rows=rows, cols=columns, subplot_titles=[f'Boxplot of {col}' for col in data.columns])\n",
        "\n",
        "    for i, column in enumerate(data.columns):\n",
        "        row = (i // columns) + 1\n",
        "        col = (i % columns) + 1\n",
        "\n",
        "        data_ = data[column].dropna()\n",
        "\n",
        "        # Add box plot\n",
        "        fig.add_trace(go.Box(y=data_, name=f'{column} boxplot', marker=dict(color='rgba(50, 171, 96, 0.6)',\n",
        "        line=dict(color='black', width=1))), row=row, col=col)\n",
        "\n",
        "    # Update layout\n",
        "    fig.update_layout(height=1000, width=1000, title_text=\"Boxplots\", showlegend=False)\n",
        "    fig.show()"
      ],
      "metadata": {
        "id": "L3dUUZRZKmur"
      },
      "execution_count": null,
      "outputs": []
    },
    {
      "cell_type": "code",
      "source": [
        "df[numerical_cols].drop('id' , axis = 1).describe()"
      ],
      "metadata": {
        "colab": {
          "base_uri": "https://localhost:8080/",
          "height": 300
        },
        "id": "UBSNWB04KmxP",
        "outputId": "1e19117e-a830-48ea-ebe0-6fe77d7f7d7a"
      },
      "execution_count": null,
      "outputs": [
        {
          "output_type": "execute_result",
          "data": {
            "text/plain": [
              "               age  avg_glucose_level          bmi\n",
              "count  5066.000000        5066.000000  5066.000000\n",
              "mean     43.585472         106.234272    28.983369\n",
              "std      22.376141          45.396013     7.661451\n",
              "min       1.000000          55.120000    10.300000\n",
              "25%      26.000000          77.282500    23.900000\n",
              "50%      45.000000          91.890000    28.400000\n",
              "75%      61.000000         114.090000    32.800000\n",
              "max      82.000000         271.740000    97.600000"
            ],
            "text/html": [
              "\n",
              "  <div id=\"df-ac984114-527c-4f7e-b2f8-983c4d3437a0\" class=\"colab-df-container\">\n",
              "    <div>\n",
              "<style scoped>\n",
              "    .dataframe tbody tr th:only-of-type {\n",
              "        vertical-align: middle;\n",
              "    }\n",
              "\n",
              "    .dataframe tbody tr th {\n",
              "        vertical-align: top;\n",
              "    }\n",
              "\n",
              "    .dataframe thead th {\n",
              "        text-align: right;\n",
              "    }\n",
              "</style>\n",
              "<table border=\"1\" class=\"dataframe\">\n",
              "  <thead>\n",
              "    <tr style=\"text-align: right;\">\n",
              "      <th></th>\n",
              "      <th>age</th>\n",
              "      <th>avg_glucose_level</th>\n",
              "      <th>bmi</th>\n",
              "    </tr>\n",
              "  </thead>\n",
              "  <tbody>\n",
              "    <tr>\n",
              "      <th>count</th>\n",
              "      <td>5066.000000</td>\n",
              "      <td>5066.000000</td>\n",
              "      <td>5066.000000</td>\n",
              "    </tr>\n",
              "    <tr>\n",
              "      <th>mean</th>\n",
              "      <td>43.585472</td>\n",
              "      <td>106.234272</td>\n",
              "      <td>28.983369</td>\n",
              "    </tr>\n",
              "    <tr>\n",
              "      <th>std</th>\n",
              "      <td>22.376141</td>\n",
              "      <td>45.396013</td>\n",
              "      <td>7.661451</td>\n",
              "    </tr>\n",
              "    <tr>\n",
              "      <th>min</th>\n",
              "      <td>1.000000</td>\n",
              "      <td>55.120000</td>\n",
              "      <td>10.300000</td>\n",
              "    </tr>\n",
              "    <tr>\n",
              "      <th>25%</th>\n",
              "      <td>26.000000</td>\n",
              "      <td>77.282500</td>\n",
              "      <td>23.900000</td>\n",
              "    </tr>\n",
              "    <tr>\n",
              "      <th>50%</th>\n",
              "      <td>45.000000</td>\n",
              "      <td>91.890000</td>\n",
              "      <td>28.400000</td>\n",
              "    </tr>\n",
              "    <tr>\n",
              "      <th>75%</th>\n",
              "      <td>61.000000</td>\n",
              "      <td>114.090000</td>\n",
              "      <td>32.800000</td>\n",
              "    </tr>\n",
              "    <tr>\n",
              "      <th>max</th>\n",
              "      <td>82.000000</td>\n",
              "      <td>271.740000</td>\n",
              "      <td>97.600000</td>\n",
              "    </tr>\n",
              "  </tbody>\n",
              "</table>\n",
              "</div>\n",
              "    <div class=\"colab-df-buttons\">\n",
              "\n",
              "  <div class=\"colab-df-container\">\n",
              "    <button class=\"colab-df-convert\" onclick=\"convertToInteractive('df-ac984114-527c-4f7e-b2f8-983c4d3437a0')\"\n",
              "            title=\"Convert this dataframe to an interactive table.\"\n",
              "            style=\"display:none;\">\n",
              "\n",
              "  <svg xmlns=\"http://www.w3.org/2000/svg\" height=\"24px\" viewBox=\"0 -960 960 960\">\n",
              "    <path d=\"M120-120v-720h720v720H120Zm60-500h600v-160H180v160Zm220 220h160v-160H400v160Zm0 220h160v-160H400v160ZM180-400h160v-160H180v160Zm440 0h160v-160H620v160ZM180-180h160v-160H180v160Zm440 0h160v-160H620v160Z\"/>\n",
              "  </svg>\n",
              "    </button>\n",
              "\n",
              "  <style>\n",
              "    .colab-df-container {\n",
              "      display:flex;\n",
              "      gap: 12px;\n",
              "    }\n",
              "\n",
              "    .colab-df-convert {\n",
              "      background-color: #E8F0FE;\n",
              "      border: none;\n",
              "      border-radius: 50%;\n",
              "      cursor: pointer;\n",
              "      display: none;\n",
              "      fill: #1967D2;\n",
              "      height: 32px;\n",
              "      padding: 0 0 0 0;\n",
              "      width: 32px;\n",
              "    }\n",
              "\n",
              "    .colab-df-convert:hover {\n",
              "      background-color: #E2EBFA;\n",
              "      box-shadow: 0px 1px 2px rgba(60, 64, 67, 0.3), 0px 1px 3px 1px rgba(60, 64, 67, 0.15);\n",
              "      fill: #174EA6;\n",
              "    }\n",
              "\n",
              "    .colab-df-buttons div {\n",
              "      margin-bottom: 4px;\n",
              "    }\n",
              "\n",
              "    [theme=dark] .colab-df-convert {\n",
              "      background-color: #3B4455;\n",
              "      fill: #D2E3FC;\n",
              "    }\n",
              "\n",
              "    [theme=dark] .colab-df-convert:hover {\n",
              "      background-color: #434B5C;\n",
              "      box-shadow: 0px 1px 3px 1px rgba(0, 0, 0, 0.15);\n",
              "      filter: drop-shadow(0px 1px 2px rgba(0, 0, 0, 0.3));\n",
              "      fill: #FFFFFF;\n",
              "    }\n",
              "  </style>\n",
              "\n",
              "    <script>\n",
              "      const buttonEl =\n",
              "        document.querySelector('#df-ac984114-527c-4f7e-b2f8-983c4d3437a0 button.colab-df-convert');\n",
              "      buttonEl.style.display =\n",
              "        google.colab.kernel.accessAllowed ? 'block' : 'none';\n",
              "\n",
              "      async function convertToInteractive(key) {\n",
              "        const element = document.querySelector('#df-ac984114-527c-4f7e-b2f8-983c4d3437a0');\n",
              "        const dataTable =\n",
              "          await google.colab.kernel.invokeFunction('convertToInteractive',\n",
              "                                                    [key], {});\n",
              "        if (!dataTable) return;\n",
              "\n",
              "        const docLinkHtml = 'Like what you see? Visit the ' +\n",
              "          '<a target=\"_blank\" href=https://colab.research.google.com/notebooks/data_table.ipynb>data table notebook</a>'\n",
              "          + ' to learn more about interactive tables.';\n",
              "        element.innerHTML = '';\n",
              "        dataTable['output_type'] = 'display_data';\n",
              "        await google.colab.output.renderOutput(dataTable, element);\n",
              "        const docLink = document.createElement('div');\n",
              "        docLink.innerHTML = docLinkHtml;\n",
              "        element.appendChild(docLink);\n",
              "      }\n",
              "    </script>\n",
              "  </div>\n",
              "\n",
              "\n",
              "<div id=\"df-eb1b967a-e6ba-4089-a244-299a9090e54a\">\n",
              "  <button class=\"colab-df-quickchart\" onclick=\"quickchart('df-eb1b967a-e6ba-4089-a244-299a9090e54a')\"\n",
              "            title=\"Suggest charts\"\n",
              "            style=\"display:none;\">\n",
              "\n",
              "<svg xmlns=\"http://www.w3.org/2000/svg\" height=\"24px\"viewBox=\"0 0 24 24\"\n",
              "     width=\"24px\">\n",
              "    <g>\n",
              "        <path d=\"M19 3H5c-1.1 0-2 .9-2 2v14c0 1.1.9 2 2 2h14c1.1 0 2-.9 2-2V5c0-1.1-.9-2-2-2zM9 17H7v-7h2v7zm4 0h-2V7h2v10zm4 0h-2v-4h2v4z\"/>\n",
              "    </g>\n",
              "</svg>\n",
              "  </button>\n",
              "\n",
              "<style>\n",
              "  .colab-df-quickchart {\n",
              "      --bg-color: #E8F0FE;\n",
              "      --fill-color: #1967D2;\n",
              "      --hover-bg-color: #E2EBFA;\n",
              "      --hover-fill-color: #174EA6;\n",
              "      --disabled-fill-color: #AAA;\n",
              "      --disabled-bg-color: #DDD;\n",
              "  }\n",
              "\n",
              "  [theme=dark] .colab-df-quickchart {\n",
              "      --bg-color: #3B4455;\n",
              "      --fill-color: #D2E3FC;\n",
              "      --hover-bg-color: #434B5C;\n",
              "      --hover-fill-color: #FFFFFF;\n",
              "      --disabled-bg-color: #3B4455;\n",
              "      --disabled-fill-color: #666;\n",
              "  }\n",
              "\n",
              "  .colab-df-quickchart {\n",
              "    background-color: var(--bg-color);\n",
              "    border: none;\n",
              "    border-radius: 50%;\n",
              "    cursor: pointer;\n",
              "    display: none;\n",
              "    fill: var(--fill-color);\n",
              "    height: 32px;\n",
              "    padding: 0;\n",
              "    width: 32px;\n",
              "  }\n",
              "\n",
              "  .colab-df-quickchart:hover {\n",
              "    background-color: var(--hover-bg-color);\n",
              "    box-shadow: 0 1px 2px rgba(60, 64, 67, 0.3), 0 1px 3px 1px rgba(60, 64, 67, 0.15);\n",
              "    fill: var(--button-hover-fill-color);\n",
              "  }\n",
              "\n",
              "  .colab-df-quickchart-complete:disabled,\n",
              "  .colab-df-quickchart-complete:disabled:hover {\n",
              "    background-color: var(--disabled-bg-color);\n",
              "    fill: var(--disabled-fill-color);\n",
              "    box-shadow: none;\n",
              "  }\n",
              "\n",
              "  .colab-df-spinner {\n",
              "    border: 2px solid var(--fill-color);\n",
              "    border-color: transparent;\n",
              "    border-bottom-color: var(--fill-color);\n",
              "    animation:\n",
              "      spin 1s steps(1) infinite;\n",
              "  }\n",
              "\n",
              "  @keyframes spin {\n",
              "    0% {\n",
              "      border-color: transparent;\n",
              "      border-bottom-color: var(--fill-color);\n",
              "      border-left-color: var(--fill-color);\n",
              "    }\n",
              "    20% {\n",
              "      border-color: transparent;\n",
              "      border-left-color: var(--fill-color);\n",
              "      border-top-color: var(--fill-color);\n",
              "    }\n",
              "    30% {\n",
              "      border-color: transparent;\n",
              "      border-left-color: var(--fill-color);\n",
              "      border-top-color: var(--fill-color);\n",
              "      border-right-color: var(--fill-color);\n",
              "    }\n",
              "    40% {\n",
              "      border-color: transparent;\n",
              "      border-right-color: var(--fill-color);\n",
              "      border-top-color: var(--fill-color);\n",
              "    }\n",
              "    60% {\n",
              "      border-color: transparent;\n",
              "      border-right-color: var(--fill-color);\n",
              "    }\n",
              "    80% {\n",
              "      border-color: transparent;\n",
              "      border-right-color: var(--fill-color);\n",
              "      border-bottom-color: var(--fill-color);\n",
              "    }\n",
              "    90% {\n",
              "      border-color: transparent;\n",
              "      border-bottom-color: var(--fill-color);\n",
              "    }\n",
              "  }\n",
              "</style>\n",
              "\n",
              "  <script>\n",
              "    async function quickchart(key) {\n",
              "      const quickchartButtonEl =\n",
              "        document.querySelector('#' + key + ' button');\n",
              "      quickchartButtonEl.disabled = true;  // To prevent multiple clicks.\n",
              "      quickchartButtonEl.classList.add('colab-df-spinner');\n",
              "      try {\n",
              "        const charts = await google.colab.kernel.invokeFunction(\n",
              "            'suggestCharts', [key], {});\n",
              "      } catch (error) {\n",
              "        console.error('Error during call to suggestCharts:', error);\n",
              "      }\n",
              "      quickchartButtonEl.classList.remove('colab-df-spinner');\n",
              "      quickchartButtonEl.classList.add('colab-df-quickchart-complete');\n",
              "    }\n",
              "    (() => {\n",
              "      let quickchartButtonEl =\n",
              "        document.querySelector('#df-eb1b967a-e6ba-4089-a244-299a9090e54a button');\n",
              "      quickchartButtonEl.style.display =\n",
              "        google.colab.kernel.accessAllowed ? 'block' : 'none';\n",
              "    })();\n",
              "  </script>\n",
              "</div>\n",
              "\n",
              "    </div>\n",
              "  </div>\n"
            ],
            "application/vnd.google.colaboratory.intrinsic+json": {
              "type": "dataframe",
              "summary": "{\n  \"name\": \"df[numerical_cols]\",\n  \"rows\": 8,\n  \"fields\": [\n    {\n      \"column\": \"age\",\n      \"properties\": {\n        \"dtype\": \"number\",\n        \"std\": 1777.0824232594107,\n        \"min\": 1.0,\n        \"max\": 5066.0,\n        \"num_unique_values\": 8,\n        \"samples\": [\n          43.58547177260166,\n          45.0,\n          5066.0\n        ],\n        \"semantic_type\": \"\",\n        \"description\": \"\"\n      }\n    },\n    {\n      \"column\": \"avg_glucose_level\",\n      \"properties\": {\n        \"dtype\": \"number\",\n        \"std\": 1754.043427963463,\n        \"min\": 45.39601327252144,\n        \"max\": 5066.0,\n        \"num_unique_values\": 8,\n        \"samples\": [\n          106.23427161468615,\n          91.89,\n          5066.0\n        ],\n        \"semantic_type\": \"\",\n        \"description\": \"\"\n      }\n    },\n    {\n      \"column\": \"bmi\",\n      \"properties\": {\n        \"dtype\": \"number\",\n        \"std\": 1779.721424262255,\n        \"min\": 7.661451158444186,\n        \"max\": 5066.0,\n        \"num_unique_values\": 8,\n        \"samples\": [\n          28.98336900559789,\n          28.4,\n          5066.0\n        ],\n        \"semantic_type\": \"\",\n        \"description\": \"\"\n      }\n    }\n  ]\n}"
            }
          },
          "metadata": {},
          "execution_count": 28
        }
      ]
    },
    {
      "cell_type": "code",
      "source": [
        "plot_boxplots(df[numerical_cols].drop('id' , axis = 1) ,2,2 )"
      ],
      "metadata": {
        "colab": {
          "base_uri": "https://localhost:8080/",
          "height": 1000
        },
        "id": "Nqe5I4c3Km0l",
        "outputId": "37081005-ecdd-467c-f1fb-d88ca6dd9e38"
      },
      "execution_count": null,
      "outputs": [
        {
          "output_type": "display_data",
          "data": {
            "text/html": [
              "<html>\n",
              "<head><meta charset=\"utf-8\" /></head>\n",
              "<body>\n",
              "    <div>            <script src=\"https://cdnjs.cloudflare.com/ajax/libs/mathjax/2.7.5/MathJax.js?config=TeX-AMS-MML_SVG\"></script><script type=\"text/javascript\">if (window.MathJax && window.MathJax.Hub && window.MathJax.Hub.Config) {window.MathJax.Hub.Config({SVG: {font: \"STIX-Web\"}});}</script>                <script type=\"text/javascript\">window.PlotlyConfig = {MathJaxConfig: 'local'};</script>\n",
              "        <script charset=\"utf-8\" src=\"https://cdn.plot.ly/plotly-2.35.2.min.js\"></script>                <div id=\"daad8157-9975-4ce9-8d02-64052a37ba48\" class=\"plotly-graph-div\" style=\"height:1000px; width:1000px;\"></div>            <script type=\"text/javascript\">                                    window.PLOTLYENV=window.PLOTLYENV || {};                                    if (document.getElementById(\"daad8157-9975-4ce9-8d02-64052a37ba48\")) {                    Plotly.newPlot(                        \"daad8157-9975-4ce9-8d02-64052a37ba48\",                        [{\"marker\":{\"color\":\"rgba(50, 171, 96, 0.6)\",\"line\":{\"color\":\"black\",\"width\":1}},\"name\":\"age boxplot\",\"y\":[67.0,61.0,80.0,49.0,79.0,81.0,74.0,69.0,59.0,78.0,81.0,61.0,54.0,78.0,79.0,50.0,64.0,75.0,60.0,57.0,71.0,52.0,79.0,82.0,71.0,80.0,65.0,58.0,69.0,59.0,57.0,42.0,82.0,80.0,48.0,82.0,74.0,72.0,58.0,49.0,78.0,54.0,82.0,63.0,60.0,76.0,75.0,58.0,81.0,39.0,76.0,78.0,79.0,77.0,63.0,63.0,82.0,78.0,73.0,54.0,56.0,80.0,67.0,45.0,75.0,78.0,70.0,76.0,59.0,80.0,76.0,67.0,66.0,63.0,52.0,80.0,80.0,79.0,51.0,43.0,59.0,66.0,79.0,68.0,58.0,54.0,61.0,70.0,47.0,74.0,79.0,81.0,57.0,80.0,45.0,78.0,70.0,58.0,57.0,69.0,64.0,77.0,74.0,81.0,57.0,58.0,50.0,54.0,79.0,53.0,79.0,80.0,76.0,45.0,68.0,71.0,61.0,74.0,38.0,77.0,58.0,53.0,80.0,56.0,72.0,72.0,78.0,80.0,82.0,75.0,73.0,78.0,69.0,38.0,68.0,71.0,76.0,76.0,76.0,75.0,82.0,59.0,74.0,69.0,72.0,66.0,65.0,78.0,57.0,70.0,79.0,68.0,80.0,68.0,55.0,77.0,50.0,57.0,71.0,81.0,76.0,71.0,1.0,78.0,70.0,78.0,56.0,79.0,79.0,81.0,64.0,79.0,60.0,80.0,78.0,72.0,80.0,78.0,80.0,81.0,46.0,59.0,32.0,77.0,61.0,63.0,63.0,82.0,82.0,61.0,65.0,51.0,59.0,68.0,72.0,59.0,70.0,69.0,79.0,74.0,74.0,80.0,77.0,78.0,54.0,78.0,81.0,78.0,78.0,63.0,39.0,51.0,63.0,48.0,81.0,79.0,78.0,55.0,76.0,73.0,81.0,79.0,63.0,81.0,49.0,57.0,81.0,74.0,39.0,80.0,81.0,79.0,73.0,77.0,78.0,68.0,57.0,77.0,51.0,60.0,66.0,57.0,68.0,68.0,57.0,14.0,75.0,71.0,78.0,3.0,58.0,8.0,70.0,14.0,47.0,52.0,75.0,32.0,74.0,79.0,79.0,37.0,37.0,40.0,35.0,20.0,42.0,44.0,79.0,65.0,57.0,49.0,71.0,59.0,25.0,67.0,38.0,54.0,70.0,27.0,47.0,58.0,3.0,58.0,14.0,32.0,23.0,55.0,17.0,59.0,13.0,4.0,16.0,67.0,22.0,45.0,66.0,58.0,69.0,58.0,53.0,78.0,44.0,66.0,27.0,43.0,13.0,51.0,30.0,46.0,43.0,79.0,27.0,38.0,78.0,57.0,61.0,37.0,48.0,29.0,22.0,11.0,22.0,53.0,27.0,76.0,57.0,8.0,21.0,18.0,78.0,78.0,33.0,52.0,51.0,11.0,48.0,82.0,54.0,49.0,24.0,37.0,34.0,64.0,66.0,23.0,68.0,55.0,25.0,48.0,79.0,47.0,20.0,60.0,32.0,66.0,43.0,36.0,52.0,29.0,76.0,39.0,76.0,34.0,72.0,43.0,57.0,44.0,4.0,44.0,18.0,41.0,23.0,53.0,56.0,25.0,14.0,53.0,4.0,39.0,53.0,5.0,4.0,37.0,70.0,24.0,55.0,70.0,34.0,26.0,39.0,38.0,20.0,17.0,60.0,75.0,31.0,58.0,5.0,13.0,22.0,52.0,61.0,78.0,57.0,21.0,22.0,80.0,7.0,64.0,64.0,38.0,12.0,33.0,3.0,37.0,22.0,24.0,75.0,12.0,63.0,52.0,68.0,5.0,56.0,43.0,40.0,53.0,52.0,31.0,63.0,69.0,64.0,64.0,62.0,2.0,53.0,65.0,22.0,26.0,53.0,20.0,63.0,13.0,21.0,65.0,65.0,42.0,72.0,13.0,29.0,59.0,42.0,13.0,75.0,33.0,43.0,11.0,7.0,16.0,44.0,78.0,25.0,69.0,61.0,43.0,38.0,68.0,26.0,18.0,43.0,43.0,32.0,81.0,25.0,61.0,66.0,54.0,11.0,53.0,78.0,9.0,48.0,31.0,20.0,21.0,42.0,35.0,53.0,60.0,74.0,23.0,55.0,71.0,5.0,14.0,15.0,66.0,56.0,60.0,57.0,29.0,76.0,52.0,42.0,71.0,64.0,39.0,46.0,51.0,31.0,22.0,41.0,28.0,44.0,68.0,49.0,10.0,31.0,67.0,40.0,70.0,38.0,5.0,54.0,30.0,23.0,31.0,72.0,23.0,25.0,51.0,20.0,12.0,57.0,65.0,16.0,43.0,30.0,29.0,54.0,57.0,42.0,18.0,9.0,26.0,40.0,77.0,15.0,76.0,52.0,55.0,5.0,55.0,36.0,46.0,5.0,39.0,12.0,67.0,1.0,72.0,64.0,27.0,25.0,81.0,32.0,57.0,52.0,54.0,36.0,18.0,45.0,29.0,51.0,23.0,54.0,54.0,18.0,26.0,72.0,5.0,65.0,42.0,47.0,24.0,57.0,51.0,48.0,56.0,30.0,63.0,46.0,53.0,1.0,15.0,59.0,24.0,53.0,39.0,23.0,31.0,5.0,44.0,1.0,40.0,7.0,56.0,42.0,48.0,82.0,52.0,42.0,73.0,55.0,50.0,43.0,33.0,80.0,33.0,74.0,65.0,40.0,52.0,66.0,20.0,51.0,60.0,59.0,58.0,42.0,28.0,57.0,66.0,56.0,48.0,37.0,27.0,15.0,61.0,80.0,43.0,53.0,70.0,58.0,49.0,65.0,54.0,74.0,56.0,79.0,71.0,28.0,9.0,4.0,36.0,78.0,52.0,80.0,28.0,38.0,56.0,75.0,76.0,10.0,48.0,40.0,82.0,61.0,17.0,58.0,12.0,53.0,26.0,48.0,25.0,27.0,31.0,16.0,20.0,2.0,1.0,28.0,32.0,35.0,52.0,55.0,42.0,52.0,18.0,13.0,45.0,29.0,12.0,37.0,30.0,44.0,79.0,38.0,45.0,66.0,19.0,49.0,66.0,47.0,59.0,23.0,79.0,37.0,78.0,70.0,34.0,28.0,29.0,13.0,22.0,56.0,81.0,28.0,9.0,50.0,70.0,30.0,51.0,24.0,17.0,43.0,9.0,50.0,49.0,6.0,30.0,73.0,20.0,42.0,79.0,55.0,27.0,71.0,9.0,23.0,71.0,56.0,31.0,64.0,46.0,55.0,2.0,58.0,78.0,1.0,35.0,64.0,18.0,19.0,47.0,54.0,39.0,37.0,17.0,20.0,31.0,56.0,31.0,82.0,33.0,42.0,20.0,22.0,61.0,31.0,31.0,17.0,30.0,69.0,63.0,19.0,7.0,51.0,38.0,2.0,58.0,69.0,64.0,31.0,59.0,54.0,24.0,19.0,17.0,29.0,42.0,31.0,29.0,23.0,25.0,14.0,66.0,77.0,79.0,52.0,41.0,31.0,39.0,51.0,40.0,48.0,55.0,41.0,39.0,41.0,5.0,38.0,40.0,12.0,20.0,53.0,21.0,70.0,61.0,70.0,38.0,59.0,36.0,31.0,65.0,61.0,2.0,52.0,33.0,5.0,32.0,54.0,51.0,39.0,40.0,19.0,9.0,53.0,23.0,19.0,1.0,48.0,71.0,44.0,53.0,70.0,1.0,49.0,17.0,40.0,46.0,32.0,2.0,40.0,19.0,43.0,46.0,71.0,31.0,41.0,65.0,52.0,20.0,77.0,51.0,37.0,49.0,62.0,17.0,28.0,80.0,45.0,37.0,3.0,26.0,71.0,58.0,59.0,74.0,17.0,62.0,37.0,19.0,59.0,59.0,62.0,80.0,54.0,27.0,4.0,81.0,41.0,27.0,51.0,59.0,51.0,71.0,48.0,49.0,35.0,25.0,31.0,68.0,39.0,32.0,39.0,63.0,69.0,29.0,1.0,58.0,32.0,63.0,57.0,77.0,8.0,21.0,16.0,8.0,71.0,74.0,7.0,19.0,64.0,23.0,75.0,80.0,40.0,24.0,74.0,52.0,54.0,23.0,19.0,23.0,13.0,51.0,60.0,79.0,75.0,69.0,57.0,47.0,33.0,51.0,47.0,15.0,1.0,20.0,6.0,50.0,31.0,15.0,3.0,30.0,17.0,24.0,5.0,33.0,30.0,66.0,40.0,27.0,21.0,55.0,19.0,75.0,71.0,16.0,49.0,10.0,37.0,59.0,7.0,61.0,34.0,9.0,46.0,50.0,19.0,21.0,2.0,37.0,20.0,50.0,61.0,48.0,82.0,64.0,50.0,1.0,55.0,29.0,4.0,70.0,35.0,80.0,54.0,39.0,26.0,6.0,41.0,42.0,9.0,55.0,71.0,14.0,77.0,50.0,49.0,51.0,79.0,63.0,66.0,20.0,37.0,22.0,60.0,39.0,53.0,55.0,63.0,57.0,82.0,56.0,41.0,8.0,34.0,75.0,57.0,72.0,21.0,51.0,15.0,24.0,30.0,82.0,62.0,79.0,19.0,45.0,5.0,57.0,31.0,61.0,27.0,61.0,53.0,76.0,57.0,9.0,34.0,51.0,61.0,19.0,50.0,80.0,13.0,55.0,67.0,30.0,67.0,82.0,5.0,81.0,48.0,66.0,38.0,8.0,47.0,27.0,53.0,27.0,36.0,50.0,32.0,58.0,73.0,62.0,50.0,51.0,19.0,30.0,45.0,30.0,28.0,70.0,23.0,18.0,41.0,52.0,77.0,34.0,67.0,1.0,23.0,59.0,62.0,47.0,71.0,22.0,33.0,27.0,44.0,18.0,47.0,66.0,42.0,13.0,56.0,69.0,65.0,53.0,36.0,69.0,19.0,3.0,15.0,59.0,61.0,28.0,52.0,33.0,80.0,47.0,2.0,48.0,1.0,26.0,62.0,1.0,38.0,28.0,67.0,57.0,40.0,10.0,55.0,7.0,56.0,37.0,69.0,45.0,28.0,52.0,46.0,45.0,21.0,4.0,45.0,71.0,46.0,3.0,79.0,71.0,74.0,52.0,49.0,32.0,62.0,78.0,48.0,18.0,80.0,34.0,40.0,59.0,11.0,35.0,29.0,23.0,59.0,44.0,62.0,32.0,2.0,73.0,79.0,2.0,43.0,43.0,62.0,73.0,31.0,42.0,20.0,55.0,3.0,23.0,33.0,14.0,79.0,64.0,76.0,46.0,80.0,21.0,33.0,32.0,49.0,41.0,37.0,58.0,79.0,23.0,78.0,51.0,41.0,68.0,30.0,1.0,32.0,20.0,20.0,10.0,8.0,65.0,65.0,46.0,53.0,79.0,43.0,56.0,3.0,32.0,41.0,53.0,35.0,67.0,33.0,21.0,26.0,69.0,73.0,15.0,3.0,1.0,80.0,2.0,50.0,30.0,15.0,71.0,4.0,2.0,11.0,45.0,22.0,63.0,50.0,25.0,49.0,39.0,43.0,67.0,48.0,38.0,14.0,63.0,37.0,20.0,60.0,13.0,34.0,22.0,46.0,53.0,28.0,62.0,6.0,11.0,66.0,80.0,8.0,53.0,63.0,31.0,43.0,79.0,8.0,38.0,80.0,49.0,50.0,13.0,46.0,73.0,60.0,44.0,79.0,5.0,51.0,71.0,5.0,65.0,81.0,46.0,44.0,54.0,25.0,49.0,80.0,22.0,61.0,3.0,50.0,45.0,55.0,21.0,50.0,73.0,58.0,30.0,55.0,57.0,80.0,77.0,29.0,46.0,40.0,29.0,37.0,35.0,54.0,56.0,26.0,75.0,44.0,63.0,17.0,46.0,47.0,50.0,49.0,76.0,47.0,47.0,49.0,71.0,65.0,40.0,82.0,64.0,72.0,50.0,40.0,74.0,30.0,68.0,6.0,4.0,60.0,59.0,72.0,62.0,13.0,72.0,1.0,35.0,54.0,40.0,3.0,2.0,41.0,61.0,58.0,17.0,64.0,32.0,42.0,39.0,10.0,78.0,68.0,24.0,59.0,45.0,12.0,37.0,43.0,12.0,13.0,74.0,2.0,59.0,21.0,55.0,14.0,53.0,75.0,37.0,49.0,55.0,57.0,45.0,46.0,12.0,12.0,77.0,6.0,76.0,52.0,62.0,82.0,69.0,78.0,37.0,50.0,41.0,54.0,43.0,37.0,9.0,11.0,56.0,5.0,17.0,6.0,25.0,57.0,18.0,2.0,76.0,1.0,54.0,45.0,54.0,67.0,53.0,47.0,44.0,65.0,40.0,3.0,81.0,24.0,9.0,52.0,63.0,78.0,22.0,2.0,79.0,49.0,74.0,62.0,16.0,62.0,27.0,50.0,49.0,24.0,21.0,17.0,22.0,13.0,21.0,51.0,8.0,48.0,16.0,18.0,7.0,68.0,49.0,80.0,31.0,25.0,39.0,35.0,71.0,71.0,40.0,41.0,2.0,3.0,53.0,1.0,60.0,5.0,30.0,49.0,68.0,23.0,2.0,24.0,41.0,63.0,64.0,38.0,1.0,38.0,43.0,27.0,61.0,42.0,46.0,67.0,34.0,51.0,77.0,30.0,81.0,12.0,18.0,35.0,82.0,53.0,75.0,32.0,27.0,56.0,71.0,78.0,44.0,62.0,27.0,42.0,66.0,25.0,82.0,49.0,77.0,59.0,54.0,38.0,55.0,13.0,45.0,54.0,30.0,51.0,47.0,25.0,61.0,55.0,23.0,71.0,59.0,4.0,65.0,50.0,42.0,51.0,66.0,22.0,5.0,19.0,47.0,12.0,53.0,26.0,62.0,81.0,63.0,25.0,8.0,76.0,44.0,65.0,54.0,24.0,65.0,12.0,33.0,74.0,18.0,77.0,48.0,52.0,23.0,25.0,44.0,78.0,37.0,32.0,67.0,41.0,2.0,75.0,17.0,13.0,25.0,57.0,31.0,61.0,46.0,47.0,15.0,47.0,68.0,40.0,62.0,45.0,47.0,35.0,51.0,60.0,59.0,1.0,18.0,81.0,15.0,73.0,53.0,45.0,70.0,56.0,7.0,66.0,53.0,20.0,15.0,51.0,34.0,33.0,53.0,69.0,28.0,81.0,20.0,1.0,2.0,77.0,38.0,23.0,67.0,59.0,41.0,76.0,21.0,41.0,54.0,29.0,25.0,48.0,6.0,21.0,32.0,57.0,64.0,70.0,44.0,60.0,56.0,53.0,59.0,53.0,63.0,42.0,63.0,52.0,62.0,68.0,36.0,3.0,40.0,8.0,58.0,45.0,65.0,28.0,40.0,65.0,58.0,44.0,54.0,79.0,62.0,37.0,66.0,63.0,27.0,6.0,30.0,15.0,50.0,32.0,33.0,62.0,82.0,71.0,20.0,44.0,57.0,50.0,50.0,44.0,47.0,35.0,8.0,3.0,29.0,36.0,19.0,41.0,23.0,14.0,35.0,45.0,52.0,19.0,21.0,8.0,35.0,33.0,53.0,59.0,34.0,31.0,43.0,61.0,57.0,11.0,36.0,16.0,60.0,13.0,69.0,69.0,22.0,63.0,45.0,58.0,61.0,30.0,78.0,68.0,16.0,38.0,39.0,51.0,37.0,16.0,39.0,24.0,51.0,50.0,27.0,73.0,65.0,76.0,66.0,53.0,65.0,48.0,31.0,1.0,45.0,56.0,62.0,35.0,16.0,31.0,5.0,26.0,10.0,22.0,82.0,50.0,47.0,31.0,22.0,12.0,63.0,78.0,4.0,76.0,32.0,81.0,39.0,59.0,2.0,37.0,78.0,75.0,34.0,48.0,13.0,54.0,13.0,24.0,76.0,1.0,57.0,46.0,26.0,56.0,34.0,25.0,60.0,22.0,35.0,48.0,38.0,12.0,22.0,13.0,78.0,23.0,35.0,78.0,50.0,61.0,60.0,43.0,60.0,51.0,21.0,16.0,25.0,36.0,8.0,48.0,14.0,60.0,61.0,60.0,56.0,9.0,45.0,14.0,37.0,52.0,30.0,60.0,47.0,82.0,64.0,12.0,79.0,77.0,25.0,26.0,14.0,42.0,37.0,8.0,78.0,18.0,78.0,55.0,68.0,47.0,47.0,51.0,43.0,78.0,63.0,45.0,53.0,12.0,56.0,29.0,10.0,55.0,49.0,23.0,53.0,56.0,56.0,61.0,45.0,80.0,47.0,3.0,63.0,68.0,76.0,62.0,30.0,44.0,47.0,25.0,31.0,71.0,32.0,72.0,44.0,63.0,37.0,54.0,20.0,56.0,25.0,19.0,62.0,27.0,5.0,20.0,21.0,44.0,39.0,38.0,77.0,26.0,51.0,39.0,5.0,59.0,67.0,45.0,43.0,80.0,42.0,8.0,68.0,5.0,57.0,44.0,16.0,60.0,58.0,43.0,50.0,1.0,5.0,9.0,67.0,21.0,36.0,70.0,57.0,52.0,28.0,41.0,81.0,33.0,31.0,42.0,10.0,34.0,70.0,33.0,58.0,25.0,1.0,47.0,14.0,82.0,52.0,72.0,52.0,61.0,15.0,1.0,6.0,3.0,18.0,53.0,58.0,31.0,29.0,5.0,40.0,75.0,52.0,39.0,40.0,78.0,39.0,17.0,45.0,13.0,26.0,42.0,44.0,3.0,42.0,25.0,41.0,51.0,20.0,25.0,18.0,37.0,51.0,2.0,38.0,64.0,60.0,22.0,71.0,32.0,32.0,63.0,54.0,25.0,80.0,31.0,53.0,35.0,31.0,60.0,21.0,78.0,59.0,10.0,60.0,11.0,48.0,50.0,69.0,20.0,22.0,55.0,57.0,29.0,32.0,54.0,37.0,58.0,41.0,72.0,32.0,54.0,79.0,56.0,45.0,6.0,45.0,60.0,65.0,57.0,58.0,8.0,18.0,49.0,2.0,52.0,63.0,57.0,50.0,12.0,35.0,35.0,64.0,42.0,62.0,3.0,43.0,52.0,64.0,59.0,81.0,15.0,50.0,73.0,19.0,30.0,40.0,47.0,66.0,47.0,41.0,63.0,12.0,1.0,46.0,8.0,74.0,74.0,4.0,26.0,63.0,48.0,24.0,47.0,70.0,41.0,42.0,57.0,51.0,15.0,11.0,27.0,53.0,52.0,68.0,65.0,23.0,43.0,55.0,52.0,21.0,78.0,35.0,49.0,50.0,27.0,52.0,22.0,19.0,77.0,57.0,13.0,14.0,29.0,49.0,1.0,21.0,36.0,42.0,56.0,46.0,79.0,25.0,67.0,37.0,44.0,36.0,17.0,50.0,53.0,39.0,71.0,18.0,55.0,52.0,27.0,24.0,72.0,41.0,29.0,26.0,23.0,43.0,43.0,49.0,13.0,26.0,10.0,39.0,41.0,25.0,10.0,54.0,7.0,53.0,55.0,6.0,72.0,42.0,50.0,55.0,47.0,3.0,49.0,12.0,28.0,40.0,55.0,9.0,77.0,18.0,73.0,67.0,58.0,2.0,38.0,5.0,34.0,78.0,57.0,17.0,71.0,19.0,56.0,64.0,13.0,40.0,80.0,62.0,79.0,9.0,77.0,26.0,1.0,16.0,40.0,46.0,45.0,59.0,31.0,69.0,73.0,56.0,80.0,60.0,40.0,30.0,66.0,78.0,37.0,41.0,34.0,18.0,69.0,67.0,28.0,3.0,57.0,34.0,50.0,55.0,2.0,27.0,57.0,73.0,52.0,65.0,48.0,54.0,8.0,45.0,48.0,77.0,34.0,33.0,39.0,39.0,40.0,46.0,1.0,5.0,14.0,49.0,45.0,13.0,76.0,14.0,20.0,9.0,78.0,49.0,55.0,43.0,16.0,58.0,67.0,71.0,8.0,18.0,47.0,59.0,28.0,20.0,67.0,71.0,56.0,44.0,6.0,78.0,32.0,40.0,63.0,51.0,22.0,82.0,17.0,34.0,42.0,32.0,73.0,47.0,34.0,64.0,52.0,49.0,55.0,64.0,23.0,18.0,65.0,12.0,61.0,66.0,59.0,47.0,47.0,71.0,62.0,28.0,7.0,68.0,37.0,75.0,5.0,1.0,34.0,49.0,8.0,50.0,2.0,1.0,76.0,18.0,82.0,67.0,27.0,57.0,51.0,68.0,56.0,77.0,52.0,18.0,63.0,31.0,37.0,64.0,47.0,1.0,42.0,37.0,69.0,13.0,73.0,48.0,78.0,21.0,54.0,43.0,19.0,82.0,80.0,69.0,21.0,46.0,14.0,6.0,3.0,47.0,34.0,41.0,67.0,5.0,20.0,63.0,73.0,62.0,50.0,71.0,30.0,80.0,64.0,7.0,36.0,79.0,35.0,28.0,72.0,12.0,25.0,27.0,62.0,58.0,30.0,56.0,28.0,47.0,16.0,29.0,26.0,26.0,55.0,29.0,29.0,33.0,19.0,10.0,3.0,60.0,16.0,35.0,41.0,19.0,79.0,41.0,1.0,51.0,33.0,33.0,48.0,45.0,61.0,31.0,60.0,51.0,53.0,52.0,42.0,56.0,14.0,40.0,58.0,52.0,30.0,47.0,34.0,82.0,31.0,58.0,47.0,65.0,13.0,37.0,9.0,7.0,37.0,62.0,14.0,77.0,36.0,3.0,78.0,49.0,44.0,10.0,8.0,60.0,56.0,73.0,65.0,34.0,13.0,80.0,46.0,80.0,65.0,24.0,33.0,11.0,57.0,19.0,82.0,39.0,14.0,60.0,3.0,57.0,79.0,65.0,67.0,60.0,36.0,36.0,26.0,71.0,78.0,77.0,74.0,50.0,9.0,1.0,54.0,8.0,36.0,38.0,34.0,7.0,5.0,14.0,30.0,39.0,17.0,14.0,52.0,78.0,2.0,32.0,50.0,48.0,66.0,78.0,46.0,54.0,81.0,15.0,77.0,59.0,48.0,76.0,49.0,44.0,39.0,34.0,50.0,62.0,38.0,43.0,28.0,58.0,28.0,18.0,62.0,31.0,55.0,54.0,73.0,26.0,73.0,38.0,75.0,81.0,20.0,12.0,78.0,42.0,71.0,16.0,4.0,79.0,60.0,45.0,23.0,21.0,67.0,10.0,24.0,50.0,79.0,14.0,13.0,71.0,66.0,32.0,46.0,48.0,45.0,55.0,31.0,25.0,73.0,14.0,56.0,60.0,27.0,28.0,46.0,11.0,63.0,59.0,57.0,35.0,54.0,7.0,48.0,69.0,59.0,72.0,49.0,73.0,24.0,26.0,27.0,78.0,77.0,59.0,39.0,35.0,54.0,75.0,80.0,35.0,22.0,39.0,6.0,62.0,13.0,56.0,53.0,5.0,44.0,13.0,59.0,35.0,52.0,76.0,51.0,79.0,69.0,78.0,60.0,10.0,42.0,21.0,56.0,59.0,69.0,25.0,63.0,25.0,58.0,28.0,46.0,53.0,37.0,12.0,14.0,60.0,42.0,65.0,80.0,32.0,53.0,50.0,23.0,45.0,49.0,70.0,82.0,23.0,79.0,74.0,78.0,50.0,34.0,47.0,52.0,67.0,62.0,18.0,75.0,42.0,29.0,52.0,18.0,67.0,66.0,5.0,18.0,52.0,44.0,46.0,36.0,61.0,7.0,15.0,61.0,20.0,2.0,47.0,25.0,66.0,2.0,63.0,53.0,33.0,23.0,23.0,81.0,55.0,69.0,58.0,70.0,48.0,15.0,31.0,2.0,80.0,69.0,52.0,80.0,54.0,2.0,39.0,38.0,76.0,45.0,1.0,77.0,46.0,50.0,52.0,73.0,41.0,40.0,59.0,48.0,42.0,26.0,39.0,34.0,54.0,57.0,1.0,50.0,64.0,44.0,38.0,32.0,17.0,81.0,15.0,5.0,70.0,52.0,67.0,17.0,61.0,31.0,58.0,12.0,30.0,65.0,23.0,14.0,27.0,53.0,58.0,9.0,59.0,46.0,41.0,55.0,43.0,5.0,15.0,36.0,36.0,47.0,18.0,19.0,65.0,17.0,54.0,46.0,59.0,48.0,38.0,18.0,56.0,3.0,41.0,67.0,60.0,47.0,24.0,43.0,17.0,45.0,24.0,79.0,79.0,27.0,72.0,64.0,34.0,50.0,58.0,26.0,50.0,80.0,2.0,46.0,29.0,6.0,32.0,16.0,44.0,23.0,48.0,34.0,78.0,42.0,14.0,40.0,10.0,39.0,42.0,47.0,14.0,45.0,58.0,73.0,62.0,62.0,51.0,57.0,8.0,69.0,16.0,56.0,41.0,1.0,42.0,57.0,20.0,8.0,43.0,62.0,42.0,50.0,63.0,80.0,13.0,20.0,71.0,50.0,76.0,41.0,76.0,78.0,5.0,29.0,43.0,49.0,70.0,24.0,41.0,20.0,34.0,32.0,27.0,44.0,20.0,52.0,57.0,29.0,16.0,35.0,5.0,63.0,59.0,63.0,52.0,50.0,43.0,27.0,30.0,8.0,75.0,14.0,23.0,6.0,37.0,38.0,3.0,26.0,58.0,57.0,58.0,76.0,68.0,79.0,34.0,75.0,11.0,71.0,40.0,24.0,82.0,32.0,81.0,33.0,79.0,62.0,39.0,60.0,48.0,24.0,70.0,17.0,56.0,3.0,65.0,72.0,10.0,29.0,44.0,46.0,33.0,63.0,55.0,56.0,50.0,78.0,63.0,31.0,65.0,51.0,60.0,69.0,23.0,46.0,16.0,26.0,44.0,56.0,23.0,38.0,18.0,63.0,23.0,32.0,8.0,77.0,41.0,34.0,25.0,35.0,15.0,1.0,4.0,33.0,28.0,37.0,50.0,76.0,72.0,16.0,44.0,46.0,46.0,73.0,29.0,19.0,27.0,36.0,61.0,9.0,25.0,68.0,26.0,17.0,75.0,34.0,53.0,18.0,48.0,5.0,79.0,16.0,32.0,70.0,55.0,70.0,51.0,39.0,79.0,80.0,34.0,59.0,54.0,22.0,21.0,4.0,26.0,62.0,33.0,51.0,75.0,42.0,82.0,61.0,62.0,59.0,31.0,12.0,76.0,71.0,15.0,44.0,30.0,47.0,47.0,60.0,62.0,47.0,78.0,35.0,71.0,57.0,12.0,26.0,33.0,60.0,35.0,10.0,50.0,44.0,73.0,41.0,7.0,45.0,60.0,49.0,45.0,55.0,54.0,39.0,76.0,28.0,70.0,28.0,79.0,30.0,26.0,57.0,16.0,40.0,77.0,67.0,36.0,40.0,2.0,52.0,78.0,22.0,33.0,40.0,20.0,19.0,25.0,23.0,28.0,6.0,37.0,10.0,34.0,60.0,22.0,62.0,52.0,61.0,10.0,36.0,29.0,69.0,62.0,62.0,79.0,13.0,38.0,49.0,41.0,56.0,8.0,24.0,61.0,40.0,22.0,80.0,60.0,57.0,55.0,39.0,51.0,47.0,77.0,32.0,45.0,49.0,13.0,74.0,72.0,57.0,51.0,55.0,73.0,12.0,6.0,76.0,38.0,50.0,75.0,1.0,32.0,12.0,32.0,13.0,1.0,63.0,29.0,53.0,49.0,81.0,66.0,42.0,61.0,52.0,8.0,82.0,43.0,4.0,58.0,45.0,62.0,42.0,72.0,9.0,31.0,20.0,22.0,23.0,57.0,52.0,64.0,26.0,54.0,32.0,66.0,13.0,77.0,18.0,11.0,16.0,73.0,44.0,36.0,10.0,54.0,42.0,52.0,32.0,43.0,28.0,79.0,11.0,75.0,55.0,78.0,48.0,73.0,56.0,54.0,55.0,65.0,69.0,29.0,64.0,16.0,75.0,17.0,42.0,78.0,24.0,68.0,50.0,52.0,82.0,56.0,56.0,18.0,33.0,57.0,30.0,52.0,3.0,39.0,44.0,33.0,24.0,24.0,54.0,72.0,37.0,36.0,22.0,68.0,24.0,35.0,32.0,52.0,21.0,82.0,33.0,62.0,57.0,14.0,60.0,63.0,50.0,12.0,80.0,74.0,46.0,66.0,26.0,70.0,62.0,15.0,67.0,63.0,42.0,49.0,78.0,31.0,67.0,52.0,61.0,41.0,73.0,64.0,65.0,81.0,47.0,40.0,46.0,2.0,56.0,54.0,26.0,45.0,57.0,78.0,2.0,76.0,51.0,54.0,36.0,57.0,25.0,7.0,76.0,45.0,66.0,45.0,79.0,25.0,53.0,35.0,78.0,32.0,26.0,34.0,65.0,15.0,17.0,71.0,42.0,30.0,75.0,9.0,47.0,75.0,61.0,61.0,27.0,55.0,2.0,51.0,45.0,36.0,46.0,48.0,79.0,50.0,79.0,32.0,36.0,27.0,22.0,5.0,9.0,31.0,26.0,43.0,33.0,34.0,66.0,44.0,56.0,67.0,18.0,55.0,61.0,48.0,44.0,68.0,52.0,15.0,2.0,60.0,37.0,5.0,25.0,52.0,79.0,61.0,36.0,34.0,2.0,43.0,1.0,49.0,2.0,82.0,81.0,81.0,1.0,60.0,1.0,58.0,8.0,9.0,34.0,23.0,74.0,72.0,47.0,56.0,5.0,27.0,38.0,13.0,41.0,50.0,41.0,6.0,62.0,4.0,59.0,63.0,9.0,41.0,72.0,45.0,80.0,19.0,37.0,58.0,77.0,38.0,49.0,20.0,23.0,55.0,16.0,81.0,23.0,82.0,48.0,56.0,61.0,43.0,39.0,22.0,41.0,37.0,65.0,8.0,51.0,63.0,48.0,17.0,53.0,75.0,51.0,51.0,41.0,75.0,57.0,33.0,72.0,52.0,11.0,28.0,78.0,82.0,74.0,31.0,53.0,67.0,17.0,29.0,56.0,15.0,29.0,79.0,82.0,17.0,8.0,23.0,36.0,47.0,24.0,60.0,63.0,44.0,38.0,26.0,18.0,18.0,13.0,13.0,47.0,80.0,24.0,72.0,5.0,51.0,82.0,5.0,66.0,53.0,15.0,53.0,78.0,62.0,41.0,49.0,41.0,78.0,14.0,1.0,71.0,32.0,16.0,68.0,59.0,32.0,58.0,40.0,41.0,21.0,1.0,55.0,67.0,49.0,42.0,54.0,25.0,62.0,75.0,72.0,14.0,38.0,59.0,23.0,63.0,82.0,34.0,8.0,28.0,49.0,24.0,17.0,69.0,58.0,50.0,5.0,34.0,64.0,47.0,61.0,14.0,57.0,53.0,67.0,57.0,38.0,13.0,37.0,39.0,13.0,57.0,11.0,68.0,79.0,24.0,44.0,46.0,66.0,61.0,16.0,37.0,43.0,27.0,44.0,14.0,81.0,52.0,54.0,77.0,27.0,35.0,30.0,48.0,15.0,26.0,38.0,29.0,49.0,55.0,52.0,49.0,21.0,24.0,18.0,52.0,70.0,51.0,58.0,46.0,79.0,11.0,61.0,51.0,21.0,71.0,13.0,16.0,61.0,49.0,65.0,40.0,44.0,11.0,20.0,24.0,44.0,5.0,41.0,23.0,7.0,74.0,61.0,80.0,35.0,43.0,25.0,72.0,45.0,9.0,33.0,53.0,67.0,59.0,1.0,27.0,41.0,64.0,55.0,40.0,33.0,33.0,39.0,74.0,38.0,53.0,22.0,5.0,24.0,27.0,41.0,20.0,71.0,65.0,38.0,25.0,53.0,50.0,1.0,55.0,38.0,72.0,43.0,30.0,69.0,61.0,34.0,43.0,62.0,48.0,37.0,64.0,51.0,69.0,75.0,27.0,49.0,82.0,36.0,1.0,45.0,64.0,32.0,15.0,1.0,34.0,17.0,76.0,61.0,30.0,18.0,48.0,4.0,38.0,27.0,50.0,19.0,8.0,78.0,53.0,73.0,34.0,58.0,62.0,78.0,51.0,78.0,40.0,35.0,82.0,46.0,51.0,53.0,55.0,43.0,81.0,12.0,20.0,53.0,1.0,22.0,75.0,66.0,7.0,26.0,14.0,32.0,6.0,42.0,4.0,75.0,80.0,52.0,11.0,14.0,74.0,58.0,80.0,31.0,28.0,25.0,71.0,51.0,15.0,45.0,53.0,69.0,42.0,4.0,64.0,5.0,44.0,78.0,16.0,69.0,80.0,7.0,2.0,80.0,69.0,58.0,75.0,60.0,75.0,10.0,38.0,28.0,3.0,31.0,59.0,31.0,45.0,58.0,57.0,31.0,43.0,40.0,1.0,34.0,55.0,39.0,42.0,44.0,69.0,16.0,8.0,1.0,1.0,69.0,13.0,53.0,16.0,64.0,7.0,41.0,65.0,61.0,63.0,1.0,54.0,14.0,45.0,51.0,8.0,52.0,39.0,13.0,69.0,71.0,73.0,54.0,10.0,26.0,41.0,71.0,46.0,15.0,29.0,8.0,21.0,56.0,14.0,78.0,36.0,57.0,79.0,26.0,22.0,72.0,54.0,8.0,62.0,28.0,50.0,7.0,33.0,55.0,25.0,25.0,37.0,58.0,45.0,60.0,66.0,80.0,38.0,11.0,63.0,19.0,17.0,19.0,40.0,49.0,69.0,46.0,78.0,63.0,3.0,1.0,18.0,46.0,8.0,53.0,38.0,74.0,24.0,78.0,60.0,12.0,32.0,5.0,40.0,19.0,28.0,61.0,44.0,50.0,50.0,18.0,1.0,37.0,5.0,39.0,65.0,26.0,42.0,34.0,45.0,43.0,40.0,35.0,2.0,61.0,64.0,32.0,23.0,51.0,52.0,75.0,40.0,39.0,6.0,32.0,55.0,23.0,52.0,58.0,17.0,3.0,23.0,56.0,45.0,14.0,45.0,57.0,35.0,8.0,42.0,8.0,62.0,43.0,8.0,40.0,2.0,27.0,47.0,53.0,62.0,50.0,26.0,19.0,45.0,45.0,54.0,64.0,2.0,66.0,73.0,31.0,1.0,58.0,12.0,60.0,32.0,23.0,26.0,36.0,3.0,21.0,67.0,35.0,26.0,47.0,81.0,1.0,52.0,28.0,45.0,20.0,1.0,65.0,45.0,77.0,37.0,50.0,30.0,31.0,4.0,65.0,68.0,63.0,46.0,54.0,66.0,29.0,78.0,56.0,57.0,2.0,49.0,31.0,47.0,37.0,79.0,65.0,61.0,66.0,24.0,66.0,64.0,38.0,7.0,63.0,71.0,18.0,65.0,57.0,62.0,1.0,35.0,50.0,73.0,23.0,32.0,38.0,50.0,39.0,7.0,15.0,67.0,8.0,32.0,5.0,56.0,49.0,75.0,11.0,61.0,76.0,34.0,20.0,79.0,24.0,39.0,55.0,16.0,36.0,38.0,20.0,38.0,52.0,49.0,80.0,75.0,13.0,54.0,28.0,61.0,59.0,12.0,38.0,15.0,31.0,52.0,61.0,50.0,41.0,20.0,67.0,45.0,73.0,52.0,51.0,56.0,49.0,10.0,51.0,57.0,76.0,28.0,57.0,39.0,41.0,72.0,45.0,33.0,62.0,27.0,31.0,24.0,1.0,28.0,24.0,30.0,38.0,1.0,57.0,27.0,30.0,42.0,36.0,44.0,59.0,61.0,18.0,44.0,16.0,13.0,9.0,81.0,38.0,58.0,5.0,64.0,38.0,56.0,58.0,9.0,34.0,79.0,62.0,60.0,42.0,59.0,54.0,59.0,15.0,14.0,5.0,17.0,13.0,48.0,37.0,69.0,74.0,54.0,64.0,26.0,55.0,74.0,41.0,68.0,9.0,36.0,17.0,24.0,69.0,38.0,69.0,32.0,25.0,2.0,79.0,28.0,16.0,31.0,66.0,57.0,61.0,74.0,70.0,8.0,49.0,30.0,51.0,10.0,34.0,40.0,3.0,45.0,4.0,52.0,68.0,8.0,82.0,36.0,42.0,27.0,55.0,31.0,82.0,57.0,78.0,55.0,51.0,80.0,17.0,61.0,62.0,14.0,62.0,56.0,41.0,59.0,29.0,39.0,66.0,35.0,36.0,35.0,26.0,31.0,56.0,36.0,41.0,50.0,42.0,79.0,57.0,68.0,25.0,69.0,42.0,37.0,2.0,78.0,36.0,10.0,39.0,4.0,48.0,72.0,63.0,28.0,80.0,49.0,57.0,59.0,43.0,47.0,54.0,57.0,56.0,66.0,18.0,81.0,30.0,8.0,55.0,79.0,49.0,53.0,26.0,14.0,25.0,20.0,18.0,38.0,72.0,52.0,82.0,71.0,46.0,33.0,37.0,54.0,5.0,45.0,14.0,5.0,35.0,20.0,51.0,40.0,79.0,61.0,33.0,27.0,28.0,67.0,35.0,78.0,20.0,43.0,27.0,45.0,11.0,31.0,30.0,27.0,34.0,19.0,3.0,53.0,81.0,44.0,59.0,43.0,32.0,5.0,31.0,47.0,12.0,40.0,49.0,38.0,15.0,81.0,48.0,24.0,47.0,13.0,16.0,64.0,11.0,55.0,38.0,37.0,34.0,52.0,50.0,37.0,55.0,2.0,68.0,27.0,17.0,53.0,5.0,3.0,20.0,19.0,31.0,63.0,49.0,72.0,50.0,41.0,40.0,17.0,3.0,33.0,12.0,23.0,31.0,65.0,43.0,22.0,7.0,81.0,10.0,18.0,5.0,24.0,45.0,46.0,64.0,25.0,12.0,81.0,65.0,40.0,81.0,36.0,32.0,31.0,55.0,39.0,17.0,31.0,36.0,5.0,29.0,2.0,62.0,45.0,18.0,29.0,52.0,59.0,69.0,71.0,3.0,33.0,43.0,39.0,60.0,54.0,61.0,11.0,75.0,64.0,78.0,14.0,66.0,48.0,44.0,30.0,1.0,61.0,54.0,22.0,47.0,67.0,53.0,45.0,65.0,39.0,57.0,45.0,28.0,30.0,31.0,70.0,17.0,44.0,65.0,6.0,15.0,80.0,54.0,79.0,60.0,12.0,36.0,54.0,63.0,2.0,28.0,38.0,37.0,80.0,43.0,60.0,66.0,45.0,29.0,4.0,48.0,68.0,57.0,29.0,30.0,47.0,73.0,66.0,39.0,66.0,52.0,34.0,79.0,39.0,61.0,26.0,37.0,66.0,16.0,51.0,15.0,1.0,60.0,66.0,75.0,40.0,52.0,13.0,44.0,37.0,2.0,48.0,81.0,76.0,58.0,11.0,9.0,54.0,37.0,16.0,11.0,32.0,26.0,21.0,45.0,40.0,41.0,71.0,16.0,7.0,27.0,22.0,79.0,38.0,64.0,4.0,23.0,35.0,66.0,34.0,19.0,73.0,70.0,45.0,34.0,81.0,13.0,57.0,38.0,21.0,38.0,41.0,26.0,48.0,18.0,66.0,27.0,18.0,20.0,11.0,7.0,54.0,43.0,61.0,31.0,40.0,71.0,57.0,13.0,21.0,63.0,7.0,78.0,66.0,41.0,11.0,55.0,42.0,51.0,79.0,28.0,73.0,42.0,37.0,78.0,74.0,59.0,78.0,82.0,71.0,19.0,18.0,53.0,62.0,3.0,49.0,51.0,53.0,10.0,54.0,40.0,3.0,12.0,56.0,43.0,28.0,28.0,56.0,14.0,63.0,29.0,48.0,47.0,63.0,40.0,40.0,55.0,43.0,59.0,78.0,27.0,49.0,14.0,17.0,42.0,36.0,19.0,55.0,8.0,56.0,54.0,15.0,43.0,52.0,62.0,54.0,60.0,7.0,3.0,39.0,60.0,60.0,46.0,26.0,12.0,16.0,2.0,82.0,32.0,62.0,75.0,81.0,37.0,28.0,25.0,44.0,11.0,54.0,52.0,43.0,56.0,37.0,60.0,4.0,51.0,82.0,56.0,60.0,35.0,32.0,45.0,10.0,68.0,51.0,8.0,63.0,4.0,33.0,56.0,49.0,30.0,16.0,1.0,54.0,49.0,17.0,11.0,51.0,74.0,42.0,69.0,22.0,25.0,17.0,64.0,50.0,52.0,65.0,37.0,31.0,52.0,56.0,43.0,11.0,2.0,16.0,23.0,40.0,15.0,48.0,33.0,46.0,53.0,68.0,60.0,57.0,51.0,76.0,46.0,23.0,9.0,53.0,4.0,62.0,37.0,82.0,33.0,3.0,14.0,16.0,40.0,18.0,29.0,56.0,33.0,2.0,36.0,30.0,31.0,16.0,58.0,19.0,47.0,59.0,40.0,26.0,17.0,30.0,19.0,78.0,55.0,59.0,57.0,33.0,35.0,32.0,55.0,28.0,25.0,45.0,34.0,33.0,65.0,62.0,36.0,31.0,54.0,53.0,44.0,77.0,67.0,48.0,42.0,72.0,49.0,1.0,45.0,63.0,33.0,32.0,63.0,70.0,57.0,8.0,54.0,37.0,59.0,78.0,59.0,10.0,21.0,2.0,55.0,20.0,38.0,33.0,14.0,32.0,32.0,68.0,70.0,24.0,44.0,39.0,81.0,19.0,69.0,42.0,8.0,8.0,28.0,66.0,66.0,47.0,78.0,65.0,78.0,68.0,78.0,65.0,70.0,59.0,31.0,32.0,5.0,55.0,61.0,48.0,1.0,50.0,63.0,67.0,43.0,59.0,47.0,50.0,51.0,44.0,39.0,24.0,62.0,61.0,78.0,15.0,23.0,79.0,57.0,70.0,9.0,55.0,82.0,19.0,41.0,79.0,23.0,77.0,78.0,24.0,81.0,46.0,29.0,59.0,41.0,17.0,8.0,23.0,45.0,67.0,78.0,18.0,35.0,54.0,71.0,24.0,60.0,75.0,48.0,62.0,20.0,69.0,60.0,12.0,28.0,55.0,70.0,51.0,16.0,56.0,52.0,59.0,9.0,34.0,47.0,46.0,49.0,10.0,76.0,82.0,3.0,76.0,16.0,44.0,17.0,73.0,31.0,17.0,18.0,73.0,8.0,42.0,40.0,79.0,53.0,58.0,48.0,17.0,23.0,9.0,81.0,16.0,21.0,29.0,8.0,39.0,37.0,64.0,9.0,17.0,8.0,62.0,73.0,48.0,17.0,10.0,74.0,62.0,5.0,43.0,39.0,37.0,15.0,36.0,34.0,75.0,53.0,61.0,45.0,17.0,17.0,19.0,54.0,51.0,44.0,82.0,49.0,34.0,63.0,79.0,81.0,14.0,31.0,57.0,32.0,66.0,22.0,1.0,20.0,41.0,48.0,49.0,73.0,19.0,51.0,1.0,31.0,4.0,1.0,44.0,4.0,55.0,34.0,30.0,7.0,75.0,14.0,61.0,55.0,14.0,36.0,57.0,20.0,32.0,43.0,43.0,1.0,49.0,53.0,18.0,13.0,5.0,37.0,49.0,45.0,50.0,12.0,12.0,5.0,39.0,41.0,41.0,47.0,57.0,16.0,3.0,65.0,80.0,58.0,74.0,62.0,33.0,21.0,17.0,49.0,24.0,56.0,26.0,54.0,42.0,34.0,56.0,39.0,77.0,12.0,65.0,7.0,25.0,31.0,14.0,5.0,60.0,53.0,55.0,69.0,39.0,34.0,80.0,20.0,45.0,41.0,54.0,23.0,75.0,36.0,75.0,72.0,47.0,15.0,40.0,71.0,38.0,10.0,11.0,9.0,53.0,28.0,81.0,1.0,16.0,24.0,62.0,62.0,59.0,19.0,51.0,38.0,26.0,13.0,4.0,55.0,44.0,31.0,58.0,17.0,23.0,51.0,46.0,81.0,38.0,50.0,34.0,60.0,50.0,49.0,2.0,47.0,34.0,22.0,11.0,54.0,60.0,3.0,46.0,30.0,63.0,50.0,65.0,78.0,36.0,18.0,44.0,4.0,60.0,19.0,15.0,20.0,76.0,31.0,39.0,58.0,64.0,79.0,11.0,4.0,43.0,44.0,37.0,34.0,59.0,40.0,8.0,24.0,18.0,20.0,70.0,68.0,17.0,17.0,21.0,38.0,59.0,79.0,50.0,72.0,54.0,44.0,48.0,29.0,44.0,61.0,58.0,81.0,29.0,5.0,35.0,40.0,37.0,33.0,35.0,38.0,26.0,10.0,72.0,21.0,20.0,1.0,26.0,79.0,78.0,56.0,46.0,55.0,41.0,30.0,53.0,32.0,38.0,33.0,44.0,44.0,51.0,40.0,41.0,5.0,42.0,6.0,46.0,47.0,25.0,40.0,49.0,21.0,61.0,78.0,41.0,82.0,39.0,70.0,31.0,37.0,21.0,80.0,21.0,5.0,81.0,35.0,24.0,52.0,70.0,34.0,17.0,8.0,1.0,29.0,55.0,44.0,19.0,67.0,72.0,51.0,63.0,64.0,26.0,59.0,76.0,45.0,13.0,1.0,57.0,68.0,9.0,40.0,82.0,45.0,57.0,18.0,13.0,80.0,81.0,35.0,51.0,44.0],\"type\":\"box\",\"xaxis\":\"x\",\"yaxis\":\"y\"},{\"marker\":{\"color\":\"rgba(50, 171, 96, 0.6)\",\"line\":{\"color\":\"black\",\"width\":1}},\"name\":\"avg_glucose_level boxplot\",\"y\":[228.69,202.21,105.92,171.23,174.12,186.21,70.09,94.39,76.15,58.57,80.43,120.46,104.51,219.84,214.09,167.41,191.61,221.29,89.22,217.08,193.94,233.29,228.7,208.3,102.87,104.12,100.98,189.84,195.23,211.78,212.08,83.41,196.92,252.72,84.2,84.03,219.72,74.63,92.62,60.91,78.03,71.22,144.9,90.9,213.03,243.58,109.78,107.26,99.33,58.09,89.96,75.32,127.29,124.13,197.54,196.71,59.32,237.75,194.99,180.93,185.17,74.9,61.94,93.72,104.72,113.01,221.58,104.47,86.23,72.67,62.57,179.12,116.55,228.56,96.59,66.72,240.09,110.85,165.31,143.43,96.16,101.45,88.92,79.79,71.2,96.97,111.81,59.35,86.94,98.55,226.98,72.81,68.02,68.56,64.14,235.63,76.34,240.59,78.92,82.81,74.1,190.32,231.61,78.7,110.52,82.3,73.18,191.82,93.05,64.17,129.98,68.53,106.41,224.1,82.1,216.94,76.11,72.96,82.28,105.22,59.86,62.55,259.63,249.31,219.91,131.41,93.13,73.54,200.59,62.48,190.14,130.54,182.99,101.45,206.09,263.32,140.1,207.28,194.37,199.2,103.68,116.44,70.28,72.17,221.79,151.16,68.43,67.29,67.41,239.07,169.67,223.83,76.57,77.82,92.98,231.56,102.16,221.89,195.71,74.02,57.92,81.76,70.37,203.87,89.13,133.19,162.23,75.02,98.02,91.54,111.98,60.94,97.43,91.02,60.67,185.49,64.44,56.11,110.66,213.22,78.18,111.04,76.13,81.32,112.24,137.3,116.69,215.94,86.62,209.86,205.77,112.16,118.03,271.74,97.92,200.62,242.52,93.81,114.77,74.96,167.13,175.29,90.0,109.47,87.85,106.74,80.13,90.19,134.8,106.58,83.24,103.43,208.65,74.11,95.84,205.33,116.1,210.4,199.86,219.73,250.89,72.73,205.35,70.3,104.86,216.58,184.4,60.98,97.76,66.03,81.95,97.73,70.94,199.84,218.46,211.06,86.3,162.14,88.2,91.92,76.46,197.28,233.94,247.51,84.96,57.93,78.8,87.8,78.81,95.12,87.96,110.89,69.04,161.28,210.95,77.59,243.53,77.67,205.84,77.08,57.08,162.96,73.5,95.04,85.37,84.62,82.67,57.33,67.84,75.7,129.54,60.22,198.21,109.82,60.84,94.61,97.49,206.72,214.45,82.9,103.26,55.78,73.74,149.75,82.34,62.6,94.09,55.42,82.18,117.92,114.84,79.17,110.63,190.7,79.81,113.63,141.24,56.96,203.04,94.3,81.51,137.74,81.84,242.3,102.64,146.01,75.42,220.49,61.45,88.19,115.22,97.93,85.6,79.83,218.46,62.2,69.15,127.71,216.7,71.89,103.56,79.03,69.94,90.12,95.1,234.58,235.85,78.05,89.44,111.38,243.5,182.2,229.92,82.24,89.84,90.69,84.38,215.6,91.61,138.16,75.23,75.18,106.23,239.64,58.95,99.92,116.23,118.82,66.3,101.41,200.28,136.8,96.57,66.42,98.09,205.23,86.78,126.82,78.4,63.69,209.58,89.86,110.99,137.96,210.78,118.89,72.55,107.41,93.25,74.91,80.05,99.8,91.97,64.4,73.02,138.29,72.36,68.76,106.22,101.52,109.51,85.84,110.15,91.72,251.6,123.1,97.4,68.34,80.81,120.31,83.51,74.09,91.6,87.52,213.37,75.39,122.41,223.36,84.59,70.16,107.52,80.88,93.48,70.21,86.67,101.37,105.22,70.31,64.06,178.29,81.6,147.48,86.86,71.16,73.2,203.81,82.0,97.55,94.29,75.22,90.07,73.73,79.58,77.88,205.26,58.63,139.9,211.03,72.79,91.65,79.92,225.47,94.48,82.34,180.63,92.48,116.66,112.09,130.34,82.59,123.87,98.7,227.1,55.39,66.07,104.21,145.15,68.19,97.53,122.31,83.51,86.46,112.06,92.14,201.76,74.44,95.93,87.51,72.35,113.47,103.78,115.43,95.59,101.52,170.05,217.3,196.01,92.21,100.09,93.88,75.05,70.08,74.2,69.01,96.17,184.15,87.24,198.69,82.58,96.88,73.32,94.59,132.08,98.99,104.48,98.01,79.14,89.32,65.24,80.98,186.17,69.24,111.19,93.28,122.19,129.53,114.53,93.73,77.49,65.38,94.18,118.7,96.29,74.64,96.99,100.61,97.08,84.79,78.75,82.93,88.78,122.1,74.81,183.45,114.94,104.38,102.91,108.79,73.31,68.52,89.77,102.64,70.92,86.11,129.16,113.85,79.35,80.79,114.01,93.74,90.65,98.41,127.18,138.06,89.44,105.61,155.43,80.83,80.19,60.34,79.3,98.44,210.48,70.34,122.22,75.29,100.35,193.83,126.96,183.34,247.69,76.2,71.43,93.36,61.29,103.62,100.52,191.47,67.06,144.1,58.26,239.82,88.53,114.79,113.8,71.91,65.3,189.57,114.25,81.26,87.88,112.17,99.97,207.58,109.16,74.46,118.51,107.47,182.86,59.17,215.64,163.7,196.36,139.77,141.23,89.99,108.53,63.61,85.54,100.83,59.82,105.95,188.11,71.15,60.53,205.5,204.86,115.03,79.87,97.89,125.26,114.32,92.23,83.51,102.34,144.48,88.39,228.08,93.79,147.14,106.43,88.04,92.2,219.53,75.56,158.31,111.43,219.97,148.91,69.4,68.34,58.37,71.2,101.5,92.04,73.0,111.15,58.65,100.54,111.73,97.78,85.79,98.54,94.62,112.43,99.67,67.39,95.12,85.06,214.05,79.09,98.09,76.36,98.42,82.01,56.11,111.85,92.39,112.54,63.71,70.35,94.65,64.64,57.27,107.25,77.12,55.32,69.37,57.57,87.43,98.73,81.18,56.23,69.61,59.49,118.14,100.26,56.75,88.27,67.81,77.46,76.26,86.39,116.38,75.74,92.14,149.95,92.11,74.98,55.25,79.89,130.61,94.26,94.34,109.03,81.03,99.82,140.08,59.54,80.33,131.51,89.21,91.45,90.58,91.45,89.63,124.06,99.47,88.97,80.93,102.07,91.69,63.71,200.49,75.3,240.71,60.5,131.85,134.39,56.18,113.64,156.57,80.4,59.26,63.26,86.24,197.1,90.9,84.59,121.8,77.65,64.41,75.19,67.97,119.34,94.92,107.42,85.02,103.51,114.5,70.78,95.01,84.11,74.02,78.49,74.22,55.34,75.04,109.73,95.81,96.78,194.62,70.02,222.21,62.41,55.83,65.12,73.62,85.83,103.86,60.98,82.69,250.2,128.97,84.31,74.8,97.06,77.54,92.78,173.43,79.08,106.18,114.21,91.08,105.77,74.88,123.15,184.25,117.69,55.26,106.51,55.27,98.42,99.2,98.92,92.7,106.7,152.81,82.59,91.0,93.88,76.99,254.6,93.99,109.68,92.04,111.41,97.92,65.61,62.37,101.28,88.31,103.55,60.26,79.39,122.01,78.09,89.7,95.1,112.64,79.8,82.2,108.89,114.32,116.14,122.74,94.04,86.6,82.32,83.83,106.98,93.88,70.53,212.01,65.88,106.97,126.35,129.16,88.66,112.95,81.59,76.82,73.75,91.56,104.55,84.84,86.06,109.1,68.35,121.04,160.83,85.62,74.23,110.76,79.44,119.52,90.42,109.32,78.16,79.13,84.06,89.3,69.21,186.45,58.47,189.49,99.6,126.18,186.32,62.49,74.51,94.63,91.98,56.77,75.87,77.19,135.75,100.15,95.08,125.38,111.71,94.64,226.7,112.96,183.1,105.36,84.13,102.47,77.04,83.23,87.01,56.99,73.01,106.35,80.63,103.61,91.35,194.04,111.99,57.51,68.49,60.2,160.0,86.96,237.15,99.06,56.31,84.31,90.92,104.33,62.61,231.19,94.3,104.48,72.62,81.64,90.78,70.71,72.36,59.76,83.76,63.64,76.26,82.06,110.91,77.16,69.58,96.26,87.27,65.36,109.51,89.03,91.34,57.82,81.15,115.29,111.02,111.61,109.02,106.51,207.32,87.11,61.68,119.04,86.05,70.03,207.64,236.84,78.11,100.97,99.21,113.21,92.95,110.16,142.57,92.87,111.48,123.0,100.54,106.68,86.4,61.81,128.28,204.63,89.98,232.89,98.58,57.94,123.21,76.34,92.98,92.81,85.16,90.1,65.15,104.62,113.25,59.28,93.07,77.42,73.69,74.9,88.27,58.39,102.05,112.47,72.84,195.03,170.95,87.98,65.81,124.6,83.65,88.81,86.75,123.36,89.68,69.87,109.22,110.73,99.14,59.15,165.11,77.44,100.33,57.93,148.24,91.96,72.93,84.27,124.45,90.51,56.42,73.67,89.11,74.04,145.23,100.8,85.22,72.49,82.61,72.07,79.85,84.86,131.89,89.17,227.91,131.77,102.01,128.63,144.1,143.15,116.67,85.6,142.12,100.81,69.17,58.38,86.34,95.44,94.78,109.59,79.26,78.46,85.29,156.18,69.52,65.32,108.47,105.63,77.93,95.2,78.52,114.89,95.43,84.08,110.55,82.21,82.38,93.89,75.08,76.72,84.93,76.5,65.47,99.16,63.53,78.65,63.78,77.52,111.64,97.84,113.01,56.48,204.5,96.02,206.25,115.52,60.69,93.67,67.79,56.07,254.63,96.63,84.3,246.34,195.16,93.34,162.3,106.4,110.25,69.7,87.03,112.98,82.47,75.88,84.63,109.56,89.45,91.65,121.14,87.77,106.56,93.88,153.76,88.65,111.22,223.68,63.73,103.94,92.49,229.2,75.06,85.57,68.61,56.3,193.22,65.98,204.57,64.99,66.12,73.4,82.83,93.55,90.4,98.1,142.02,251.46,89.96,71.73,82.44,80.85,220.52,86.73,76.93,113.1,96.84,100.91,116.5,57.26,129.31,56.47,86.06,86.97,78.78,195.04,103.25,134.59,93.74,90.66,91.68,75.79,91.68,106.68,82.31,90.06,65.47,58.03,83.09,88.6,63.18,78.42,65.08,79.47,95.52,73.0,138.07,86.99,112.07,105.76,55.67,90.55,218.65,111.21,83.56,116.76,83.5,69.3,67.55,80.28,211.49,67.96,99.29,140.52,75.62,120.06,117.45,224.71,122.75,82.39,57.02,115.98,226.11,97.59,82.57,79.34,125.68,102.06,65.59,120.85,101.65,210.94,77.92,230.68,62.68,55.22,78.94,109.69,79.63,79.33,79.91,84.46,68.4,78.43,198.02,85.35,204.17,82.71,121.19,106.02,267.76,107.18,74.58,80.92,90.77,90.84,59.2,217.71,133.76,61.36,118.62,77.91,68.98,112.08,96.2,93.11,115.54,88.57,180.76,83.12,94.89,239.52,99.15,124.16,86.38,93.68,229.86,78.73,115.92,93.71,76.66,112.38,89.3,103.44,79.69,61.61,94.12,62.4,210.96,76.25,103.48,96.42,78.59,195.25,103.76,68.52,92.17,81.02,94.33,78.43,217.39,82.77,88.13,102.77,101.75,113.34,63.33,69.34,118.81,66.13,67.53,96.58,57.89,78.38,94.15,89.53,127.75,76.79,141.15,88.63,201.25,130.15,108.03,104.07,88.83,197.79,150.45,100.39,79.92,96.79,86.84,61.27,72.61,82.41,74.72,57.37,73.72,88.34,101.34,119.01,71.98,84.91,91.63,214.77,145.71,167.31,63.65,79.63,87.49,98.74,92.82,72.2,181.23,63.37,74.82,97.6,93.04,97.12,82.81,134.45,85.82,189.45,144.16,82.56,206.4,67.97,84.86,71.7,72.02,61.81,103.09,73.75,156.7,70.87,138.47,64.66,91.88,74.79,78.18,77.82,112.23,178.76,121.43,94.22,67.27,197.58,86.37,112.09,199.96,85.33,86.33,80.47,62.46,78.85,72.09,103.81,78.04,94.67,62.25,155.17,83.28,132.41,62.78,89.96,103.25,126.99,102.27,113.63,86.09,108.08,108.34,56.07,82.91,94.75,101.79,88.41,101.05,85.07,108.1,93.17,158.89,205.77,112.34,119.03,237.21,89.68,246.53,89.05,81.74,98.12,105.59,86.0,65.51,61.78,109.56,65.82,90.16,64.45,91.85,97.89,206.33,74.29,107.4,87.72,85.99,100.84,124.61,86.55,90.42,100.85,87.74,80.15,107.29,206.98,227.28,80.43,228.7,120.07,93.47,80.77,150.27,81.94,70.75,83.83,73.66,102.37,77.83,70.01,119.88,78.29,169.97,123.79,80.98,84.21,101.31,86.26,92.86,140.28,244.28,124.16,93.55,99.34,59.87,72.76,68.34,61.1,120.77,60.39,126.34,93.24,154.75,62.81,65.96,79.53,96.85,251.99,115.13,102.3,78.99,191.79,68.8,83.84,94.66,107.98,61.01,135.64,92.65,121.11,163.56,107.69,216.88,70.15,83.02,87.94,222.29,139.43,213.11,77.23,58.48,87.33,102.34,151.3,144.23,110.6,80.28,111.02,114.88,227.51,111.65,201.01,129.01,124.08,107.91,95.4,65.9,78.98,111.33,104.36,123.87,210.0,86.86,113.96,81.28,102.5,78.05,237.58,86.07,59.05,95.88,70.18,111.13,79.3,65.84,123.49,207.45,143.45,89.11,58.3,78.68,98.91,67.92,73.0,97.5,108.43,90.43,76.3,121.27,119.67,226.93,76.11,93.23,253.16,101.02,238.53,79.18,207.79,196.2,231.76,93.3,110.47,77.52,91.23,216.92,157.01,93.51,102.54,87.78,126.67,93.6,194.98,99.96,58.87,77.67,83.14,69.18,218.54,71.22,82.41,82.07,73.0,127.25,72.63,108.2,123.95,58.71,98.46,68.78,133.63,101.43,65.3,72.49,65.49,63.4,105.29,64.08,78.34,66.32,168.15,93.48,79.2,107.45,83.86,119.96,70.58,87.7,65.29,97.14,110.68,91.93,88.54,183.0,115.93,99.13,69.24,102.28,71.31,89.75,87.66,237.17,81.11,178.33,81.38,70.45,73.44,146.44,65.04,151.25,106.41,197.09,93.58,122.04,80.06,84.93,68.4,62.99,113.4,101.92,65.98,84.3,61.42,85.52,83.79,73.83,69.38,66.11,149.62,242.84,202.66,216.9,103.78,114.88,75.94,55.51,93.74,71.44,58.29,115.83,102.71,99.69,102.89,79.05,56.63,87.34,109.51,81.43,78.59,101.22,78.26,105.47,68.19,210.0,114.47,66.85,94.71,208.05,222.6,80.81,64.51,151.56,199.14,73.41,109.65,69.11,114.41,103.46,95.36,57.33,191.48,71.63,94.0,93.77,84.75,89.24,70.13,82.26,200.16,80.73,75.09,80.57,77.04,145.26,190.4,82.08,103.35,97.46,123.65,87.96,85.92,80.8,99.3,62.56,144.2,71.38,95.5,67.06,70.16,104.24,122.48,215.9,108.56,69.88,91.54,65.85,60.74,233.52,110.7,78.93,124.5,57.95,92.82,58.25,213.54,74.86,78.35,101.26,86.87,124.01,83.41,188.69,86.51,70.65,92.4,73.36,219.5,105.73,83.79,58.02,61.94,99.71,63.19,107.11,56.84,217.66,77.19,76.22,155.32,70.67,227.16,58.69,88.85,137.94,60.6,93.67,79.56,122.46,92.32,80.63,92.32,59.89,80.57,88.52,88.82,102.08,71.38,84.9,82.21,209.9,74.05,90.46,176.48,94.07,85.12,71.81,111.93,94.4,70.0,95.57,91.98,66.29,211.88,76.55,56.67,100.52,58.96,81.66,96.77,91.63,97.51,225.6,95.58,210.23,92.82,234.82,65.67,74.51,81.99,87.69,125.29,111.64,70.93,89.93,137.45,72.06,97.9,84.85,230.59,92.81,168.15,224.63,108.12,85.17,84.14,85.57,82.81,110.53,61.88,85.04,140.4,99.44,88.9,64.1,97.58,58.66,88.24,61.32,185.71,62.99,86.04,83.3,208.17,133.2,81.54,146.61,79.33,84.56,103.44,185.31,102.53,65.78,62.6,81.18,76.68,92.86,90.95,85.66,88.2,203.04,68.37,77.32,187.87,213.87,119.62,222.85,100.82,136.1,149.42,79.99,118.21,56.3,84.49,89.61,100.09,198.36,93.61,75.43,100.31,105.63,82.84,58.88,92.27,115.23,196.25,85.97,114.33,72.52,99.87,63.47,90.58,92.26,113.74,72.79,94.71,194.53,72.65,86.68,140.39,77.87,104.7,95.82,204.05,130.56,67.78,105.29,135.19,116.12,59.63,56.43,199.18,209.26,91.21,95.16,217.11,222.46,70.96,82.44,74.11,131.23,187.52,83.26,99.07,76.63,65.09,142.31,80.99,237.74,74.26,154.08,78.29,164.67,59.61,67.75,92.73,90.35,77.86,71.88,118.82,67.33,121.66,111.92,92.82,95.46,59.99,68.96,90.26,91.9,91.08,118.55,102.04,65.52,82.09,149.9,100.33,91.25,89.81,97.32,75.53,121.44,83.52,57.92,75.27,80.24,88.69,69.09,62.67,98.74,56.51,65.95,129.07,62.47,69.82,99.68,223.35,74.36,102.97,153.38,87.1,113.4,94.88,82.73,67.8,84.85,135.89,106.13,74.33,109.4,75.4,87.69,95.85,90.36,63.45,201.07,122.91,55.41,60.99,77.63,70.61,124.34,103.44,124.5,208.06,75.5,98.85,96.06,93.74,65.6,113.24,94.77,145.22,112.92,84.79,103.28,109.0,96.18,186.95,68.66,128.72,85.04,65.69,97.52,90.43,81.71,198.24,90.51,97.78,80.74,93.0,95.37,96.25,63.08,129.16,99.79,83.34,95.01,229.21,80.08,62.0,118.69,77.57,108.75,108.23,151.33,82.43,107.17,91.46,81.05,114.37,100.29,68.37,87.95,73.27,131.43,107.29,68.24,74.01,95.4,95.75,104.51,108.87,209.06,86.57,120.25,85.51,84.18,82.37,96.15,74.55,114.45,113.68,107.91,83.85,101.3,72.13,94.98,228.42,93.9,93.13,121.6,84.4,82.13,73.33,75.88,212.97,100.41,202.05,71.42,107.5,55.57,58.14,78.53,78.79,96.62,65.28,92.67,206.25,114.18,231.69,101.89,107.22,101.99,72.56,94.47,98.76,116.93,219.96,75.77,124.35,88.97,72.49,107.27,97.96,197.69,112.3,75.77,76.51,93.14,80.84,199.88,77.48,65.34,81.96,98.71,170.22,73.5,72.39,102.96,80.72,74.19,77.12,81.2,114.76,109.97,92.87,113.05,68.24,74.35,91.08,88.83,134.33,208.78,66.17,222.29,114.16,61.67,220.36,76.03,73.06,187.88,79.89,79.02,191.66,76.74,72.29,92.59,80.42,62.47,63.94,77.73,115.79,96.3,107.46,108.33,89.37,93.64,217.75,83.44,93.88,55.34,102.61,62.08,81.76,59.2,55.61,226.88,65.66,58.7,186.4,122.32,59.05,149.13,82.39,169.49,80.25,203.81,170.76,80.85,120.58,86.57,90.01,68.84,155.14,158.48,92.56,90.15,80.09,189.44,70.03,249.29,72.52,96.93,211.35,85.87,60.96,120.09,92.13,83.07,77.67,109.51,97.24,127.29,134.8,74.65,85.84,90.43,74.35,206.59,196.33,70.23,242.94,103.06,80.86,114.32,83.91,152.02,75.19,60.61,89.14,97.23,135.19,78.48,97.24,75.92,93.3,97.39,134.61,104.02,56.9,112.66,226.75,76.28,90.01,107.84,71.06,185.0,104.42,89.57,136.2,128.23,104.23,133.82,80.82,102.35,88.48,88.81,75.09,199.83,73.69,111.27,68.44,65.36,94.12,96.24,91.25,77.29,125.09,107.18,130.07,57.3,101.35,94.03,227.81,66.67,240.81,88.02,152.87,96.04,60.35,118.66,89.03,58.51,96.04,110.92,92.72,108.23,56.34,61.83,131.99,136.81,239.28,131.3,117.75,78.46,83.53,145.5,88.33,101.25,131.43,231.5,82.89,192.37,79.64,82.88,99.4,77.75,75.03,220.47,196.91,180.8,247.48,216.0,75.64,95.07,129.97,124.26,87.92,85.15,95.36,87.16,219.39,71.92,167.66,87.21,220.47,80.47,89.95,111.32,65.01,110.07,60.56,89.83,90.35,71.5,71.71,173.96,96.06,113.2,106.03,111.38,73.29,65.71,60.41,89.11,63.32,85.68,162.93,89.22,91.68,198.33,85.81,79.59,106.74,191.33,59.52,206.52,80.07,64.92,80.0,75.06,112.2,91.18,85.81,148.37,64.55,97.31,111.15,80.97,89.88,62.66,122.25,87.08,85.0,100.49,145.37,79.73,101.13,101.98,98.39,128.04,98.12,216.96,94.92,83.27,96.86,99.73,91.71,65.77,161.57,74.32,170.93,74.43,86.36,97.06,110.38,79.03,62.48,55.62,84.9,232.81,86.55,118.61,80.21,65.96,61.34,116.6,85.13,86.32,69.22,140.93,83.43,207.95,134.29,115.12,86.25,112.94,73.54,80.86,83.91,69.91,95.62,63.95,122.5,86.0,120.27,56.71,131.63,79.36,120.77,100.42,155.86,66.01,86.99,90.55,229.58,60.06,65.66,104.7,113.86,99.49,165.99,114.99,79.58,77.37,93.55,187.22,167.59,98.03,88.79,92.9,117.34,80.75,77.51,105.63,114.34,227.04,87.56,84.47,96.26,116.64,79.57,78.44,64.15,74.5,70.32,84.48,144.08,78.14,133.58,214.42,80.63,233.71,96.0,74.52,131.4,216.4,108.8,97.06,266.59,55.58,65.87,89.28,56.12,74.7,83.06,227.94,84.88,64.2,137.22,81.44,90.26,68.48,100.02,100.61,156.82,81.66,112.22,72.49,107.47,92.11,70.54,205.0,126.39,89.72,92.08,95.25,75.91,203.44,243.73,88.23,97.47,59.28,101.15,68.38,55.46,113.87,67.03,96.35,127.21,78.9,59.91,160.94,59.61,87.94,97.55,116.02,127.32,75.5,79.35,176.25,108.56,168.06,75.52,82.15,200.28,62.44,84.31,221.43,165.47,96.69,63.98,145.03,98.53,105.55,134.23,62.48,213.38,70.52,93.21,82.39,88.29,80.18,84.02,69.72,192.16,82.27,101.87,77.55,215.72,87.84,91.93,58.63,173.14,106.83,84.44,92.16,85.96,202.57,65.41,102.51,62.6,150.1,94.15,65.5,81.31,78.96,123.47,90.4,71.59,209.5,86.6,57.43,87.93,203.16,112.12,92.02,60.98,86.35,71.26,72.61,110.78,99.78,201.45,121.32,83.89,74.06,206.15,102.9,65.48,123.23,71.3,79.05,102.21,105.22,84.58,77.3,74.79,88.75,97.97,79.18,81.33,126.68,196.61,219.92,79.16,99.68,79.55,87.86,76.92,77.24,120.94,77.66,231.95,111.48,84.25,216.38,95.01,105.74,58.41,56.89,86.25,86.49,115.47,92.22,83.16,110.68,70.06,213.33,93.52,87.62,77.67,95.66,172.33,87.06,93.02,243.59,86.7,97.81,116.04,169.43,68.41,94.44,73.48,183.87,66.08,72.19,101.09,88.83,69.99,102.4,87.26,146.59,59.0,76.83,101.83,90.92,67.5,97.16,85.62,129.43,106.01,114.82,121.39,227.98,78.97,84.12,95.04,103.15,82.91,70.93,153.6,129.43,81.0,71.81,84.46,101.32,62.56,208.2,199.42,91.28,77.99,190.13,149.68,92.3,235.54,84.46,68.7,178.89,227.74,100.66,73.62,100.05,213.8,103.94,84.2,250.8,112.29,65.98,99.1,217.84,104.34,217.0,57.47,78.24,94.38,100.31,74.29,103.43,99.83,217.4,71.81,79.79,190.92,94.76,101.43,115.86,95.27,89.02,77.55,75.86,93.62,72.71,94.45,88.57,84.12,89.11,99.83,150.03,69.67,77.46,100.54,142.38,110.87,73.6,59.52,142.68,182.9,75.28,100.75,163.82,110.42,105.18,79.59,107.99,90.22,143.45,78.57,79.82,95.88,123.04,92.34,116.84,90.04,255.17,217.55,123.66,112.16,88.43,86.03,227.96,85.6,111.68,73.49,87.82,99.29,63.73,85.55,79.2,105.93,94.19,231.71,69.28,71.37,110.18,59.68,94.24,82.1,62.62,107.83,107.59,116.98,84.1,160.64,84.4,81.13,88.19,127.13,119.61,143.47,84.6,110.72,158.93,68.94,69.38,72.0,57.76,108.65,65.42,78.93,98.34,82.57,124.37,100.96,59.85,104.75,70.98,92.77,82.12,106.35,77.33,96.01,107.49,88.47,87.92,91.13,80.72,59.83,67.02,60.22,82.41,75.78,102.42,98.45,93.51,113.68,97.41,58.65,81.68,148.52,77.55,142.12,125.3,118.81,84.16,78.74,57.51,61.11,78.3,76.19,115.99,100.8,98.27,93.85,94.69,136.23,56.12,93.03,196.81,87.81,222.66,223.58,85.77,88.23,73.65,141.8,92.65,198.79,61.04,102.88,123.39,67.07,69.88,57.02,123.81,73.36,90.54,69.24,192.39,233.3,74.35,71.94,82.35,73.28,97.57,83.3,85.07,79.96,70.96,82.86,97.87,201.38,91.82,91.85,99.23,68.13,93.76,103.89,87.39,89.53,66.61,236.14,99.76,87.09,193.81,97.27,137.77,105.19,82.72,68.79,94.19,121.17,106.41,104.79,82.18,96.81,107.42,69.2,92.73,86.11,111.78,122.26,78.16,105.77,102.97,77.53,77.35,82.36,239.95,61.96,72.1,107.97,60.77,71.06,60.36,83.33,65.33,113.28,170.88,103.34,106.08,156.45,60.05,114.05,202.21,57.28,99.49,63.6,80.01,58.42,67.38,73.58,103.92,80.22,103.76,77.06,90.22,181.3,85.29,107.59,87.72,70.73,72.75,95.47,70.54,100.03,59.78,198.79,90.39,147.04,202.55,64.92,154.6,95.98,102.51,96.52,232.12,78.12,70.04,97.61,113.11,71.06,104.95,81.94,96.37,114.16,93.58,73.89,107.83,107.21,99.35,203.57,81.51,69.26,111.47,86.09,72.94,76.77,60.32,133.24,65.01,74.63,230.78,72.5,68.48,85.03,80.76,204.98,95.36,110.33,89.18,91.53,65.16,74.53,93.29,227.89,121.46,69.35,216.71,74.96,75.25,91.82,56.37,149.15,202.67,65.38,90.31,221.8,73.39,147.12,109.85,103.21,81.25,84.69,87.1,81.92,90.91,64.4,85.48,67.29,124.48,62.89,87.51,93.15,64.87,90.68,104.64,92.44,120.46,89.87,105.28,131.8,66.33,101.07,83.37,79.8,103.17,62.52,75.78,110.36,140.07,84.86,106.85,102.07,202.38,67.07,73.7,77.59,69.16,91.44,215.81,65.4,139.72,72.81,149.17,125.74,90.21,139.48,90.77,220.24,81.42,102.36,82.85,102.11,195.61,80.92,71.8,88.47,67.68,98.65,83.58,104.04,69.4,106.22,112.46,72.42,96.73,107.4,267.61,109.46,120.05,106.33,97.28,83.13,97.35,79.54,76.55,56.11,91.36,79.27,113.21,105.99,59.93,88.83,73.37,115.42,71.93,96.43,161.95,104.55,71.25,160.87,82.02,78.02,115.21,65.12,80.55,88.2,147.42,86.53,91.95,63.72,63.78,55.64,88.88,114.61,56.08,59.62,75.85,176.71,80.07,56.33,87.16,102.46,84.1,161.0,70.7,81.26,157.67,89.59,64.02,110.69,71.97,82.07,65.07,207.62,108.64,201.58,116.2,231.43,112.62,220.26,84.37,82.83,102.48,69.12,211.12,95.38,108.72,88.65,177.91,90.19,73.78,82.85,59.48,75.77,80.96,82.4,78.93,80.59,70.59,98.57,61.87,68.88,66.25,84.18,69.23,73.2,103.45,104.86,90.3,90.87,76.21,74.14,87.25,215.33,88.38,104.4,104.92,106.54,62.91,61.47,88.5,107.61,90.77,137.91,212.02,228.2,92.15,126.32,94.96,89.52,66.59,80.1,73.72,90.49,92.99,62.57,65.51,95.29,83.7,63.16,87.77,87.23,260.85,104.45,87.52,113.65,65.93,93.78,223.9,77.54,93.18,169.74,101.93,125.03,82.25,85.81,85.27,86.06,104.36,78.29,93.55,207.96,105.52,109.27,91.34,176.78,67.73,73.27,70.29,91.47,205.01,73.87,64.44,111.65,90.65,94.2,56.95,92.37,191.78,86.36,82.72,113.57,89.58,91.85,88.89,79.55,108.62,78.24,88.49,91.85,72.01,81.96,70.56,71.02,99.75,127.2,69.76,74.63,102.27,73.56,57.77,151.25,78.32,71.5,84.7,127.28,80.72,73.92,93.24,72.6,69.77,84.43,84.13,81.54,57.17,86.15,163.02,110.41,102.58,90.97,140.96,64.18,127.57,109.23,124.49,142.82,75.69,74.08,75.98,57.8,76.44,214.43,79.03,66.46,56.42,112.72,114.02,72.33,55.59,73.48,105.05,84.78,164.77,220.64,159.39,69.53,81.42,83.93,98.9,82.64,112.54,75.25,204.77,63.86,72.2,80.08,101.61,114.32,80.82,90.6,93.67,87.15,80.72,83.16,98.14,83.13,134.24,248.37,61.75,70.55,124.38,92.21,148.72,79.25,82.09,194.53,98.84,135.74,66.55,115.69,67.76,88.65,106.11,95.49,59.07,228.92,62.89,96.84,81.25,92.71,85.59,89.06,87.44,64.07,79.39,67.84,81.73,105.52,77.55,127.42,227.68,226.73,89.74,219.17,74.85,55.96,215.92,84.4,104.05,62.54,87.54,76.81,198.12,78.0,79.44,75.82,240.86,263.56,81.13,118.44,97.37,80.51,78.88,83.61,73.19,68.91,104.3,87.87,96.7,91.05,200.14,73.04,85.81,65.41,108.68,88.79,107.82,97.39,141.09,122.38,77.91,103.6,159.7,118.22,84.5,85.59,84.42,100.98,81.11,235.45,79.2,207.71,99.84,98.05,105.9,107.55,146.21,79.94,72.28,123.1,67.06,82.68,125.89,228.05,90.06,119.9,94.53,64.66,103.79,88.51,97.26,92.59,102.89,92.26,80.0,56.75,104.66,60.39,223.14,105.51,83.42,71.06,101.24,91.19,174.43,214.51,72.64,62.69,141.16,89.61,76.42,124.38,111.81,57.57,77.82,60.09,91.02,65.46,131.19,79.89,74.54,231.31,91.57,238.78,87.18,78.94,69.01,110.28,71.66,62.57,83.64,107.18,233.59,84.88,97.95,58.19,70.11,112.77,75.46,63.63,100.22,81.77,94.25,188.13,164.7,68.27,79.81,100.12,151.23,112.41,205.97,112.19,71.93,190.89,138.02,66.16,105.73,78.34,102.1,97.37,193.87,78.32,130.0,74.0,111.04,214.77,97.25,79.95,162.24,74.36,69.68,98.35,75.73,85.86,80.34,73.76,94.96,108.18,85.23,189.88,197.11,100.08,68.62,84.07,99.65,82.33,94.49,108.71,64.94,98.22,83.5,192.47,125.89,87.72,68.94,66.51,85.82,87.47,87.74,85.12,103.37,81.68,76.51,110.17,65.12,76.66,109.88,199.38,65.77,55.72,75.67,88.18,95.94,86.93,85.17,111.1,92.0,97.47,79.21,83.97,98.55,202.98,60.7,92.22,79.94,83.68,69.92,136.96,95.32,107.78,198.32,100.16,96.02,112.69,60.61,79.77,87.41,226.38,124.64,69.42,77.68,112.79,236.79,219.82,82.05,104.08,101.57,71.32,143.97,239.19,78.45,61.11,87.29,82.49,83.15,83.26,78.7,111.94,104.77,104.26,113.84,61.54,133.62,111.96,112.44,123.61,84.68,206.62,216.88,110.38,99.23,204.92,56.74,68.35,83.52,59.74,81.59,123.83,226.84,93.2,85.84,74.64,80.17,85.03,234.35,116.25,66.55,88.38,81.05,68.4,96.95,66.24,91.81,84.86,118.88,85.91,115.4,75.34,100.19,200.73,114.09,67.3,96.91,116.2,72.54,96.01,89.16,108.64,83.66,81.21,86.96,92.95,95.86,85.52,159.39,202.51,82.24,109.81,91.85,123.49,105.49,101.53,89.45,126.04,95.49,89.38,82.3,218.0,79.7,209.15,70.22,83.57,60.6,97.24,162.72,73.27,92.62,90.0,78.28,87.81,202.66,196.5,142.31,94.96,83.78,86.1,74.5,66.96,76.7,103.12,84.03,74.15,73.29,115.16,83.55,61.53,100.74,59.31,63.22,209.5,64.51,90.07,113.95,119.32,99.12,152.84,78.23,68.8,76.05,116.49,99.91,76.1,121.99,116.21,55.28,219.81,103.73,153.08,98.69,94.11,117.03,91.35,82.48,99.76,111.1,122.25,84.19,84.6,126.35,87.5,77.52,133.13,96.1,108.61,205.23,76.74,138.55,234.27,75.16,77.08,101.19,107.74,62.32,56.32,131.28,67.02,76.72,125.98,72.09,88.05,55.47,145.94,239.21,196.08,93.93,76.74,83.74,119.58,68.66,65.79,176.38,175.74,193.45,85.84,93.85,86.21,75.41,95.28,95.87,180.45,95.39,60.77,102.84,130.37,65.44,79.84,62.61,70.07,108.8,112.11,92.35,76.57,69.5,219.38,69.48,89.18,68.09,92.71,56.21,72.08,82.56,78.24,84.66,90.35,68.12,59.14,85.64,56.08,99.0,93.6,105.75,114.09,57.42,100.01,62.0,103.61,118.46,94.77,72.12,155.23,90.6,81.92,67.1,58.01,173.9,106.27,60.57,105.34,96.28,122.73,104.12,69.74,106.95,94.63,86.97,76.12,99.94,91.53,145.46,74.86,74.42,70.07,89.85,104.21,157.77,101.81,103.0,101.85,85.92,56.85,63.01,65.48,68.6,81.68,65.21,72.53,81.78,116.85,80.83,96.21,117.04,78.26,58.24,82.53,71.25,129.73,115.47,56.79,100.16,97.6,90.54,105.88,217.94,69.89,93.28,111.27,91.04,87.2,109.12,216.64,74.28,57.6,173.97,65.25,124.37,102.39,90.42,79.17,71.08,81.54,159.67,93.96,103.01,92.49,208.85,122.39,65.91,70.25,219.7,65.7,67.08,107.58,208.05,95.87,68.17,95.37,90.0,106.1,56.13,104.03,157.01,84.35,67.99,118.93,185.28,82.08,88.32,85.16,69.54,62.12,198.3,100.06,101.13,91.09,61.54,62.02,103.11,77.57,97.34,78.76,67.1,79.89,206.66,95.79,83.88,93.51,116.78,117.63,60.01,64.6,92.43,71.63,87.79,99.64,86.53,200.68,98.37,117.98,218.6,101.3,79.51,223.26,97.22,172.27,221.83,74.61,60.91,83.6,83.95,77.5,64.29,61.1,100.71,65.21,119.77,102.39,59.67,83.16,218.1,76.45,200.46,95.7,70.23,75.15,95.8,90.67,84.79,147.5,134.12,82.62,125.11,92.14,217.79,95.62,93.8,90.61,139.2,77.01,105.26,68.35,99.07,147.74,61.29,98.92,90.74,233.47,85.53,76.7,67.87,77.26,91.28,129.19,97.86,112.33,110.41,91.58,58.86,76.88,181.23,103.58,81.96,104.55,76.12,64.27,200.98,101.96,84.17,85.79,71.46,95.49,87.62,118.55,82.14,219.67,135.84,74.83,60.37,67.28,77.79,88.51,90.38,156.69,207.6,158.9,247.97,114.71,58.55,231.15,68.18,186.54,96.14,69.52,101.93,71.58,83.1,110.96,122.83,91.65,84.1,118.85,89.32,128.72,98.05,102.1,108.62,96.19,98.07,71.4,82.27,158.33,102.5,72.18,95.94,87.15,82.59,89.31,64.84,107.52,92.76,79.16,87.0,145.25,125.14,88.6,57.59,59.43,65.43,154.03,139.81,111.81,106.84,221.06,69.97,77.07,59.49,109.39,93.97,163.17,124.39,212.62,128.63,84.1,77.6,70.51,109.19,55.23,120.15,72.16,95.89,64.68,70.51,81.77,66.47,146.08,91.68,108.96,113.41,111.08,217.74,78.5,89.06,74.8,80.2,76.52,208.99,99.72,102.97,197.36,98.56,86.06,123.08,75.0,105.9,73.87,78.04,107.74,60.64,82.57,115.98,110.38,92.59,82.64,70.28,106.54,59.11,58.89,129.66,73.57,72.04,125.63,77.94,68.99,111.76,65.36,80.27,81.73,79.22,142.63,97.05,222.52,70.38,114.46,64.62,94.12,70.19,55.35,115.52,60.7,69.24,103.29,92.74,232.64,82.46,63.57,73.24,78.43,57.46,104.16,110.42,119.4,119.13,120.22,80.8,57.96,81.24,88.79,70.91,87.12,126.09,76.42,56.33,131.81,95.23,71.18,87.71,115.68,207.37,74.43,75.1,69.72,111.84,111.08,201.96,68.68,56.9,91.16,99.44,78.85,123.89,90.44,138.44,75.06,85.66,102.76,71.79,167.16,131.05,86.92,59.62,103.72,77.1,94.75,77.72,76.09,61.8,92.97,83.73,79.33,108.32,103.65,86.19,131.42,69.46,76.78,103.78,213.43,93.52,115.07,69.45,81.0,83.16,108.63,88.06,80.57,248.24,57.79,87.4,76.63,58.01,77.43,101.12,64.45,79.42,82.94,81.58,62.21,229.94,116.06,117.77,66.69,122.23,168.68,119.9,110.33,77.95,80.35,57.38,96.47,70.66,202.06,91.3,67.56,126.12,86.4,103.22,88.85,63.9,81.32,253.93,78.11,134.65,194.75,77.94,56.94,117.03,207.84,228.26,84.43,94.89,132.46,75.13,76.64,91.32,85.9,76.19,85.77,63.42,112.02,203.76,98.44,79.57,63.98,101.46,74.66,68.66,205.78,111.24,134.76,110.1,100.8,113.08,56.48,77.77,104.02,83.59,179.67,91.89,78.9,230.74,216.19,83.7,200.66,73.99,228.5,70.43,74.39,102.92,87.91,118.55,232.29,125.32,78.98,100.2,200.91,95.24,56.64,80.48,112.96,236.04,73.0,61.13,88.56,66.16,88.98,94.39,87.39,77.91,86.85,94.37,76.64,254.95,107.33,80.94,112.02,196.58,89.14,69.94,55.79,73.08,96.02,189.82,89.68,101.06,62.66,84.03,108.38,78.79,76.12,68.01,90.11,193.61,195.74,94.77,85.0,141.37,90.71,106.8,121.66,85.18,130.07,74.24,79.98,106.76,76.34,221.24,80.55,63.98,55.93,73.94,65.58,83.8,95.87,112.83,84.93,103.08,85.98,83.75,125.43,101.58,149.8,112.55,70.87,92.96,85.08,112.37,151.26,73.81,77.2,76.08,123.98,108.51,98.07,85.82,86.21,99.01,79.53,80.08,69.47,85.07,88.0,144.14,78.8,86.78,105.72,64.37,146.1,58.66,192.5,103.5,89.42,212.92,60.73,73.18,82.26,87.4,86.95,74.0,73.98,124.78,191.94,247.87,83.2,88.62,81.51,101.76,115.71,229.73,57.4,100.47,81.36,261.67,110.2,98.9,95.19,105.28,83.03,89.41,70.56,78.79,70.13,62.68,71.77,77.99,256.74,93.72,63.74,60.67,112.08,221.08,101.81,60.17,65.29,153.24,61.42,86.67,82.42,100.54,111.48,85.33,126.57,81.51,67.97,77.92,80.54,76.47,87.15,86.07,106.52,94.24,89.73,208.39,128.61,57.56,227.23,77.76,72.76,90.11,203.27,234.5,71.12,190.67,116.04,82.95,112.75,82.63,92.75,117.63,197.06,216.07,76.03,62.44,108.82,101.66,121.15,116.44,116.62,93.3,144.33,98.02,80.67,94.27,76.35,57.56,179.14,63.49,145.18,66.3,120.56,69.2,150.74,81.38,78.48,203.87,87.0,84.68,91.89,88.97,116.98,135.82,96.62,106.53,58.42,79.62,141.84,78.05,77.16,86.3,83.55,102.0,68.07,81.77,82.62,102.03,235.06,57.52,76.98,82.31,83.84,98.14,84.04,92.24,94.92,112.7,74.34,72.99,104.9,99.96,85.27,60.32,94.14,195.43,200.25,90.31,95.33,223.64,76.43,98.66,75.84,85.46,81.33,199.78,176.42,101.56,84.48,93.21,72.88,84.1,72.84,70.89,108.14,244.3,88.04,65.84,106.73,106.03,80.88,140.1,127.4,87.72,58.23,69.37,58.64,59.67,78.08,105.08,89.3,61.38,56.11,223.16,75.53,107.47,76.0,90.28,65.22,86.24,166.38,78.91,226.28,90.73,172.86,213.92,92.23,79.81,81.78,102.0,68.42,94.68,125.33,212.19,89.0,60.98,58.19,67.68,84.99,62.13,57.1,97.95,93.88,90.3,83.14,118.66,100.47,90.78,66.46,73.56,200.8,57.28,92.87,96.47,99.44,77.96,60.13,88.17,84.41,72.34,68.72,222.58,66.06,156.43,105.76,73.07,99.48,79.6,70.0,112.98,61.07,63.43,73.2,102.73,74.88,122.43,84.21,80.42,80.44,80.63,206.53,104.12,96.82,88.1,64.85,102.87,83.75,97.68,97.58,74.16,86.0,100.93,232.78,86.96,67.5,81.21,110.14,120.44,187.47,94.62,89.57,95.31,75.07,106.65,234.06,144.15,58.81,242.62,93.04,65.68,150.0,63.56,96.98,66.7,79.66,90.16,104.09,90.96,152.38,114.54,174.54,106.47,73.63,98.52,62.93,67.87,120.43,76.56,108.03,83.16,67.9,115.46,123.94,231.54,219.8,187.99,234.45,75.47,98.24,66.2,94.67,75.95,111.79,80.89,86.91,59.36,240.69,66.67,87.54,139.87,67.92,83.62,110.97,70.53,115.91,59.74,62.64,84.81,78.68,217.57,79.76,63.28,78.48,70.48,120.96,77.29,108.51,113.85,97.65,121.83,81.53,58.35,65.42,69.34,109.09,66.71,114.92,120.58,165.36,66.11,126.34,68.27,92.86,96.77,89.24,89.32,107.06,65.63,123.66,63.82,108.06,136.18,71.29,76.58,119.58,109.3,111.94,81.64,97.64,110.32,79.0,95.08,137.27,57.83,84.08,234.51,142.64,69.77,71.4,79.61,77.46,96.85,182.22,67.26,60.02,113.45,112.31,68.53,57.15,214.73,91.82,71.8,63.41,106.24,83.01,67.92,74.99,75.22,61.88,65.67,110.18,119.3,208.69,95.18,107.72,83.27,90.29,81.87,153.31,101.46,72.49,86.58,113.26,84.92,128.17,93.93,99.87,129.31,89.43,101.6,66.55,231.72,96.69,102.13,100.88,66.22,109.33,206.53,83.91,67.92,73.48,101.31,103.66,70.73,77.45,193.8,114.34,69.25,88.44,84.09,87.06,92.64,99.36,135.63,82.44,81.88,95.44,72.71,65.45,203.01,110.84,83.12,55.12,105.91,61.57,83.1,66.32,72.56,97.99,63.27,79.6,177.56,81.31,59.91,132.85,198.84,77.12,87.17,96.03,83.56,80.93,84.54,70.51,56.87,67.55,243.52,69.06,73.89,84.49,73.71,129.01,72.96,110.23,79.49,89.33,68.38,238.27,135.79,82.19,93.2,208.31,111.33,69.84,121.71,84.4,98.61,86.61,80.44,107.02,97.23,91.21,103.69,74.12,71.08,58.39,176.34,73.76,67.21,87.98,94.23,111.36,84.07,117.31,84.94,68.86,132.88,211.83,124.92,57.42,215.69,154.67,67.66,153.48,62.63,77.93,80.3,106.69,83.07,140.14,92.65,111.37,99.0,78.24,83.88,86.21,57.06,112.25,81.06,104.37,124.31,101.95,116.95,99.76,105.48,100.6,65.05,75.9,267.6,215.07,109.03,225.35,196.26,95.42,123.04,85.88,107.43,56.85,102.15,88.68,182.52,93.97,104.03,67.99,83.37,124.66,212.87,96.75,63.28,82.64,71.34,183.43,101.19,88.51,126.85,74.17,76.04,73.87,99.07,82.93,133.24,69.88,69.12,86.05,185.27,97.46,81.9,99.58,124.54,153.34,112.35,160.76,73.29,108.08,206.49,77.42,117.59,61.94,116.68,253.86,203.36,125.87,64.09,65.33,70.15,96.84,175.92,100.65,112.39,81.1,98.3,89.68,95.16,191.15,91.04,101.87,96.86,91.05,55.84,84.04,92.06,89.61,69.92,89.29,120.23,60.22,223.78,211.58,179.38,193.88,89.01,118.41,138.51,120.03,91.01,61.98,135.32,58.72,90.42,104.0,102.5,174.37,106.56,76.31,77.28,90.52,108.35,72.03,90.57,97.04,83.89,152.56,75.93,76.89,100.85,95.05,82.35,95.02,82.38,79.15,76.62,91.68,71.88,83.94,71.97,97.95,77.93,82.85,103.08,83.75,125.2,82.99,166.29,85.28],\"type\":\"box\",\"xaxis\":\"x2\",\"yaxis\":\"y2\"},{\"marker\":{\"color\":\"rgba(50, 171, 96, 0.6)\",\"line\":{\"color\":\"black\",\"width\":1}},\"name\":\"bmi boxplot\",\"y\":[36.6,28.893236911794666,32.5,34.4,24.0,29.0,27.4,22.8,28.893236911794666,24.2,29.7,36.8,27.3,28.893236911794666,28.2,30.9,37.5,25.8,37.8,28.893236911794666,22.4,48.9,26.6,32.5,27.2,23.5,28.2,28.893236911794666,28.3,28.893236911794666,44.2,25.4,22.2,30.5,29.7,26.5,33.7,23.1,32.0,29.9,23.9,28.5,26.4,28.893236911794666,20.2,33.6,28.893236911794666,38.6,33.7,39.2,28.893236911794666,28.893236911794666,27.7,31.4,28.893236911794666,36.5,33.2,28.893236911794666,32.8,27.7,40.4,22.2,25.3,30.2,28.893236911794666,24.0,47.5,20.3,30.0,28.9,28.893236911794666,28.1,31.1,27.4,26.4,21.7,27.0,24.1,28.893236911794666,45.9,44.1,28.893236911794666,22.9,29.7,28.893236911794666,29.1,27.3,32.3,41.1,25.6,29.8,26.3,37.5,26.2,29.4,32.3,24.4,31.4,27.7,28.0,28.8,31.4,34.6,19.4,28.5,28.893236911794666,30.3,40.4,24.2,41.5,22.6,24.2,28.893236911794666,56.6,27.1,30.9,27.3,31.3,24.0,31.0,28.0,30.3,31.7,35.8,28.893236911794666,28.4,28.893236911794666,24.0,29.0,28.893236911794666,36.5,20.1,36.5,28.893236911794666,26.7,38.7,29.9,34.9,27.0,26.6,25.0,23.8,21.8,36.8,30.0,27.5,28.893236911794666,24.6,32.9,26.1,28.893236911794666,31.9,34.1,27.5,25.6,36.9,31.4,37.3,34.1,25.0,28.893236911794666,28.893236911794666,28.893236911794666,45.7,34.2,23.6,27.3,28.893236911794666,22.3,31.4,28.893236911794666,28.893236911794666,26.4,32.9,28.893236911794666,37.1,45.0,25.5,28.893236911794666,26.1,30.8,32.0,29.9,28.893236911794666,37.4,31.7,34.5,27.9,29.5,28.893236911794666,46.0,42.5,35.5,31.1,26.9,35.8,45.5,28.5,28.893236911794666,26.6,28.893236911794666,31.5,32.0,30.8,31.1,33.0,23.4,26.9,33.6,23.9,26.3,27.3,30.7,20.5,21.5,31.0,27.1,40.0,28.893236911794666,28.6,28.1,28.4,42.2,25.8,31.9,31.0,27.5,28.893236911794666,29.6,35.4,16.9,21.5,34.4,28.0,26.8,39.3,31.7,32.6,28.4,35.9,21.2,34.5,42.4,40.5,36.7,30.9,29.3,28.893236911794666,19.6,18.0,39.2,17.6,35.9,19.1,50.1,17.7,27.0,32.3,54.6,35.0,22.0,39.4,26.1,42.4,33.0,19.7,22.5,24.6,25.2,41.8,60.9,31.5,27.3,23.7,24.5,28.4,26.9,26.7,31.2,25.0,25.4,27.5,16.0,27.0,31.6,25.1,30.9,24.8,23.4,29.4,18.3,20.0,19.5,36.0,27.7,27.5,28.5,26.8,33.6,29.1,28.5,34.9,25.1,35.3,26.4,31.5,40.1,43.1,36.7,29.3,21.2,31.2,21.4,27.9,34.3,31.0,27.7,36.0,38.7,27.6,25.1,16.5,22.8,35.4,24.3,34.3,40.1,25.7,21.9,38.4,26.1,30.5,25.9,54.7,29.9,18.6,27.1,24.9,25.2,19.4,29.0,48.2,28.893236911794666,34.6,24.6,25.8,26.1,29.0,27.2,20.7,30.0,37.3,34.1,23.6,25.2,39.5,23.5,23.3,64.8,28.1,28.893236911794666,24.4,29.8,35.1,32.3,43.6,21.0,47.3,16.6,37.5,24.2,31.6,21.6,31.0,31.1,27.3,20.5,35.6,16.7,41.8,41.9,16.4,17.1,29.2,27.1,37.9,44.6,22.8,33.2,22.3,26.4,39.6,28.1,39.2,36.0,37.8,40.3,41.5,17.7,21.2,41.6,23.8,23.7,24.8,39.0,37.9,31.1,23.2,18.9,36.1,36.3,40.5,25.4,46.5,16.8,46.6,26.4,26.2,35.2,20.9,36.8,34.4,22.2,13.8,40.3,28.4,31.7,34.2,54.7,24.6,28.893236911794666,36.9,31.1,31.9,31.8,18.0,28.5,29.5,22.0,29.4,28.8,26.2,26.9,23.2,27.9,36.8,28.9,31.0,29.4,15.3,37.1,30.5,38.2,23.2,30.2,45.2,21.8,24.4,17.0,19.5,49.8,27.8,25.1,26.8,60.2,27.5,28.1,27.3,27.4,22.2,22.9,26.6,23.0,32.6,22.1,28.893236911794666,22.5,28.893236911794666,25.5,31.4,26.0,20.0,31.6,31.2,21.7,24.2,25.0,36.7,28.9,29.7,44.3,51.0,39.7,34.7,35.0,21.3,29.1,23.9,36.0,41.2,27.1,33.2,25.4,30.7,34.8,19.2,31.7,35.7,37.8,29.7,35.8,23.6,39.7,40.5,21.4,40.8,24.7,21.0,45.0,26.2,28.893236911794666,28.3,41.6,19.0,32.4,34.0,39.4,28.7,31.8,31.2,20.9,32.1,31.0,23.1,26.7,27.9,27.3,51.5,20.4,29.6,30.6,33.6,71.9,24.2,17.7,22.6,28.1,26.5,28.7,39.5,35.1,27.9,19.3,28.4,26.7,40.9,17.2,28.3,16.1,27.6,16.5,35.8,24.6,32.0,35.3,19.2,40.4,30.7,24.3,26.4,34.7,31.7,35.6,22.8,28.0,35.6,40.6,29.3,21.0,20.0,26.7,18.4,34.5,27.7,21.1,24.4,19.4,42.3,32.2,26.8,25.4,23.5,50.2,26.1,17.5,24.2,30.8,23.4,30.9,23.6,18.7,27.7,16.7,31.2,17.0,29.8,19.7,29.1,27.2,22.3,27.0,42.1,34.2,40.9,29.4,32.8,21.9,39.6,28.3,47.8,39.3,28.0,27.1,31.2,23.1,20.8,34.1,30.1,35.8,34.6,29.8,26.7,30.2,29.7,54.6,23.3,35.6,27.0,21.6,29.4,22.8,17.3,29.8,36.4,34.7,28.7,26.7,22.1,27.7,40.5,23.0,25.3,22.1,28.0,12.0,28.4,29.6,36.2,22.8,55.7,24.3,26.9,25.3,35.3,18.3,28.893236911794666,26.0,21.0,28.893236911794666,55.7,27.6,20.5,30.2,21.9,28.8,36.2,25.9,28.893236911794666,21.4,20.4,31.6,14.4,23.7,30.2,19.5,32.6,34.2,43.0,42.2,19.7,41.7,21.6,24.2,19.2,25.8,23.2,20.8,28.4,30.2,23.1,16.7,39.5,33.8,34.6,25.0,43.9,27.1,25.9,22.7,27.1,25.6,28.4,57.5,35.8,19.5,31.2,43.6,31.2,23.5,18.7,24.4,29.4,37.0,29.4,38.5,23.5,28.893236911794666,16.3,35.9,35.9,20.3,32.3,27.9,22.3,31.8,29.7,27.1,24.5,28.9,28.893236911794666,24.6,31.6,32.3,41.1,30.0,26.4,30.0,20.8,44.0,30.6,17.2,29.1,27.4,23.5,31.8,23.5,28.5,32.7,54.2,25.6,41.2,27.0,21.3,34.3,29.5,31.6,26.1,27.5,26.5,33.2,40.2,32.5,23.4,32.5,23.9,29.5,24.0,17.7,26.2,33.3,17.4,29.0,21.7,37.8,41.8,24.2,31.1,23.1,25.1,41.3,22.7,24.0,20.5,20.4,27.6,27.0,26.4,34.9,35.0,28.5,32.3,23.9,52.3,26.4,20.9,23.3,32.7,26.5,27.9,30.3,27.6,14.6,40.9,28.4,23.7,27.9,25.2,34.4,36.7,22.2,27.2,27.3,27.3,42.2,26.4,39.4,34.8,20.0,34.1,31.4,17.8,46.1,28.1,24.7,22.7,34.6,21.4,27.4,36.6,32.9,24.7,21.4,33.1,26.7,24.4,25.8,34.3,18.1,43.8,26.9,36.6,24.9,27.6,20.9,30.3,37.4,35.9,50.3,31.5,24.4,38.9,28.6,28.893236911794666,27.5,28.893236911794666,43.7,27.0,29.3,34.7,28.893236911794666,39.9,26.7,24.8,29.7,15.9,31.4,28.893236911794666,27.8,35.5,31.7,33.2,27.7,31.9,25.8,27.7,23.4,24.3,30.3,29.1,20.1,21.2,31.6,41.6,36.4,30.5,32.8,32.3,30.1,34.7,29.7,28.893236911794666,31.3,35.6,35.2,27.6,35.2,28.1,31.8,23.3,28.8,19.5,30.0,25.5,28.8,40.2,32.9,22.4,36.9,19.8,12.3,32.4,24.8,16.4,35.9,23.0,78.0,30.5,26.8,35.3,27.9,22.1,38.3,41.0,28.893236911794666,22.8,30.1,20.8,31.7,30.1,30.8,42.6,37.1,34.2,43.4,18.7,34.0,23.2,41.7,15.1,20.6,18.9,26.6,30.1,32.1,15.1,33.5,23.4,43.2,19.1,26.1,17.3,32.1,28.893236911794666,30.4,29.9,32.8,22.7,28.7,35.2,22.4,32.3,18.6,42.1,38.0,22.3,33.4,23.2,18.0,20.1,28.7,28.1,22.6,18.0,21.4,27.8,27.6,32.2,24.9,27.1,24.6,24.6,18.9,31.8,21.0,20.1,29.1,32.3,29.4,50.2,44.9,28.5,19.5,45.0,22.8,25.5,31.5,31.6,31.0,29.5,23.1,30.7,44.7,33.5,25.9,28.3,26.8,27.8,36.0,22.1,38.4,30.1,26.2,26.6,32.6,27.0,25.3,31.9,18.4,30.4,28.2,35.7,35.0,27.2,23.0,25.0,24.5,30.9,26.0,27.2,30.4,21.7,29.1,17.6,29.2,28.1,26.6,26.9,36.2,25.9,40.9,31.5,23.3,37.6,39.8,35.1,21.9,53.4,34.4,24.0,29.3,26.0,31.3,31.0,26.5,16.0,21.1,42.2,27.7,23.6,18.3,44.3,27.3,55.2,44.7,33.1,30.0,40.1,23.1,30.3,30.5,22.8,42.0,29.9,24.0,36.7,22.2,25.5,34.3,25.6,23.3,41.6,35.6,22.0,26.8,31.9,19.7,28.893236911794666,31.1,34.4,33.2,28.893236911794666,21.6,25.4,41.6,33.1,21.8,30.0,35.2,35.6,28.893236911794666,27.8,29.3,37.2,26.1,21.6,22.7,30.2,18.0,27.8,23.5,41.2,22.7,29.2,42.2,24.0,45.5,19.4,28.2,20.1,27.2,26.5,17.6,42.8,29.3,21.3,29.8,24.1,35.2,18.8,17.4,31.5,29.9,27.3,28.1,28.9,25.2,24.3,37.9,28.2,18.4,23.1,39.4,29.5,18.3,28.7,32.9,26.7,20.1,17.6,43.7,41.1,26.8,31.2,27.4,25.1,33.0,30.7,42.9,14.3,33.2,43.0,22.3,32.8,30.5,36.0,26.5,20.1,28.893236911794666,28.1,16.2,30.0,31.3,26.7,37.7,35.8,27.0,20.7,22.2,28.893236911794666,41.5,33.5,21.8,22.1,30.2,38.7,32.1,41.3,20.1,22.1,24.9,29.3,22.8,31.6,19.4,22.5,31.6,29.1,28.893236911794666,43.4,26.5,29.7,21.8,23.4,23.0,21.5,14.6,28.5,29.0,26.9,29.6,28.5,25.5,30.5,23.0,22.8,31.4,35.2,23.3,28.893236911794666,31.2,24.8,25.8,48.4,43.1,28.893236911794666,27.8,21.4,22.1,31.8,20.1,29.1,22.6,25.1,33.3,15.9,20.8,19.5,39.0,23.1,18.8,50.6,36.3,32.8,35.8,26.7,26.3,26.5,43.7,24.7,46.2,49.5,43.3,30.9,38.7,28.6,30.2,30.5,33.9,28.6,24.5,28.893236911794666,17.2,27.2,19.3,18.5,32.0,44.5,37.0,30.8,24.7,18.3,44.0,27.6,45.4,28.5,17.6,28.893236911794666,27.5,32.8,29.5,36.4,26.1,35.3,28.893236911794666,18.1,27.1,23.0,55.0,26.6,28.893236911794666,24.1,30.3,32.2,26.5,30.6,25.8,41.9,29.2,44.3,29.1,31.9,32.2,26.0,25.4,54.8,27.9,28.893236911794666,32.8,34.0,25.5,35.6,28.3,36.9,22.1,31.5,26.7,24.9,32.4,32.2,30.3,28.7,24.1,25.3,24.8,28.893236911794666,34.8,39.2,24.7,28.6,27.7,33.1,27.3,20.3,33.9,28.893236911794666,28.3,32.4,19.7,33.7,35.5,20.0,16.3,36.4,28.1,26.9,29.4,17.2,26.5,19.5,30.6,31.9,26.6,19.9,18.0,26.7,25.3,31.4,21.1,17.9,27.5,37.6,24.1,18.1,31.0,26.6,38.7,27.2,27.8,28.3,27.5,43.3,20.1,25.9,25.8,16.4,29.4,28.9,26.7,27.8,38.7,26.8,36.1,26.7,27.0,21.2,21.0,37.4,26.5,28.9,29.5,17.7,34.9,28.1,36.8,33.3,29.2,34.0,33.9,28.7,21.1,38.2,27.7,35.8,27.1,20.5,35.6,15.6,43.0,17.8,28.893236911794666,25.8,20.5,19.9,24.4,18.3,35.1,35.1,37.1,29.4,31.7,31.4,33.1,28.5,24.0,18.0,27.6,16.9,16.4,35.1,28.8,17.6,21.3,19.7,37.3,35.5,25.5,30.0,21.9,45.5,28.893236911794666,34.9,19.3,32.1,26.9,32.5,19.5,31.7,21.0,28.893236911794666,20.3,28.893236911794666,21.5,40.4,28.893236911794666,30.1,40.2,34.7,25.9,23.7,34.3,34.3,26.3,22.1,33.3,37.3,20.5,19.1,34.7,16.3,28.0,17.2,41.1,25.0,27.5,21.5,15.1,29.6,30.2,34.9,30.7,36.5,21.5,33.2,50.2,22.3,28.893236911794666,27.3,28.3,31.9,24.9,32.7,26.4,24.8,30.7,25.4,32.0,24.4,20.4,29.5,24.4,22.8,20.0,36.3,32.8,34.4,30.5,29.7,36.9,34.2,37.0,28.893236911794666,47.5,24.2,30.6,52.8,38.6,32.8,42.9,25.9,24.7,35.8,28.893236911794666,31.2,26.1,30.8,40.5,25.2,28.7,28.893236911794666,30.4,15.2,36.6,34.5,23.7,35.7,38.9,40.0,18.4,29.0,20.6,28.2,66.8,26.2,34.8,34.5,30.6,55.1,18.8,29.1,22.1,28.9,34.7,20.3,25.1,18.2,25.5,34.4,48.5,25.2,32.5,42.1,19.5,27.7,25.1,29.6,32.9,55.9,25.1,24.7,17.5,20.8,23.3,22.8,26.6,25.5,25.8,25.4,57.3,28.893236911794666,20.2,27.7,23.1,23.3,23.4,22.8,30.9,28.4,41.9,34.3,25.1,10.3,31.8,31.8,23.0,25.4,35.1,26.9,33.0,22.1,20.8,30.0,44.0,16.6,28.4,26.3,39.4,15.7,34.1,29.8,23.6,18.3,28.3,18.5,18.4,24.1,25.5,25.3,39.9,28.8,37.2,28.893236911794666,49.8,34.3,29.0,28.893236911794666,37.2,28.893236911794666,19.4,26.2,21.1,28.893236911794666,31.6,29.3,28.4,35.3,40.1,39.0,31.5,28.5,28.5,56.0,28.6,35.2,32.5,35.9,25.1,16.8,27.9,16.3,28.893236911794666,28.893236911794666,21.4,32.7,23.6,19.8,33.1,28.1,38.9,23.8,33.8,26.7,28.893236911794666,32.2,28.1,21.3,44.0,21.5,37.3,44.8,21.4,32.3,35.4,19.7,31.3,35.5,25.8,32.8,35.9,41.8,27.3,27.7,13.4,17.0,20.0,40.9,38.5,30.9,33.4,17.1,28.6,24.0,32.0,28.4,20.3,33.8,43.2,22.7,29.9,28.893236911794666,28.893236911794666,29.9,22.7,16.1,33.8,22.6,25.5,22.5,27.9,23.5,32.2,28.893236911794666,29.9,28.7,37.2,22.2,26.6,24.6,41.7,26.2,27.1,41.8,34.2,19.2,25.2,18.7,43.0,28.2,34.7,25.5,39.8,20.8,28.2,31.0,28.893236911794666,21.6,26.2,28.893236911794666,26.0,22.5,24.0,31.5,36.3,25.4,32.2,39.8,18.6,30.7,16.4,20.5,28.7,29.0,24.4,29.9,25.3,23.5,20.5,33.5,22.0,29.0,28.893236911794666,30.7,37.4,51.8,16.6,29.5,27.3,27.5,33.9,27.9,22.9,32.1,18.2,30.2,31.3,20.3,23.2,30.8,22.9,42.8,22.2,28.7,32.3,24.2,23.9,34.2,29.0,29.9,23.0,21.0,34.3,19.8,24.3,16.4,32.6,23.7,28.893236911794666,27.0,25.6,34.0,24.9,26.3,43.1,39.6,15.2,41.8,20.1,39.3,28.3,27.5,33.9,20.0,34.8,20.7,24.6,39.4,28.893236911794666,28.893236911794666,29.4,24.8,32.3,25.3,39.0,29.4,31.9,26.4,20.6,26.3,23.6,18.0,26.4,22.0,30.5,29.1,24.9,36.4,31.2,32.8,31.6,35.8,35.2,28.0,24.9,35.7,30.7,33.9,28.893236911794666,27.8,23.2,17.1,31.6,23.8,29.6,45.0,25.6,27.7,25.5,18.3,21.0,28.6,23.5,36.1,29.2,27.6,36.0,20.4,19.9,29.2,27.9,38.1,24.1,37.8,29.1,35.7,28.893236911794666,34.5,34.1,21.1,57.7,22.2,20.5,26.2,23.5,29.1,39.8,21.2,28.893236911794666,20.2,30.8,33.8,17.1,21.3,28.893236911794666,22.3,28.9,26.7,41.0,16.7,29.1,23.6,27.8,31.4,28.2,30.8,36.1,32.7,26.4,20.7,18.5,33.5,14.1,23.4,23.2,36.0,35.6,21.8,34.9,20.4,25.0,22.3,27.3,28.9,30.4,36.9,27.7,44.4,28.2,35.0,20.6,26.5,25.1,22.2,27.3,27.3,41.9,38.8,18.3,19.5,17.2,20.8,23.8,24.7,23.1,22.4,29.9,20.0,28.7,26.2,29.6,30.8,32.7,21.8,35.7,25.4,32.8,31.7,20.0,34.7,28.0,16.4,28.893236911794666,24.6,24.6,30.3,23.7,33.5,24.9,48.9,31.4,18.4,24.2,34.3,28.893236911794666,25.1,33.3,22.6,26.3,29.7,21.4,45.5,34.2,32.7,38.1,26.7,22.6,27.7,25.7,17.3,23.3,20.5,33.6,20.2,49.3,26.2,30.1,25.1,32.7,26.4,21.0,24.1,20.4,30.9,39.1,27.7,29.5,30.3,37.8,30.2,24.2,25.2,22.2,17.7,29.6,32.2,28.7,19.5,38.5,20.6,21.5,43.8,18.0,28.2,26.6,35.5,30.7,18.7,22.4,25.2,24.2,20.5,24.5,24.8,42.6,23.8,42.3,42.2,26.1,22.8,42.3,28.5,23.0,32.8,49.8,23.8,31.7,34.9,54.0,26.8,21.3,19.8,42.4,16.4,28.2,26.3,17.0,23.3,56.1,25.1,35.3,36.3,30.4,43.9,26.4,28.3,42.3,38.0,32.7,28.8,38.5,30.1,31.3,28.4,26.6,20.4,34.7,32.5,30.7,29.6,28.893236911794666,39.4,28.893236911794666,26.1,27.2,41.3,28.893236911794666,20.9,41.5,31.1,24.5,23.0,24.7,19.3,37.0,31.0,33.1,26.6,27.7,40.3,19.5,26.7,26.1,38.2,21.3,97.6,40.9,27.3,20.9,29.2,17.9,38.0,26.1,53.9,22.2,24.6,33.4,34.4,17.6,19.2,31.8,28.1,32.1,17.4,20.2,23.4,39.5,21.5,24.3,15.3,32.4,16.1,34.3,43.8,19.6,36.7,33.7,38.9,28.0,23.9,16.6,42.9,17.1,27.2,30.3,33.9,20.0,19.4,21.5,28.5,34.4,43.7,13.7,33.7,18.0,27.9,21.8,35.8,23.1,30.3,32.0,25.0,30.7,24.3,11.5,30.7,33.7,26.5,17.6,28.893236911794666,22.5,18.5,22.4,25.3,37.3,39.7,28.0,41.4,25.3,28.1,41.2,28.8,31.0,28.3,23.9,44.2,27.6,35.7,37.4,27.5,23.4,25.8,28.893236911794666,22.8,19.5,38.0,23.4,29.5,28.2,14.2,28.9,31.4,32.4,22.0,26.4,26.1,37.6,18.8,23.8,49.4,23.8,20.4,40.3,23.6,34.3,32.7,28.7,24.5,24.8,23.2,23.0,39.3,20.1,25.4,23.8,28.4,15.4,28.2,26.0,41.5,32.2,25.7,33.0,35.0,27.4,16.4,31.5,29.2,25.9,32.3,28.893236911794666,30.4,45.1,25.9,36.6,18.6,27.5,31.3,37.5,23.1,35.0,27.0,29.8,23.5,48.5,31.8,20.0,29.4,24.3,45.4,29.5,49.2,28.893236911794666,29.4,29.1,38.8,23.4,48.7,19.7,20.3,33.5,36.7,24.4,38.8,44.2,33.4,32.5,15.1,21.5,30.4,33.4,18.2,18.7,38.4,36.4,20.6,48.9,18.2,17.0,31.8,33.0,24.7,28.1,40.3,35.2,31.2,37.6,38.7,28.893236911794666,28.893236911794666,28.1,29.2,31.1,24.1,18.7,39.6,15.7,53.8,32.4,42.7,18.6,31.4,33.7,24.5,33.7,35.4,28.893236911794666,22.5,33.6,29.7,28.893236911794666,25.7,20.2,22.7,17.4,22.2,23.8,28.7,33.1,28.0,16.7,27.1,26.4,23.7,33.3,25.5,35.9,23.2,22.2,34.0,20.4,34.5,31.9,19.8,29.0,36.7,21.3,23.7,25.7,34.0,30.7,44.8,27.7,23.2,30.1,29.3,29.5,25.8,26.2,28.8,29.8,26.5,27.8,29.0,19.1,17.1,24.6,18.3,42.8,46.5,38.4,26.0,26.8,21.1,29.0,43.0,36.6,27.5,40.2,37.1,32.0,32.2,20.6,24.1,25.0,25.2,27.6,48.8,27.6,39.5,27.2,26.3,28.9,30.0,23.7,25.5,24.6,20.7,36.4,23.4,32.3,18.8,15.5,21.4,31.7,29.7,34.3,22.1,21.5,30.4,21.6,30.9,21.9,19.2,30.3,23.0,24.1,52.7,27.6,23.9,26.9,23.9,40.5,32.0,20.5,44.5,16.2,35.8,24.0,33.9,36.0,22.9,44.5,17.5,32.3,30.3,33.5,30.9,25.5,30.0,32.2,21.7,24.7,28.8,27.0,26.0,27.1,18.5,18.8,31.5,18.1,24.3,28.0,28.893236911794666,17.3,17.2,26.9,25.8,21.3,43.0,24.4,30.1,21.3,17.8,28.4,24.3,27.8,30.5,28.893236911794666,25.8,26.7,28.1,22.2,25.1,20.9,28.9,28.893236911794666,35.9,29.8,26.7,28.4,26.7,32.5,43.8,28.3,36.6,33.1,27.0,23.6,28.893236911794666,21.8,23.5,28.7,31.6,31.9,25.2,25.9,32.5,28.1,27.4,21.2,26.8,18.5,28.893236911794666,30.6,19.9,28.893236911794666,26.5,43.8,31.8,36.6,22.9,18.7,29.6,43.6,28.893236911794666,20.3,21.3,39.2,52.8,30.2,35.3,37.0,32.1,30.5,22.8,34.5,37.4,19.5,55.7,30.4,25.3,23.1,30.7,18.8,28.6,27.5,26.5,40.3,37.9,17.1,53.5,33.6,43.4,30.5,38.1,29.9,32.7,28.6,38.5,22.9,38.0,43.8,26.8,25.5,28.893236911794666,25.4,26.7,50.5,21.3,34.7,17.9,36.3,18.4,34.5,33.4,19.4,25.6,24.5,30.0,28.9,28.1,23.0,33.5,34.8,17.6,21.1,29.0,15.8,41.2,29.7,40.8,33.2,37.0,24.5,34.5,28.0,26.8,21.0,23.8,29.3,24.4,22.6,22.8,29.7,32.4,35.8,31.1,31.9,33.7,25.6,19.9,45.3,28.3,40.2,24.3,24.6,26.6,30.9,23.5,23.9,34.2,34.9,26.2,36.2,22.4,19.3,41.7,46.0,26.9,40.1,27.7,29.5,26.0,22.7,16.0,27.7,33.1,33.1,29.7,34.0,33.3,27.0,14.2,19.4,15.3,28.7,21.0,28.9,20.3,28.0,29.6,30.2,22.2,28.4,29.6,28.6,32.6,29.0,30.1,31.2,20.7,45.1,14.8,37.4,19.9,16.0,27.4,33.4,18.5,33.4,20.8,22.0,32.5,19.2,32.9,23.5,21.7,29.1,28.893236911794666,30.3,29.4,30.1,32.9,34.0,38.6,29.3,43.6,22.7,36.6,22.6,25.6,31.4,26.0,27.0,33.3,17.3,26.9,24.8,20.0,35.8,36.9,29.6,31.1,25.1,51.9,36.3,28.2,35.8,30.9,22.1,17.6,29.5,27.0,33.2,24.4,34.4,36.7,27.2,27.5,32.6,28.893236911794666,28.4,25.5,28.7,23.8,34.4,26.1,28.5,29.6,29.4,28.2,28.7,38.1,28.893236911794666,22.2,25.7,17.7,26.4,32.8,34.5,39.5,23.5,38.8,21.2,32.0,63.3,32.6,25.2,27.4,28.893236911794666,38.6,32.9,26.0,29.2,29.2,26.4,23.1,21.2,26.2,23.4,19.8,20.4,25.9,34.1,18.3,35.0,26.4,27.6,27.0,28.893236911794666,31.3,18.0,22.1,34.4,33.2,23.1,39.7,40.7,30.9,27.5,28.3,33.4,41.5,17.1,30.0,24.9,32.5,26.1,19.2,38.7,29.5,28.1,14.1,33.9,26.0,52.8,28.893236911794666,29.2,26.3,23.6,18.6,29.7,30.9,22.8,25.5,25.6,23.0,20.6,28.893236911794666,28.4,29.7,26.0,37.5,42.3,21.4,29.3,31.0,22.0,20.9,45.9,61.2,29.1,28.4,22.6,24.2,16.3,35.9,29.8,37.0,35.8,21.1,37.6,24.8,31.9,17.5,28.893236911794666,17.6,38.9,15.2,27.4,27.9,16.1,39.0,36.6,33.7,27.6,31.0,28.893236911794666,28.5,31.4,25.3,17.2,26.9,32.0,22.5,27.0,33.1,25.0,28.893236911794666,31.1,19.6,24.7,48.0,38.0,24.0,30.0,24.6,23.1,17.4,43.1,27.1,14.3,46.8,26.0,29.3,50.1,28.893236911794666,27.0,25.7,25.5,27.3,24.1,42.7,41.2,20.2,30.9,27.7,22.3,39.4,34.2,20.1,36.8,28.893236911794666,33.9,27.7,22.7,32.2,22.0,23.2,26.7,23.0,23.4,24.1,31.5,26.1,23.7,20.8,18.8,32.5,24.3,24.1,32.5,39.3,23.9,22.0,37.3,33.0,24.7,32.8,29.8,24.1,21.6,27.1,27.0,18.7,35.8,27.1,33.1,25.9,26.7,22.2,26.0,23.5,23.5,15.9,24.9,26.5,35.7,28.893236911794666,32.1,28.5,40.1,26.6,21.7,28.8,32.0,31.4,32.1,19.8,25.3,28.8,26.0,30.7,43.3,35.2,20.9,35.3,27.0,26.1,29.1,32.6,21.8,32.3,28.1,32.3,21.7,25.0,28.9,21.7,45.3,40.2,22.5,21.3,26.1,28.8,28.893236911794666,32.4,20.4,25.9,38.8,30.8,24.6,20.6,38.8,40.4,28.893236911794666,36.2,18.8,27.6,28.3,39.4,33.5,40.4,25.9,27.6,44.7,30.8,22.3,27.9,22.9,27.3,25.0,48.3,22.7,39.1,27.8,28.893236911794666,36.7,38.5,29.4,30.5,23.6,20.6,31.7,24.9,33.4,22.2,26.5,27.1,30.3,18.6,26.4,17.8,37.4,32.1,38.2,28.893236911794666,39.1,29.5,28.6,40.1,31.8,34.6,24.5,26.2,33.0,22.3,28.893236911794666,58.1,36.9,43.9,18.2,23.1,32.6,41.2,28.6,26.0,36.8,35.8,24.2,22.9,23.1,28.893236911794666,28.9,26.5,29.3,24.8,20.1,18.2,34.7,24.0,29.0,27.3,27.6,20.4,17.7,27.9,41.5,27.4,27.8,17.8,32.0,37.3,28.1,29.1,22.9,38.8,29.0,28.6,29.8,28.9,29.1,28.893236911794666,16.7,34.1,25.7,30.8,23.9,18.8,28.893236911794666,41.8,36.4,28.7,28.3,15.1,22.7,26.6,20.8,23.0,35.8,29.9,43.4,36.3,40.1,35.9,32.4,20.3,33.2,22.3,18.1,28.2,29.7,28.893236911794666,29.0,25.4,26.5,22.7,27.5,23.8,35.6,27.2,30.4,21.5,31.8,29.5,30.6,27.6,23.0,24.8,28.0,22.2,27.8,30.2,26.8,22.0,34.3,29.2,30.3,28.893236911794666,28.893236911794666,21.4,28.893236911794666,26.6,30.0,33.7,30.9,31.1,23.0,20.2,31.6,23.9,26.1,15.8,28.893236911794666,28.7,28.9,25.1,19.8,30.8,22.1,20.4,31.2,24.9,27.0,20.1,24.4,22.6,22.4,26.2,22.9,32.6,31.3,43.9,41.8,28.893236911794666,37.7,20.8,21.6,22.1,39.2,36.7,32.0,25.9,28.9,29.3,32.3,33.2,31.6,20.6,23.3,30.8,28.893236911794666,28.893236911794666,28.893236911794666,23.7,49.3,30.3,24.4,28.2,33.8,42.6,31.9,34.0,19.8,30.5,21.7,24.6,38.1,19.2,30.1,23.3,34.5,30.8,43.8,29.9,50.4,22.6,19.5,33.4,24.2,52.7,25.6,26.9,35.2,22.1,34.4,26.0,26.9,24.7,32.1,29.8,27.5,22.8,27.6,33.0,33.7,25.1,15.3,22.2,21.4,26.0,29.9,28.6,21.2,16.0,22.7,25.3,31.6,38.9,27.1,24.1,31.5,32.0,31.8,34.0,23.4,29.3,17.2,31.9,31.6,23.2,30.0,26.3,31.8,25.5,21.3,29.6,28.7,30.8,32.1,34.0,32.1,22.6,31.3,29.0,27.6,17.7,35.9,33.8,17.6,48.3,39.9,11.3,31.5,29.6,19.4,18.1,36.2,17.9,33.0,20.4,33.6,34.5,30.0,12.8,26.2,13.5,25.6,18.8,14.5,23.4,39.7,40.8,29.5,33.0,25.6,33.1,28.1,49.3,16.9,35.9,32.1,34.1,15.1,42.0,16.8,28.8,32.2,16.2,44.2,23.4,31.0,28.7,23.6,35.7,39.5,27.3,31.3,33.4,29.2,26.0,18.1,22.4,29.4,21.6,27.9,29.6,30.2,43.4,30.5,33.2,27.7,33.5,28.0,31.5,24.0,27.4,37.9,26.2,22.4,28.893236911794666,43.7,28.4,29.8,24.8,34.8,27.4,28.893236911794666,33.5,35.0,24.4,28.3,29.1,31.3,32.8,29.1,31.9,26.3,22.8,24.8,34.1,21.5,26.1,21.4,33.5,23.0,18.5,23.4,31.4,31.1,37.7,25.3,35.6,24.8,32.7,24.9,26.0,22.8,24.0,20.3,30.3,23.7,25.7,21.9,15.8,30.5,25.7,19.0,28.8,28.893236911794666,22.4,32.4,36.6,27.9,27.7,28.893236911794666,34.3,26.7,19.0,20.6,26.7,29.2,21.3,51.9,28.9,30.9,36.1,25.0,28.6,20.5,16.7,36.6,26.4,33.1,27.5,26.9,23.9,26.9,27.8,32.7,28.7,22.6,26.5,28.3,24.3,24.0,32.4,28.7,36.7,27.7,24.8,31.2,26.1,26.8,26.7,19.6,25.8,32.5,28.3,24.5,25.2,32.3,30.1,35.7,20.0,23.5,23.4,22.3,28.7,20.9,29.4,27.6,43.9,28.7,34.7,37.1,24.2,22.7,29.3,20.0,22.7,25.4,37.6,44.7,26.3,25.0,28.893236911794666,32.3,24.9,33.7,26.6,53.4,41.7,22.0,20.3,42.7,28.2,32.5,22.5,26.5,41.0,27.0,25.9,23.7,30.0,15.0,21.5,25.9,24.3,39.2,14.4,26.6,30.7,35.4,29.2,26.7,21.5,19.1,25.4,34.0,23.9,20.9,18.2,27.6,50.3,24.5,16.6,24.0,18.8,34.0,25.8,30.3,28.9,21.3,26.8,29.2,25.0,21.5,17.1,32.5,26.9,30.4,29.8,20.3,41.1,28.893236911794666,33.9,39.0,31.2,38.2,44.7,33.5,27.0,31.1,29.2,26.6,17.9,24.2,19.5,28.5,21.3,41.3,31.3,40.8,36.6,26.7,18.7,15.2,26.8,25.1,31.3,59.7,29.8,33.5,24.5,33.6,39.7,47.4,26.4,33.0,31.4,27.2,35.7,29.5,21.0,26.6,24.3,43.9,28.893236911794666,52.5,27.0,32.7,29.4,15.1,32.1,32.9,27.6,26.5,19.2,25.9,21.9,13.2,25.2,28.2,31.5,25.2,14.5,28.0,31.4,26.3,28.893236911794666,39.6,28.9,31.4,34.3,27.0,27.2,23.8,25.3,32.6,31.8,22.4,28.0,23.9,25.3,16.4,26.9,25.4,18.7,37.5,41.4,37.5,15.8,37.6,30.5,22.1,19.2,38.0,18.7,25.7,30.1,36.3,20.4,20.9,28.4,33.8,24.0,43.3,36.4,37.9,32.6,23.9,18.1,36.4,29.2,30.8,23.8,17.9,31.8,19.5,31.5,24.1,28.893236911794666,35.9,31.6,19.0,18.8,33.5,25.0,52.9,24.8,24.5,40.4,20.2,31.9,25.4,15.4,38.6,31.0,26.4,28.893236911794666,37.7,35.2,54.7,21.6,23.9,28.893236911794666,26.1,39.7,29.9,31.4,34.5,29.4,26.9,22.4,20.5,18.6,31.4,18.5,41.8,21.2,28.6,16.0,30.6,29.0,28.6,34.8,28.893236911794666,42.0,30.3,30.9,32.1,19.6,32.8,31.5,28.893236911794666,34.7,21.5,27.6,28.6,21.1,23.8,33.5,33.4,23.3,21.0,21.2,18.4,26.9,20.2,21.9,24.2,29.6,38.1,22.0,29.8,24.0,26.9,38.0,16.9,23.4,38.5,21.6,15.9,25.1,41.1,21.5,21.0,24.1,30.6,19.8,29.2,33.7,31.0,21.5,19.1,21.4,24.8,35.1,28.6,35.7,45.4,34.5,21.2,22.7,39.1,21.9,16.5,23.0,22.5,20.4,28.7,22.4,26.3,23.6,25.9,30.7,24.5,24.0,20.1,38.0,26.6,24.5,28.893236911794666,41.3,34.8,35.5,24.1,19.0,28.893236911794666,16.6,28.6,22.4,38.6,32.0,40.1,32.0,23.9,25.0,28.5,19.8,25.7,28.0,37.2,24.8,39.2,61.6,27.2,38.0,36.2,16.6,38.0,31.4,35.3,35.8,28.6,34.0,15.5,31.1,37.5,37.7,24.2,33.4,33.0,25.7,19.4,33.4,18.0,40.1,26.9,22.5,27.6,23.3,35.7,28.4,29.4,31.9,25.1,35.6,21.1,31.5,26.6,44.8,31.3,17.2,25.3,28.8,49.9,18.0,23.5,18.1,41.7,28.893236911794666,20.7,30.3,27.8,18.9,20.4,31.8,44.8,37.1,39.9,24.1,18.1,36.3,19.1,21.1,28.9,18.9,43.3,37.2,32.2,26.3,25.4,21.4,22.9,16.2,29.6,21.5,24.2,37.3,33.3,33.1,22.2,24.4,30.3,28.2,17.0,53.8,30.4,22.3,25.3,28.893236911794666,29.8,43.8,34.5,25.5,31.5,39.2,47.3,17.0,38.2,31.1,22.4,32.0,24.7,36.3,20.2,27.4,29.6,54.3,28.6,43.9,22.2,28.4,23.7,18.3,18.3,28.9,28.893236911794666,27.1,13.8,21.9,24.0,28.893236911794666,20.8,39.8,26.2,43.9,27.3,28.893236911794666,22.0,40.0,20.1,42.2,25.8,27.2,30.9,47.9,33.1,37.8,25.4,28.4,16.6,35.1,32.7,29.8,27.5,23.6,36.9,16.7,26.5,37.0,27.7,23.5,40.4,27.7,28.3,55.0,28.7,25.0,24.8,35.5,25.0,17.3,37.8,32.8,28.7,28.8,28.4,24.9,29.6,26.1,29.5,23.9,25.8,36.2,31.3,26.1,19.1,17.6,21.4,24.0,25.5,19.9,35.5,26.9,24.2,30.0,30.9,26.5,30.6,19.1,23.2,30.5,15.8,16.9,18.0,36.7,30.8,34.6,16.3,38.2,27.3,30.4,34.5,17.4,32.0,33.4,40.2,30.1,46.2,35.6,29.4,27.3,17.4,26.9,17.7,23.6,27.7,38.0,35.2,28.893236911794666,32.4,36.1,30.6,29.0,22.3,27.3,39.0,26.7,24.2,22.8,25.6,21.9,25.9,30.6,25.7,33.3,23.8,17.2,31.0,24.7,27.1,28.893236911794666,38.3,50.9,29.2,23.6,33.5,16.3,30.8,31.1,26.4,18.6,37.3,26.6,17.6,22.3,20.2,30.9,31.5,29.7,32.5,32.8,25.4,27.2,31.6,39.6,19.8,29.6,25.5,25.8,32.1,25.6,26.3,39.4,25.6,34.0,35.8,24.9,29.3,23.4,24.5,29.8,28.9,27.3,23.2,34.2,23.3,26.9,21.8,26.9,29.9,22.4,27.5,35.0,27.9,25.5,28.6,34.8,50.6,30.9,14.8,31.4,22.3,19.1,27.4,17.5,36.2,25.4,25.7,28.6,33.7,37.9,28.4,20.0,29.1,27.6,27.6,24.2,31.0,34.5,27.0,20.7,26.1,19.2,28.0,23.6,57.2,33.0,22.2,24.8,24.7,27.9,21.6,34.8,32.9,28.0,28.893236911794666,25.0,24.7,27.3,34.2,39.1,22.7,33.9,18.6,16.7,20.6,20.1,45.2,25.3,32.4,34.9,43.7,23.0,21.5,24.9,22.9,25.0,21.3,46.1,64.4,37.0,21.3,28.3,31.1,25.1,27.6,29.4,14.1,35.2,23.9,34.0,27.1,29.5,28.893236911794666,20.7,39.5,33.7,23.2,30.1,28.8,92.0,38.0,27.7,43.2,24.1,28.7,34.8,23.5,28.5,20.3,43.0,18.3,27.2,22.0,50.8,35.4,55.9,27.9,19.8,26.0,26.8,28.893236911794666,32.5,15.0,14.2,17.0,26.2,24.9,26.6,22.7,32.7,36.7,31.5,36.9,27.6,20.7,20.2,23.4,25.3,28.2,27.0,24.8,34.8,17.3,27.8,16.2,28.893236911794666,21.7,21.4,29.3,36.2,28.3,23.5,25.9,27.1,21.5,30.5,23.4,37.6,24.0,25.1,28.7,41.8,25.6,27.2,24.4,20.7,19.6,24.8,32.6,20.5,36.2,45.4,27.6,28.893236911794666,34.7,32.4,28.893236911794666,28.7,45.3,40.3,38.9,46.0,32.4,27.5,26.2,31.1,34.6,24.3,34.6,28.5,32.1,28.0,20.9,33.8,25.8,31.8,26.8,25.9,29.2,25.3,41.7,38.8,29.1,30.9,39.3,41.8,26.2,33.8,26.1,24.1,30.7,22.4,23.0,30.2,30.3,28.7,36.3,16.3,34.5,20.8,31.0,17.6,22.7,38.4,40.8,32.9,31.3,28.5,27.6,40.2,24.7,17.7,25.4,28.5,26.2,26.0,45.3,31.5,20.6,29.4,57.9,39.1,23.8,38.1,19.5,35.5,26.4,22.2,29.1,41.9,22.6,33.3,21.3,20.4,28.7,28.8,38.7,32.3,37.9,25.3,27.7,25.1,16.8,27.7,28.6,37.6,32.7,22.7,16.0,23.5,45.8,20.8,16.7,22.2,33.1,32.7,41.4,24.1,28.0,24.2,23.5,23.0,20.3,24.8,26.1,24.2,19.3,18.2,24.2,41.5,28.0,37.0,32.2,35.9,47.6,32.1,55.7,22.2,14.6,28.4,20.6,19.8,23.4,25.1,30.1,33.3,24.0,27.8,21.4,25.5,28.893236911794666,21.8,18.9,21.9,30.6,29.8,28.7,35.5,29.1,32.8,22.8,31.3,29.0,19.0,24.1,21.4,28.0,27.6,28.7,24.5,25.0,29.6,29.9,35.6,27.9,42.6,21.2,28.5,25.6,28.893236911794666,31.1,30.4,22.9,31.9,48.8,43.0,21.8,35.5,24.3,23.1,18.5,42.4,32.3,22.6,17.8,18.4,26.9,32.0,23.4,31.4,22.4,28.9,27.4,57.2,28.4,23.5,28.3,38.2,33.3,33.3,28.8,32.1,28.9,25.5,25.9,19.5,23.8,24.9,18.5,30.6,16.1,32.5,27.4,30.2,23.5,36.0,24.8,27.5,40.0,18.1,18.8,23.6,29.7,43.7,27.3,20.2,23.8,21.4,25.1,17.9,34.5,27.1,26.1,43.4,33.2,37.2,41.3,35.4,26.1,24.5,28.893236911794666,32.7,29.2,20.4,33.5,14.0,33.5,27.5,35.3,30.1,32.6,47.5,31.6,23.5,40.3,34.1,16.1,26.4,19.0,34.7,23.3,32.6,26.0,35.1,18.6,30.4,32.8,21.6,23.3,31.4,26.3,20.1,28.3,40.4,18.6,44.7,25.3,28.3,39.9,28.893236911794666,34.7,31.9,35.0,32.7,30.6,27.9,20.4,29.6,23.5,46.4,27.4,25.2,25.8,33.3,27.7,28.9,33.1,38.1,27.9,27.1,22.7,28.3,21.5,30.0,18.6,45.2,39.7,31.5,23.2,27.3,26.5,19.3,26.1,19.8,25.1,37.3,30.3,16.1,25.1,26.7,29.3,38.7,35.8,21.7,31.4,26.9,33.0,24.5,44.9,25.5,22.1,24.3,32.4,28.893236911794666,33.1,26.7,37.9,39.6,19.8,30.0,23.1,34.3,38.4,32.8,34.4,44.6,32.8,26.4,27.3,32.4,43.2,33.6,26.4,46.9,36.3,34.9,29.6,16.5,35.4,23.6,33.1,40.2,34.8,33.5,31.9,16.1,50.2,35.9,39.6,27.5,32.3,15.4,28.4,19.5,25.0,26.3,39.6,38.6,33.9,32.2,25.1,37.4,30.1,27.0,32.4,26.8,27.2,36.7,36.0,37.2,19.1,21.8,26.5,35.0,32.6,23.9,33.7,29.4,29.0,20.2,28.893236911794666,27.4,25.0,30.7,23.0,26.6,18.1,47.1,29.7,19.9,13.3,32.7,31.8,31.4,20.4,33.2,30.5,30.3,34.2,34.4,48.1,22.8,30.5,35.9,33.7,24.1,25.4,25.5,29.2,28.893236911794666,17.4,29.9,21.5,24.7,25.1,34.4,27.9,31.5,31.8,30.1,26.4,27.2,22.5,29.8,26.1,24.9,23.5,30.1,37.3,25.5,35.3,27.6,28.7,29.9,34.2,24.9,36.8,24.5,34.6,30.0,28.8,28.6,23.6,20.1,21.1,34.1,28.893236911794666,29.5,37.8,31.2,31.1,34.2,17.7,39.2,22.2,29.5,27.0,16.8,23.3,33.5,15.6,28.2,22.6,20.2,22.2,22.6,26.7,22.9,21.5,30.3,14.8,24.3,17.4,29.0,26.3,51.7,29.2,18.3,21.9,16.3,27.4,20.4,23.2,30.3,16.7,31.0,28.893236911794666,33.5,17.0,19.4,14.6,32.2,37.7,27.4,25.0,20.1,21.7,38.2,17.0,28.4,30.0,34.1,19.3,21.6,32.9,27.2,27.8,29.9,28.4,24.1,24.0,23.4,32.6,33.1,33.8,30.3,36.9,29.7,38.8,30.9,36.9,18.8,25.5,32.3,25.8,31.1,27.9,18.6,20.1,26.7,30.3,30.4,30.0,24.9,60.9,24.3,38.7,18.6,17.1,29.4,16.9,34.2,27.6,47.8,18.9,24.4,25.2,30.7,26.1,25.3,32.8,45.7,24.6,32.3,47.6,34.4,18.2,44.5,36.6,19.4,22.9,20.0,36.1,27.3,42.2,26.4,23.6,18.6,18.0,31.1,30.0,43.8,23.8,36.2,32.6,18.0,25.5,29.9,32.1,25.4,23.4,23.4,21.8,30.8,37.9,42.5,23.4,35.4,32.3,27.0,46.3,30.1,34.7,18.3,16.2,33.2,18.6,25.1,24.1,33.1,24.8,23.4,54.1,28.9,38.1,37.2,29.0,26.7,20.5,34.1,42.4,37.7,39.1,28.9,30.7,33.8,28.893236911794666,32.1,40.5,24.8,31.8,27.0,13.7,23.4,14.9,38.8,38.6,32.2,28.893236911794666,30.6,28.1,35.2,21.8,28.1,28.2,28.4,37.4,21.8,19.8,16.2,33.6,21.2,28.4,28.893236911794666,41.1,24.9,56.6,28.8,33.7,38.6,33.8,22.4,37.3,23.4,39.1,21.2,31.2,28.0,21.1,15.7,29.1,26.1,16.2,27.1,28.8,37.9,21.6,30.1,29.7,26.4,46.0,26.1,23.2,28.4,20.5,24.6,32.2,30.5,28.893236911794666,24.9,26.5,34.5,21.5,15.9,17.7,26.5,24.4,26.6,23.9,30.1,23.6,18.4,32.1,24.4,27.3,34.8,28.4,40.2,31.1,24.0,38.1,29.9,24.5,49.5,35.5,29.5,28.8,22.1,29.4,45.0,27.1,28.3,20.1,31.3,17.6,24.5,24.1,31.3,31.5,29.9,30.2,27.8,15.6,26.3,24.8,17.1,20.3,18.7,28.8,28.7,24.6,25.3,29.7,28.893236911794666,21.1,26.9,26.2,26.3,24.8,25.0,34.6,42.7,28.893236911794666,24.5,19.3,29.3,22.1,27.8,24.7,25.3,41.2,47.6,23.4,22.7,29.7,32.3,36.9,27.7,24.3,37.4,25.1,24.3,24.3,28.7,16.8,35.8,40.0,24.3,25.6,37.8,23.0,21.0,15.5,17.1,28.0,40.8,37.5,24.2,26.9,33.1,21.8,34.7,30.2,21.0,30.9,38.9,28.893236911794666,24.3,17.4,28.2,40.8,17.5,28.893236911794666,28.3,24.5,21.7,46.9,18.6,28.893236911794666,40.0,30.6,25.6,26.2],\"type\":\"box\",\"xaxis\":\"x3\",\"yaxis\":\"y3\"}],                        {\"template\":{\"data\":{\"histogram2dcontour\":[{\"type\":\"histogram2dcontour\",\"colorbar\":{\"outlinewidth\":0,\"ticks\":\"\"},\"colorscale\":[[0.0,\"#0d0887\"],[0.1111111111111111,\"#46039f\"],[0.2222222222222222,\"#7201a8\"],[0.3333333333333333,\"#9c179e\"],[0.4444444444444444,\"#bd3786\"],[0.5555555555555556,\"#d8576b\"],[0.6666666666666666,\"#ed7953\"],[0.7777777777777778,\"#fb9f3a\"],[0.8888888888888888,\"#fdca26\"],[1.0,\"#f0f921\"]]}],\"choropleth\":[{\"type\":\"choropleth\",\"colorbar\":{\"outlinewidth\":0,\"ticks\":\"\"}}],\"histogram2d\":[{\"type\":\"histogram2d\",\"colorbar\":{\"outlinewidth\":0,\"ticks\":\"\"},\"colorscale\":[[0.0,\"#0d0887\"],[0.1111111111111111,\"#46039f\"],[0.2222222222222222,\"#7201a8\"],[0.3333333333333333,\"#9c179e\"],[0.4444444444444444,\"#bd3786\"],[0.5555555555555556,\"#d8576b\"],[0.6666666666666666,\"#ed7953\"],[0.7777777777777778,\"#fb9f3a\"],[0.8888888888888888,\"#fdca26\"],[1.0,\"#f0f921\"]]}],\"heatmap\":[{\"type\":\"heatmap\",\"colorbar\":{\"outlinewidth\":0,\"ticks\":\"\"},\"colorscale\":[[0.0,\"#0d0887\"],[0.1111111111111111,\"#46039f\"],[0.2222222222222222,\"#7201a8\"],[0.3333333333333333,\"#9c179e\"],[0.4444444444444444,\"#bd3786\"],[0.5555555555555556,\"#d8576b\"],[0.6666666666666666,\"#ed7953\"],[0.7777777777777778,\"#fb9f3a\"],[0.8888888888888888,\"#fdca26\"],[1.0,\"#f0f921\"]]}],\"heatmapgl\":[{\"type\":\"heatmapgl\",\"colorbar\":{\"outlinewidth\":0,\"ticks\":\"\"},\"colorscale\":[[0.0,\"#0d0887\"],[0.1111111111111111,\"#46039f\"],[0.2222222222222222,\"#7201a8\"],[0.3333333333333333,\"#9c179e\"],[0.4444444444444444,\"#bd3786\"],[0.5555555555555556,\"#d8576b\"],[0.6666666666666666,\"#ed7953\"],[0.7777777777777778,\"#fb9f3a\"],[0.8888888888888888,\"#fdca26\"],[1.0,\"#f0f921\"]]}],\"contourcarpet\":[{\"type\":\"contourcarpet\",\"colorbar\":{\"outlinewidth\":0,\"ticks\":\"\"}}],\"contour\":[{\"type\":\"contour\",\"colorbar\":{\"outlinewidth\":0,\"ticks\":\"\"},\"colorscale\":[[0.0,\"#0d0887\"],[0.1111111111111111,\"#46039f\"],[0.2222222222222222,\"#7201a8\"],[0.3333333333333333,\"#9c179e\"],[0.4444444444444444,\"#bd3786\"],[0.5555555555555556,\"#d8576b\"],[0.6666666666666666,\"#ed7953\"],[0.7777777777777778,\"#fb9f3a\"],[0.8888888888888888,\"#fdca26\"],[1.0,\"#f0f921\"]]}],\"surface\":[{\"type\":\"surface\",\"colorbar\":{\"outlinewidth\":0,\"ticks\":\"\"},\"colorscale\":[[0.0,\"#0d0887\"],[0.1111111111111111,\"#46039f\"],[0.2222222222222222,\"#7201a8\"],[0.3333333333333333,\"#9c179e\"],[0.4444444444444444,\"#bd3786\"],[0.5555555555555556,\"#d8576b\"],[0.6666666666666666,\"#ed7953\"],[0.7777777777777778,\"#fb9f3a\"],[0.8888888888888888,\"#fdca26\"],[1.0,\"#f0f921\"]]}],\"mesh3d\":[{\"type\":\"mesh3d\",\"colorbar\":{\"outlinewidth\":0,\"ticks\":\"\"}}],\"scatter\":[{\"fillpattern\":{\"fillmode\":\"overlay\",\"size\":10,\"solidity\":0.2},\"type\":\"scatter\"}],\"parcoords\":[{\"type\":\"parcoords\",\"line\":{\"colorbar\":{\"outlinewidth\":0,\"ticks\":\"\"}}}],\"scatterpolargl\":[{\"type\":\"scatterpolargl\",\"marker\":{\"colorbar\":{\"outlinewidth\":0,\"ticks\":\"\"}}}],\"bar\":[{\"error_x\":{\"color\":\"#2a3f5f\"},\"error_y\":{\"color\":\"#2a3f5f\"},\"marker\":{\"line\":{\"color\":\"#E5ECF6\",\"width\":0.5},\"pattern\":{\"fillmode\":\"overlay\",\"size\":10,\"solidity\":0.2}},\"type\":\"bar\"}],\"scattergeo\":[{\"type\":\"scattergeo\",\"marker\":{\"colorbar\":{\"outlinewidth\":0,\"ticks\":\"\"}}}],\"scatterpolar\":[{\"type\":\"scatterpolar\",\"marker\":{\"colorbar\":{\"outlinewidth\":0,\"ticks\":\"\"}}}],\"histogram\":[{\"marker\":{\"pattern\":{\"fillmode\":\"overlay\",\"size\":10,\"solidity\":0.2}},\"type\":\"histogram\"}],\"scattergl\":[{\"type\":\"scattergl\",\"marker\":{\"colorbar\":{\"outlinewidth\":0,\"ticks\":\"\"}}}],\"scatter3d\":[{\"type\":\"scatter3d\",\"line\":{\"colorbar\":{\"outlinewidth\":0,\"ticks\":\"\"}},\"marker\":{\"colorbar\":{\"outlinewidth\":0,\"ticks\":\"\"}}}],\"scattermapbox\":[{\"type\":\"scattermapbox\",\"marker\":{\"colorbar\":{\"outlinewidth\":0,\"ticks\":\"\"}}}],\"scatterternary\":[{\"type\":\"scatterternary\",\"marker\":{\"colorbar\":{\"outlinewidth\":0,\"ticks\":\"\"}}}],\"scattercarpet\":[{\"type\":\"scattercarpet\",\"marker\":{\"colorbar\":{\"outlinewidth\":0,\"ticks\":\"\"}}}],\"carpet\":[{\"aaxis\":{\"endlinecolor\":\"#2a3f5f\",\"gridcolor\":\"white\",\"linecolor\":\"white\",\"minorgridcolor\":\"white\",\"startlinecolor\":\"#2a3f5f\"},\"baxis\":{\"endlinecolor\":\"#2a3f5f\",\"gridcolor\":\"white\",\"linecolor\":\"white\",\"minorgridcolor\":\"white\",\"startlinecolor\":\"#2a3f5f\"},\"type\":\"carpet\"}],\"table\":[{\"cells\":{\"fill\":{\"color\":\"#EBF0F8\"},\"line\":{\"color\":\"white\"}},\"header\":{\"fill\":{\"color\":\"#C8D4E3\"},\"line\":{\"color\":\"white\"}},\"type\":\"table\"}],\"barpolar\":[{\"marker\":{\"line\":{\"color\":\"#E5ECF6\",\"width\":0.5},\"pattern\":{\"fillmode\":\"overlay\",\"size\":10,\"solidity\":0.2}},\"type\":\"barpolar\"}],\"pie\":[{\"automargin\":true,\"type\":\"pie\"}]},\"layout\":{\"autotypenumbers\":\"strict\",\"colorway\":[\"#636efa\",\"#EF553B\",\"#00cc96\",\"#ab63fa\",\"#FFA15A\",\"#19d3f3\",\"#FF6692\",\"#B6E880\",\"#FF97FF\",\"#FECB52\"],\"font\":{\"color\":\"#2a3f5f\"},\"hovermode\":\"closest\",\"hoverlabel\":{\"align\":\"left\"},\"paper_bgcolor\":\"white\",\"plot_bgcolor\":\"#E5ECF6\",\"polar\":{\"bgcolor\":\"#E5ECF6\",\"angularaxis\":{\"gridcolor\":\"white\",\"linecolor\":\"white\",\"ticks\":\"\"},\"radialaxis\":{\"gridcolor\":\"white\",\"linecolor\":\"white\",\"ticks\":\"\"}},\"ternary\":{\"bgcolor\":\"#E5ECF6\",\"aaxis\":{\"gridcolor\":\"white\",\"linecolor\":\"white\",\"ticks\":\"\"},\"baxis\":{\"gridcolor\":\"white\",\"linecolor\":\"white\",\"ticks\":\"\"},\"caxis\":{\"gridcolor\":\"white\",\"linecolor\":\"white\",\"ticks\":\"\"}},\"coloraxis\":{\"colorbar\":{\"outlinewidth\":0,\"ticks\":\"\"}},\"colorscale\":{\"sequential\":[[0.0,\"#0d0887\"],[0.1111111111111111,\"#46039f\"],[0.2222222222222222,\"#7201a8\"],[0.3333333333333333,\"#9c179e\"],[0.4444444444444444,\"#bd3786\"],[0.5555555555555556,\"#d8576b\"],[0.6666666666666666,\"#ed7953\"],[0.7777777777777778,\"#fb9f3a\"],[0.8888888888888888,\"#fdca26\"],[1.0,\"#f0f921\"]],\"sequentialminus\":[[0.0,\"#0d0887\"],[0.1111111111111111,\"#46039f\"],[0.2222222222222222,\"#7201a8\"],[0.3333333333333333,\"#9c179e\"],[0.4444444444444444,\"#bd3786\"],[0.5555555555555556,\"#d8576b\"],[0.6666666666666666,\"#ed7953\"],[0.7777777777777778,\"#fb9f3a\"],[0.8888888888888888,\"#fdca26\"],[1.0,\"#f0f921\"]],\"diverging\":[[0,\"#8e0152\"],[0.1,\"#c51b7d\"],[0.2,\"#de77ae\"],[0.3,\"#f1b6da\"],[0.4,\"#fde0ef\"],[0.5,\"#f7f7f7\"],[0.6,\"#e6f5d0\"],[0.7,\"#b8e186\"],[0.8,\"#7fbc41\"],[0.9,\"#4d9221\"],[1,\"#276419\"]]},\"xaxis\":{\"gridcolor\":\"white\",\"linecolor\":\"white\",\"ticks\":\"\",\"title\":{\"standoff\":15},\"zerolinecolor\":\"white\",\"automargin\":true,\"zerolinewidth\":2},\"yaxis\":{\"gridcolor\":\"white\",\"linecolor\":\"white\",\"ticks\":\"\",\"title\":{\"standoff\":15},\"zerolinecolor\":\"white\",\"automargin\":true,\"zerolinewidth\":2},\"scene\":{\"xaxis\":{\"backgroundcolor\":\"#E5ECF6\",\"gridcolor\":\"white\",\"linecolor\":\"white\",\"showbackground\":true,\"ticks\":\"\",\"zerolinecolor\":\"white\",\"gridwidth\":2},\"yaxis\":{\"backgroundcolor\":\"#E5ECF6\",\"gridcolor\":\"white\",\"linecolor\":\"white\",\"showbackground\":true,\"ticks\":\"\",\"zerolinecolor\":\"white\",\"gridwidth\":2},\"zaxis\":{\"backgroundcolor\":\"#E5ECF6\",\"gridcolor\":\"white\",\"linecolor\":\"white\",\"showbackground\":true,\"ticks\":\"\",\"zerolinecolor\":\"white\",\"gridwidth\":2}},\"shapedefaults\":{\"line\":{\"color\":\"#2a3f5f\"}},\"annotationdefaults\":{\"arrowcolor\":\"#2a3f5f\",\"arrowhead\":0,\"arrowwidth\":1},\"geo\":{\"bgcolor\":\"white\",\"landcolor\":\"#E5ECF6\",\"subunitcolor\":\"white\",\"showland\":true,\"showlakes\":true,\"lakecolor\":\"white\"},\"title\":{\"x\":0.05},\"mapbox\":{\"style\":\"light\"}}},\"xaxis\":{\"anchor\":\"y\",\"domain\":[0.0,0.45]},\"yaxis\":{\"anchor\":\"x\",\"domain\":[0.625,1.0]},\"xaxis2\":{\"anchor\":\"y2\",\"domain\":[0.55,1.0]},\"yaxis2\":{\"anchor\":\"x2\",\"domain\":[0.625,1.0]},\"xaxis3\":{\"anchor\":\"y3\",\"domain\":[0.0,0.45]},\"yaxis3\":{\"anchor\":\"x3\",\"domain\":[0.0,0.375]},\"xaxis4\":{\"anchor\":\"y4\",\"domain\":[0.55,1.0]},\"yaxis4\":{\"anchor\":\"x4\",\"domain\":[0.0,0.375]},\"annotations\":[{\"font\":{\"size\":16},\"showarrow\":false,\"text\":\"Boxplot of age\",\"x\":0.225,\"xanchor\":\"center\",\"xref\":\"paper\",\"y\":1.0,\"yanchor\":\"bottom\",\"yref\":\"paper\"},{\"font\":{\"size\":16},\"showarrow\":false,\"text\":\"Boxplot of avg_glucose_level\",\"x\":0.775,\"xanchor\":\"center\",\"xref\":\"paper\",\"y\":1.0,\"yanchor\":\"bottom\",\"yref\":\"paper\"},{\"font\":{\"size\":16},\"showarrow\":false,\"text\":\"Boxplot of bmi\",\"x\":0.225,\"xanchor\":\"center\",\"xref\":\"paper\",\"y\":0.375,\"yanchor\":\"bottom\",\"yref\":\"paper\"}],\"title\":{\"text\":\"Boxplots\"},\"height\":1000,\"width\":1000,\"showlegend\":false},                        {\"responsive\": true}                    ).then(function(){\n",
              "                            \n",
              "var gd = document.getElementById('daad8157-9975-4ce9-8d02-64052a37ba48');\n",
              "var x = new MutationObserver(function (mutations, observer) {{\n",
              "        var display = window.getComputedStyle(gd).display;\n",
              "        if (!display || display === 'none') {{\n",
              "            console.log([gd, 'removed!']);\n",
              "            Plotly.purge(gd);\n",
              "            observer.disconnect();\n",
              "        }}\n",
              "}});\n",
              "\n",
              "// Listen for the removal of the full notebook cells\n",
              "var notebookContainer = gd.closest('#notebook-container');\n",
              "if (notebookContainer) {{\n",
              "    x.observe(notebookContainer, {childList: true});\n",
              "}}\n",
              "\n",
              "// Listen for the clearing of the current output cell\n",
              "var outputEl = gd.closest('.output');\n",
              "if (outputEl) {{\n",
              "    x.observe(outputEl, {childList: true});\n",
              "}}\n",
              "\n",
              "                        })                };                            </script>        </div>\n",
              "</body>\n",
              "</html>"
            ]
          },
          "metadata": {}
        }
      ]
    },
    {
      "cell_type": "markdown",
      "source": [
        "Overall Observations:\n",
        "\n",
        "*   The dataset contains a relatively wide range of ages.\n",
        "*   The glucose levels exhibit a significant number of outliers, potentially indicating health concerns or measurement errors.\n",
        "\n",
        "*   The BMI distribution suggests a moderately overweight population with some individuals in the obese range.\n",
        "\n",
        "\n"
      ],
      "metadata": {
        "id": "hYBi5lRhLBpY"
      }
    },
    {
      "cell_type": "markdown",
      "source": [
        "\n",
        "\n",
        "---\n",
        "\n",
        "\n",
        "\n",
        "\n"
      ],
      "metadata": {
        "id": "0J6R2eodLwTo"
      }
    },
    {
      "cell_type": "markdown",
      "source": [
        "**Proportions of patients with stroke**"
      ],
      "metadata": {
        "id": "hEtXKWSHLoEr"
      }
    },
    {
      "cell_type": "code",
      "source": [
        "proportions_of_stroke_patients  = pd.DataFrame(df['stroke'].value_counts().reset_index())\n",
        "proportions_of_stroke_patients"
      ],
      "metadata": {
        "colab": {
          "base_uri": "https://localhost:8080/",
          "height": 125
        },
        "id": "GGWeAWDHG3vh",
        "outputId": "ce993f8a-bed9-43f7-d5cb-647319df35b2"
      },
      "execution_count": null,
      "outputs": [
        {
          "output_type": "execute_result",
          "data": {
            "text/plain": [
              "   stroke  count\n",
              "0       0   4817\n",
              "1       1    249"
            ],
            "text/html": [
              "\n",
              "  <div id=\"df-748b682c-19ad-402a-8a08-12efabb37131\" class=\"colab-df-container\">\n",
              "    <div>\n",
              "<style scoped>\n",
              "    .dataframe tbody tr th:only-of-type {\n",
              "        vertical-align: middle;\n",
              "    }\n",
              "\n",
              "    .dataframe tbody tr th {\n",
              "        vertical-align: top;\n",
              "    }\n",
              "\n",
              "    .dataframe thead th {\n",
              "        text-align: right;\n",
              "    }\n",
              "</style>\n",
              "<table border=\"1\" class=\"dataframe\">\n",
              "  <thead>\n",
              "    <tr style=\"text-align: right;\">\n",
              "      <th></th>\n",
              "      <th>stroke</th>\n",
              "      <th>count</th>\n",
              "    </tr>\n",
              "  </thead>\n",
              "  <tbody>\n",
              "    <tr>\n",
              "      <th>0</th>\n",
              "      <td>0</td>\n",
              "      <td>4817</td>\n",
              "    </tr>\n",
              "    <tr>\n",
              "      <th>1</th>\n",
              "      <td>1</td>\n",
              "      <td>249</td>\n",
              "    </tr>\n",
              "  </tbody>\n",
              "</table>\n",
              "</div>\n",
              "    <div class=\"colab-df-buttons\">\n",
              "\n",
              "  <div class=\"colab-df-container\">\n",
              "    <button class=\"colab-df-convert\" onclick=\"convertToInteractive('df-748b682c-19ad-402a-8a08-12efabb37131')\"\n",
              "            title=\"Convert this dataframe to an interactive table.\"\n",
              "            style=\"display:none;\">\n",
              "\n",
              "  <svg xmlns=\"http://www.w3.org/2000/svg\" height=\"24px\" viewBox=\"0 -960 960 960\">\n",
              "    <path d=\"M120-120v-720h720v720H120Zm60-500h600v-160H180v160Zm220 220h160v-160H400v160Zm0 220h160v-160H400v160ZM180-400h160v-160H180v160Zm440 0h160v-160H620v160ZM180-180h160v-160H180v160Zm440 0h160v-160H620v160Z\"/>\n",
              "  </svg>\n",
              "    </button>\n",
              "\n",
              "  <style>\n",
              "    .colab-df-container {\n",
              "      display:flex;\n",
              "      gap: 12px;\n",
              "    }\n",
              "\n",
              "    .colab-df-convert {\n",
              "      background-color: #E8F0FE;\n",
              "      border: none;\n",
              "      border-radius: 50%;\n",
              "      cursor: pointer;\n",
              "      display: none;\n",
              "      fill: #1967D2;\n",
              "      height: 32px;\n",
              "      padding: 0 0 0 0;\n",
              "      width: 32px;\n",
              "    }\n",
              "\n",
              "    .colab-df-convert:hover {\n",
              "      background-color: #E2EBFA;\n",
              "      box-shadow: 0px 1px 2px rgba(60, 64, 67, 0.3), 0px 1px 3px 1px rgba(60, 64, 67, 0.15);\n",
              "      fill: #174EA6;\n",
              "    }\n",
              "\n",
              "    .colab-df-buttons div {\n",
              "      margin-bottom: 4px;\n",
              "    }\n",
              "\n",
              "    [theme=dark] .colab-df-convert {\n",
              "      background-color: #3B4455;\n",
              "      fill: #D2E3FC;\n",
              "    }\n",
              "\n",
              "    [theme=dark] .colab-df-convert:hover {\n",
              "      background-color: #434B5C;\n",
              "      box-shadow: 0px 1px 3px 1px rgba(0, 0, 0, 0.15);\n",
              "      filter: drop-shadow(0px 1px 2px rgba(0, 0, 0, 0.3));\n",
              "      fill: #FFFFFF;\n",
              "    }\n",
              "  </style>\n",
              "\n",
              "    <script>\n",
              "      const buttonEl =\n",
              "        document.querySelector('#df-748b682c-19ad-402a-8a08-12efabb37131 button.colab-df-convert');\n",
              "      buttonEl.style.display =\n",
              "        google.colab.kernel.accessAllowed ? 'block' : 'none';\n",
              "\n",
              "      async function convertToInteractive(key) {\n",
              "        const element = document.querySelector('#df-748b682c-19ad-402a-8a08-12efabb37131');\n",
              "        const dataTable =\n",
              "          await google.colab.kernel.invokeFunction('convertToInteractive',\n",
              "                                                    [key], {});\n",
              "        if (!dataTable) return;\n",
              "\n",
              "        const docLinkHtml = 'Like what you see? Visit the ' +\n",
              "          '<a target=\"_blank\" href=https://colab.research.google.com/notebooks/data_table.ipynb>data table notebook</a>'\n",
              "          + ' to learn more about interactive tables.';\n",
              "        element.innerHTML = '';\n",
              "        dataTable['output_type'] = 'display_data';\n",
              "        await google.colab.output.renderOutput(dataTable, element);\n",
              "        const docLink = document.createElement('div');\n",
              "        docLink.innerHTML = docLinkHtml;\n",
              "        element.appendChild(docLink);\n",
              "      }\n",
              "    </script>\n",
              "  </div>\n",
              "\n",
              "\n",
              "<div id=\"df-b4fcfd69-91e4-4537-b58e-5efef71bab70\">\n",
              "  <button class=\"colab-df-quickchart\" onclick=\"quickchart('df-b4fcfd69-91e4-4537-b58e-5efef71bab70')\"\n",
              "            title=\"Suggest charts\"\n",
              "            style=\"display:none;\">\n",
              "\n",
              "<svg xmlns=\"http://www.w3.org/2000/svg\" height=\"24px\"viewBox=\"0 0 24 24\"\n",
              "     width=\"24px\">\n",
              "    <g>\n",
              "        <path d=\"M19 3H5c-1.1 0-2 .9-2 2v14c0 1.1.9 2 2 2h14c1.1 0 2-.9 2-2V5c0-1.1-.9-2-2-2zM9 17H7v-7h2v7zm4 0h-2V7h2v10zm4 0h-2v-4h2v4z\"/>\n",
              "    </g>\n",
              "</svg>\n",
              "  </button>\n",
              "\n",
              "<style>\n",
              "  .colab-df-quickchart {\n",
              "      --bg-color: #E8F0FE;\n",
              "      --fill-color: #1967D2;\n",
              "      --hover-bg-color: #E2EBFA;\n",
              "      --hover-fill-color: #174EA6;\n",
              "      --disabled-fill-color: #AAA;\n",
              "      --disabled-bg-color: #DDD;\n",
              "  }\n",
              "\n",
              "  [theme=dark] .colab-df-quickchart {\n",
              "      --bg-color: #3B4455;\n",
              "      --fill-color: #D2E3FC;\n",
              "      --hover-bg-color: #434B5C;\n",
              "      --hover-fill-color: #FFFFFF;\n",
              "      --disabled-bg-color: #3B4455;\n",
              "      --disabled-fill-color: #666;\n",
              "  }\n",
              "\n",
              "  .colab-df-quickchart {\n",
              "    background-color: var(--bg-color);\n",
              "    border: none;\n",
              "    border-radius: 50%;\n",
              "    cursor: pointer;\n",
              "    display: none;\n",
              "    fill: var(--fill-color);\n",
              "    height: 32px;\n",
              "    padding: 0;\n",
              "    width: 32px;\n",
              "  }\n",
              "\n",
              "  .colab-df-quickchart:hover {\n",
              "    background-color: var(--hover-bg-color);\n",
              "    box-shadow: 0 1px 2px rgba(60, 64, 67, 0.3), 0 1px 3px 1px rgba(60, 64, 67, 0.15);\n",
              "    fill: var(--button-hover-fill-color);\n",
              "  }\n",
              "\n",
              "  .colab-df-quickchart-complete:disabled,\n",
              "  .colab-df-quickchart-complete:disabled:hover {\n",
              "    background-color: var(--disabled-bg-color);\n",
              "    fill: var(--disabled-fill-color);\n",
              "    box-shadow: none;\n",
              "  }\n",
              "\n",
              "  .colab-df-spinner {\n",
              "    border: 2px solid var(--fill-color);\n",
              "    border-color: transparent;\n",
              "    border-bottom-color: var(--fill-color);\n",
              "    animation:\n",
              "      spin 1s steps(1) infinite;\n",
              "  }\n",
              "\n",
              "  @keyframes spin {\n",
              "    0% {\n",
              "      border-color: transparent;\n",
              "      border-bottom-color: var(--fill-color);\n",
              "      border-left-color: var(--fill-color);\n",
              "    }\n",
              "    20% {\n",
              "      border-color: transparent;\n",
              "      border-left-color: var(--fill-color);\n",
              "      border-top-color: var(--fill-color);\n",
              "    }\n",
              "    30% {\n",
              "      border-color: transparent;\n",
              "      border-left-color: var(--fill-color);\n",
              "      border-top-color: var(--fill-color);\n",
              "      border-right-color: var(--fill-color);\n",
              "    }\n",
              "    40% {\n",
              "      border-color: transparent;\n",
              "      border-right-color: var(--fill-color);\n",
              "      border-top-color: var(--fill-color);\n",
              "    }\n",
              "    60% {\n",
              "      border-color: transparent;\n",
              "      border-right-color: var(--fill-color);\n",
              "    }\n",
              "    80% {\n",
              "      border-color: transparent;\n",
              "      border-right-color: var(--fill-color);\n",
              "      border-bottom-color: var(--fill-color);\n",
              "    }\n",
              "    90% {\n",
              "      border-color: transparent;\n",
              "      border-bottom-color: var(--fill-color);\n",
              "    }\n",
              "  }\n",
              "</style>\n",
              "\n",
              "  <script>\n",
              "    async function quickchart(key) {\n",
              "      const quickchartButtonEl =\n",
              "        document.querySelector('#' + key + ' button');\n",
              "      quickchartButtonEl.disabled = true;  // To prevent multiple clicks.\n",
              "      quickchartButtonEl.classList.add('colab-df-spinner');\n",
              "      try {\n",
              "        const charts = await google.colab.kernel.invokeFunction(\n",
              "            'suggestCharts', [key], {});\n",
              "      } catch (error) {\n",
              "        console.error('Error during call to suggestCharts:', error);\n",
              "      }\n",
              "      quickchartButtonEl.classList.remove('colab-df-spinner');\n",
              "      quickchartButtonEl.classList.add('colab-df-quickchart-complete');\n",
              "    }\n",
              "    (() => {\n",
              "      let quickchartButtonEl =\n",
              "        document.querySelector('#df-b4fcfd69-91e4-4537-b58e-5efef71bab70 button');\n",
              "      quickchartButtonEl.style.display =\n",
              "        google.colab.kernel.accessAllowed ? 'block' : 'none';\n",
              "    })();\n",
              "  </script>\n",
              "</div>\n",
              "\n",
              "  <div id=\"id_22aab838-569d-4d19-b306-be08dd2c1c6e\">\n",
              "    <style>\n",
              "      .colab-df-generate {\n",
              "        background-color: #E8F0FE;\n",
              "        border: none;\n",
              "        border-radius: 50%;\n",
              "        cursor: pointer;\n",
              "        display: none;\n",
              "        fill: #1967D2;\n",
              "        height: 32px;\n",
              "        padding: 0 0 0 0;\n",
              "        width: 32px;\n",
              "      }\n",
              "\n",
              "      .colab-df-generate:hover {\n",
              "        background-color: #E2EBFA;\n",
              "        box-shadow: 0px 1px 2px rgba(60, 64, 67, 0.3), 0px 1px 3px 1px rgba(60, 64, 67, 0.15);\n",
              "        fill: #174EA6;\n",
              "      }\n",
              "\n",
              "      [theme=dark] .colab-df-generate {\n",
              "        background-color: #3B4455;\n",
              "        fill: #D2E3FC;\n",
              "      }\n",
              "\n",
              "      [theme=dark] .colab-df-generate:hover {\n",
              "        background-color: #434B5C;\n",
              "        box-shadow: 0px 1px 3px 1px rgba(0, 0, 0, 0.15);\n",
              "        filter: drop-shadow(0px 1px 2px rgba(0, 0, 0, 0.3));\n",
              "        fill: #FFFFFF;\n",
              "      }\n",
              "    </style>\n",
              "    <button class=\"colab-df-generate\" onclick=\"generateWithVariable('proportions_of_stroke_patients')\"\n",
              "            title=\"Generate code using this dataframe.\"\n",
              "            style=\"display:none;\">\n",
              "\n",
              "  <svg xmlns=\"http://www.w3.org/2000/svg\" height=\"24px\"viewBox=\"0 0 24 24\"\n",
              "       width=\"24px\">\n",
              "    <path d=\"M7,19H8.4L18.45,9,17,7.55,7,17.6ZM5,21V16.75L18.45,3.32a2,2,0,0,1,2.83,0l1.4,1.43a1.91,1.91,0,0,1,.58,1.4,1.91,1.91,0,0,1-.58,1.4L9.25,21ZM18.45,9,17,7.55Zm-12,3A5.31,5.31,0,0,0,4.9,8.1,5.31,5.31,0,0,0,1,6.5,5.31,5.31,0,0,0,4.9,4.9,5.31,5.31,0,0,0,6.5,1,5.31,5.31,0,0,0,8.1,4.9,5.31,5.31,0,0,0,12,6.5,5.46,5.46,0,0,0,6.5,12Z\"/>\n",
              "  </svg>\n",
              "    </button>\n",
              "    <script>\n",
              "      (() => {\n",
              "      const buttonEl =\n",
              "        document.querySelector('#id_22aab838-569d-4d19-b306-be08dd2c1c6e button.colab-df-generate');\n",
              "      buttonEl.style.display =\n",
              "        google.colab.kernel.accessAllowed ? 'block' : 'none';\n",
              "\n",
              "      buttonEl.onclick = () => {\n",
              "        google.colab.notebook.generateWithVariable('proportions_of_stroke_patients');\n",
              "      }\n",
              "      })();\n",
              "    </script>\n",
              "  </div>\n",
              "\n",
              "    </div>\n",
              "  </div>\n"
            ],
            "application/vnd.google.colaboratory.intrinsic+json": {
              "type": "dataframe",
              "variable_name": "proportions_of_stroke_patients",
              "summary": "{\n  \"name\": \"proportions_of_stroke_patients\",\n  \"rows\": 2,\n  \"fields\": [\n    {\n      \"column\": \"stroke\",\n      \"properties\": {\n        \"dtype\": \"number\",\n        \"std\": 0,\n        \"min\": 0,\n        \"max\": 1,\n        \"num_unique_values\": 2,\n        \"samples\": [\n          1,\n          0\n        ],\n        \"semantic_type\": \"\",\n        \"description\": \"\"\n      }\n    },\n    {\n      \"column\": \"count\",\n      \"properties\": {\n        \"dtype\": \"number\",\n        \"std\": 3230,\n        \"min\": 249,\n        \"max\": 4817,\n        \"num_unique_values\": 2,\n        \"samples\": [\n          249,\n          4817\n        ],\n        \"semantic_type\": \"\",\n        \"description\": \"\"\n      }\n    }\n  ]\n}"
            }
          },
          "metadata": {},
          "execution_count": 30
        }
      ]
    },
    {
      "cell_type": "code",
      "source": [
        "fig = px.pie(\n",
        "    proportions_of_stroke_patients,\n",
        "    names='stroke',\n",
        "    values='count',\n",
        "    title='proportions of patients with stroke',\n",
        "    hole=0.3,\n",
        ")\n",
        "fig.update_traces(\n",
        "    textposition='outside',\n",
        "    textinfo='percent+label'\n",
        ")\n",
        "\n",
        "fig.show()"
      ],
      "metadata": {
        "colab": {
          "base_uri": "https://localhost:8080/",
          "height": 542
        },
        "id": "QNriH1WFG3ya",
        "outputId": "7a1452b5-48a6-4295-81fa-6df2af76de99"
      },
      "execution_count": null,
      "outputs": [
        {
          "output_type": "display_data",
          "data": {
            "text/html": [
              "<html>\n",
              "<head><meta charset=\"utf-8\" /></head>\n",
              "<body>\n",
              "    <div>            <script src=\"https://cdnjs.cloudflare.com/ajax/libs/mathjax/2.7.5/MathJax.js?config=TeX-AMS-MML_SVG\"></script><script type=\"text/javascript\">if (window.MathJax && window.MathJax.Hub && window.MathJax.Hub.Config) {window.MathJax.Hub.Config({SVG: {font: \"STIX-Web\"}});}</script>                <script type=\"text/javascript\">window.PlotlyConfig = {MathJaxConfig: 'local'};</script>\n",
              "        <script charset=\"utf-8\" src=\"https://cdn.plot.ly/plotly-2.35.2.min.js\"></script>                <div id=\"91b00c8d-01de-48fe-adca-50a6a0eb9290\" class=\"plotly-graph-div\" style=\"height:525px; width:100%;\"></div>            <script type=\"text/javascript\">                                    window.PLOTLYENV=window.PLOTLYENV || {};                                    if (document.getElementById(\"91b00c8d-01de-48fe-adca-50a6a0eb9290\")) {                    Plotly.newPlot(                        \"91b00c8d-01de-48fe-adca-50a6a0eb9290\",                        [{\"domain\":{\"x\":[0.0,1.0],\"y\":[0.0,1.0]},\"hole\":0.3,\"hovertemplate\":\"stroke=%{label}\\u003cbr\\u003ecount=%{value}\\u003cextra\\u003e\\u003c\\u002fextra\\u003e\",\"labels\":[0,1],\"legendgroup\":\"\",\"name\":\"\",\"showlegend\":true,\"values\":[4817,249],\"type\":\"pie\",\"textinfo\":\"percent+label\",\"textposition\":\"outside\"}],                        {\"template\":{\"data\":{\"histogram2dcontour\":[{\"type\":\"histogram2dcontour\",\"colorbar\":{\"outlinewidth\":0,\"ticks\":\"\"},\"colorscale\":[[0.0,\"#0d0887\"],[0.1111111111111111,\"#46039f\"],[0.2222222222222222,\"#7201a8\"],[0.3333333333333333,\"#9c179e\"],[0.4444444444444444,\"#bd3786\"],[0.5555555555555556,\"#d8576b\"],[0.6666666666666666,\"#ed7953\"],[0.7777777777777778,\"#fb9f3a\"],[0.8888888888888888,\"#fdca26\"],[1.0,\"#f0f921\"]]}],\"choropleth\":[{\"type\":\"choropleth\",\"colorbar\":{\"outlinewidth\":0,\"ticks\":\"\"}}],\"histogram2d\":[{\"type\":\"histogram2d\",\"colorbar\":{\"outlinewidth\":0,\"ticks\":\"\"},\"colorscale\":[[0.0,\"#0d0887\"],[0.1111111111111111,\"#46039f\"],[0.2222222222222222,\"#7201a8\"],[0.3333333333333333,\"#9c179e\"],[0.4444444444444444,\"#bd3786\"],[0.5555555555555556,\"#d8576b\"],[0.6666666666666666,\"#ed7953\"],[0.7777777777777778,\"#fb9f3a\"],[0.8888888888888888,\"#fdca26\"],[1.0,\"#f0f921\"]]}],\"heatmap\":[{\"type\":\"heatmap\",\"colorbar\":{\"outlinewidth\":0,\"ticks\":\"\"},\"colorscale\":[[0.0,\"#0d0887\"],[0.1111111111111111,\"#46039f\"],[0.2222222222222222,\"#7201a8\"],[0.3333333333333333,\"#9c179e\"],[0.4444444444444444,\"#bd3786\"],[0.5555555555555556,\"#d8576b\"],[0.6666666666666666,\"#ed7953\"],[0.7777777777777778,\"#fb9f3a\"],[0.8888888888888888,\"#fdca26\"],[1.0,\"#f0f921\"]]}],\"heatmapgl\":[{\"type\":\"heatmapgl\",\"colorbar\":{\"outlinewidth\":0,\"ticks\":\"\"},\"colorscale\":[[0.0,\"#0d0887\"],[0.1111111111111111,\"#46039f\"],[0.2222222222222222,\"#7201a8\"],[0.3333333333333333,\"#9c179e\"],[0.4444444444444444,\"#bd3786\"],[0.5555555555555556,\"#d8576b\"],[0.6666666666666666,\"#ed7953\"],[0.7777777777777778,\"#fb9f3a\"],[0.8888888888888888,\"#fdca26\"],[1.0,\"#f0f921\"]]}],\"contourcarpet\":[{\"type\":\"contourcarpet\",\"colorbar\":{\"outlinewidth\":0,\"ticks\":\"\"}}],\"contour\":[{\"type\":\"contour\",\"colorbar\":{\"outlinewidth\":0,\"ticks\":\"\"},\"colorscale\":[[0.0,\"#0d0887\"],[0.1111111111111111,\"#46039f\"],[0.2222222222222222,\"#7201a8\"],[0.3333333333333333,\"#9c179e\"],[0.4444444444444444,\"#bd3786\"],[0.5555555555555556,\"#d8576b\"],[0.6666666666666666,\"#ed7953\"],[0.7777777777777778,\"#fb9f3a\"],[0.8888888888888888,\"#fdca26\"],[1.0,\"#f0f921\"]]}],\"surface\":[{\"type\":\"surface\",\"colorbar\":{\"outlinewidth\":0,\"ticks\":\"\"},\"colorscale\":[[0.0,\"#0d0887\"],[0.1111111111111111,\"#46039f\"],[0.2222222222222222,\"#7201a8\"],[0.3333333333333333,\"#9c179e\"],[0.4444444444444444,\"#bd3786\"],[0.5555555555555556,\"#d8576b\"],[0.6666666666666666,\"#ed7953\"],[0.7777777777777778,\"#fb9f3a\"],[0.8888888888888888,\"#fdca26\"],[1.0,\"#f0f921\"]]}],\"mesh3d\":[{\"type\":\"mesh3d\",\"colorbar\":{\"outlinewidth\":0,\"ticks\":\"\"}}],\"scatter\":[{\"fillpattern\":{\"fillmode\":\"overlay\",\"size\":10,\"solidity\":0.2},\"type\":\"scatter\"}],\"parcoords\":[{\"type\":\"parcoords\",\"line\":{\"colorbar\":{\"outlinewidth\":0,\"ticks\":\"\"}}}],\"scatterpolargl\":[{\"type\":\"scatterpolargl\",\"marker\":{\"colorbar\":{\"outlinewidth\":0,\"ticks\":\"\"}}}],\"bar\":[{\"error_x\":{\"color\":\"#2a3f5f\"},\"error_y\":{\"color\":\"#2a3f5f\"},\"marker\":{\"line\":{\"color\":\"#E5ECF6\",\"width\":0.5},\"pattern\":{\"fillmode\":\"overlay\",\"size\":10,\"solidity\":0.2}},\"type\":\"bar\"}],\"scattergeo\":[{\"type\":\"scattergeo\",\"marker\":{\"colorbar\":{\"outlinewidth\":0,\"ticks\":\"\"}}}],\"scatterpolar\":[{\"type\":\"scatterpolar\",\"marker\":{\"colorbar\":{\"outlinewidth\":0,\"ticks\":\"\"}}}],\"histogram\":[{\"marker\":{\"pattern\":{\"fillmode\":\"overlay\",\"size\":10,\"solidity\":0.2}},\"type\":\"histogram\"}],\"scattergl\":[{\"type\":\"scattergl\",\"marker\":{\"colorbar\":{\"outlinewidth\":0,\"ticks\":\"\"}}}],\"scatter3d\":[{\"type\":\"scatter3d\",\"line\":{\"colorbar\":{\"outlinewidth\":0,\"ticks\":\"\"}},\"marker\":{\"colorbar\":{\"outlinewidth\":0,\"ticks\":\"\"}}}],\"scattermapbox\":[{\"type\":\"scattermapbox\",\"marker\":{\"colorbar\":{\"outlinewidth\":0,\"ticks\":\"\"}}}],\"scatterternary\":[{\"type\":\"scatterternary\",\"marker\":{\"colorbar\":{\"outlinewidth\":0,\"ticks\":\"\"}}}],\"scattercarpet\":[{\"type\":\"scattercarpet\",\"marker\":{\"colorbar\":{\"outlinewidth\":0,\"ticks\":\"\"}}}],\"carpet\":[{\"aaxis\":{\"endlinecolor\":\"#2a3f5f\",\"gridcolor\":\"white\",\"linecolor\":\"white\",\"minorgridcolor\":\"white\",\"startlinecolor\":\"#2a3f5f\"},\"baxis\":{\"endlinecolor\":\"#2a3f5f\",\"gridcolor\":\"white\",\"linecolor\":\"white\",\"minorgridcolor\":\"white\",\"startlinecolor\":\"#2a3f5f\"},\"type\":\"carpet\"}],\"table\":[{\"cells\":{\"fill\":{\"color\":\"#EBF0F8\"},\"line\":{\"color\":\"white\"}},\"header\":{\"fill\":{\"color\":\"#C8D4E3\"},\"line\":{\"color\":\"white\"}},\"type\":\"table\"}],\"barpolar\":[{\"marker\":{\"line\":{\"color\":\"#E5ECF6\",\"width\":0.5},\"pattern\":{\"fillmode\":\"overlay\",\"size\":10,\"solidity\":0.2}},\"type\":\"barpolar\"}],\"pie\":[{\"automargin\":true,\"type\":\"pie\"}]},\"layout\":{\"autotypenumbers\":\"strict\",\"colorway\":[\"#636efa\",\"#EF553B\",\"#00cc96\",\"#ab63fa\",\"#FFA15A\",\"#19d3f3\",\"#FF6692\",\"#B6E880\",\"#FF97FF\",\"#FECB52\"],\"font\":{\"color\":\"#2a3f5f\"},\"hovermode\":\"closest\",\"hoverlabel\":{\"align\":\"left\"},\"paper_bgcolor\":\"white\",\"plot_bgcolor\":\"#E5ECF6\",\"polar\":{\"bgcolor\":\"#E5ECF6\",\"angularaxis\":{\"gridcolor\":\"white\",\"linecolor\":\"white\",\"ticks\":\"\"},\"radialaxis\":{\"gridcolor\":\"white\",\"linecolor\":\"white\",\"ticks\":\"\"}},\"ternary\":{\"bgcolor\":\"#E5ECF6\",\"aaxis\":{\"gridcolor\":\"white\",\"linecolor\":\"white\",\"ticks\":\"\"},\"baxis\":{\"gridcolor\":\"white\",\"linecolor\":\"white\",\"ticks\":\"\"},\"caxis\":{\"gridcolor\":\"white\",\"linecolor\":\"white\",\"ticks\":\"\"}},\"coloraxis\":{\"colorbar\":{\"outlinewidth\":0,\"ticks\":\"\"}},\"colorscale\":{\"sequential\":[[0.0,\"#0d0887\"],[0.1111111111111111,\"#46039f\"],[0.2222222222222222,\"#7201a8\"],[0.3333333333333333,\"#9c179e\"],[0.4444444444444444,\"#bd3786\"],[0.5555555555555556,\"#d8576b\"],[0.6666666666666666,\"#ed7953\"],[0.7777777777777778,\"#fb9f3a\"],[0.8888888888888888,\"#fdca26\"],[1.0,\"#f0f921\"]],\"sequentialminus\":[[0.0,\"#0d0887\"],[0.1111111111111111,\"#46039f\"],[0.2222222222222222,\"#7201a8\"],[0.3333333333333333,\"#9c179e\"],[0.4444444444444444,\"#bd3786\"],[0.5555555555555556,\"#d8576b\"],[0.6666666666666666,\"#ed7953\"],[0.7777777777777778,\"#fb9f3a\"],[0.8888888888888888,\"#fdca26\"],[1.0,\"#f0f921\"]],\"diverging\":[[0,\"#8e0152\"],[0.1,\"#c51b7d\"],[0.2,\"#de77ae\"],[0.3,\"#f1b6da\"],[0.4,\"#fde0ef\"],[0.5,\"#f7f7f7\"],[0.6,\"#e6f5d0\"],[0.7,\"#b8e186\"],[0.8,\"#7fbc41\"],[0.9,\"#4d9221\"],[1,\"#276419\"]]},\"xaxis\":{\"gridcolor\":\"white\",\"linecolor\":\"white\",\"ticks\":\"\",\"title\":{\"standoff\":15},\"zerolinecolor\":\"white\",\"automargin\":true,\"zerolinewidth\":2},\"yaxis\":{\"gridcolor\":\"white\",\"linecolor\":\"white\",\"ticks\":\"\",\"title\":{\"standoff\":15},\"zerolinecolor\":\"white\",\"automargin\":true,\"zerolinewidth\":2},\"scene\":{\"xaxis\":{\"backgroundcolor\":\"#E5ECF6\",\"gridcolor\":\"white\",\"linecolor\":\"white\",\"showbackground\":true,\"ticks\":\"\",\"zerolinecolor\":\"white\",\"gridwidth\":2},\"yaxis\":{\"backgroundcolor\":\"#E5ECF6\",\"gridcolor\":\"white\",\"linecolor\":\"white\",\"showbackground\":true,\"ticks\":\"\",\"zerolinecolor\":\"white\",\"gridwidth\":2},\"zaxis\":{\"backgroundcolor\":\"#E5ECF6\",\"gridcolor\":\"white\",\"linecolor\":\"white\",\"showbackground\":true,\"ticks\":\"\",\"zerolinecolor\":\"white\",\"gridwidth\":2}},\"shapedefaults\":{\"line\":{\"color\":\"#2a3f5f\"}},\"annotationdefaults\":{\"arrowcolor\":\"#2a3f5f\",\"arrowhead\":0,\"arrowwidth\":1},\"geo\":{\"bgcolor\":\"white\",\"landcolor\":\"#E5ECF6\",\"subunitcolor\":\"white\",\"showland\":true,\"showlakes\":true,\"lakecolor\":\"white\"},\"title\":{\"x\":0.05},\"mapbox\":{\"style\":\"light\"}}},\"legend\":{\"tracegroupgap\":0},\"title\":{\"text\":\"proportions of patients with stroke\"}},                        {\"responsive\": true}                    ).then(function(){\n",
              "                            \n",
              "var gd = document.getElementById('91b00c8d-01de-48fe-adca-50a6a0eb9290');\n",
              "var x = new MutationObserver(function (mutations, observer) {{\n",
              "        var display = window.getComputedStyle(gd).display;\n",
              "        if (!display || display === 'none') {{\n",
              "            console.log([gd, 'removed!']);\n",
              "            Plotly.purge(gd);\n",
              "            observer.disconnect();\n",
              "        }}\n",
              "}});\n",
              "\n",
              "// Listen for the removal of the full notebook cells\n",
              "var notebookContainer = gd.closest('#notebook-container');\n",
              "if (notebookContainer) {{\n",
              "    x.observe(notebookContainer, {childList: true});\n",
              "}}\n",
              "\n",
              "// Listen for the clearing of the current output cell\n",
              "var outputEl = gd.closest('.output');\n",
              "if (outputEl) {{\n",
              "    x.observe(outputEl, {childList: true});\n",
              "}}\n",
              "\n",
              "                        })                };                            </script>        </div>\n",
              "</body>\n",
              "</html>"
            ]
          },
          "metadata": {}
        }
      ]
    },
    {
      "cell_type": "markdown",
      "source": [
        "The pie chart shows the proportions of patients with stroke.\n",
        "\n",
        "*   95.1% of patients did not have a stroke (represented by the blue segment).\n",
        "*   4.87% of patients had a stroke (represented by the red segment).\n",
        "\n",
        "This indicates that a relatively small percentage of patients in the dataset experienced stroke."
      ],
      "metadata": {
        "id": "Ynf-d0b4L6Ns"
      }
    },
    {
      "cell_type": "markdown",
      "source": [
        "# Bivariate Analysis"
      ],
      "metadata": {
        "id": "h8o3txv0M5jM"
      }
    },
    {
      "cell_type": "markdown",
      "source": [
        " Relationship between age and stroke"
      ],
      "metadata": {
        "id": "0Va663iCNDDL"
      }
    },
    {
      "cell_type": "code",
      "source": [
        "#box plot\n",
        "import seaborn as sns\n",
        "\n",
        "sns.boxplot(x='stroke', y='age', data=df)\n",
        "plt.title('Box Plot of Age by Stroke')\n",
        "plt.xlabel('Stroke')\n",
        "plt.ylabel('Age')\n",
        "plt.show()"
      ],
      "metadata": {
        "colab": {
          "base_uri": "https://localhost:8080/",
          "height": 472
        },
        "id": "wzJTwUErNIDq",
        "outputId": "83d1f187-2262-478d-d921-6896d0341bf1"
      },
      "execution_count": null,
      "outputs": [
        {
          "output_type": "display_data",
          "data": {
            "text/plain": [
              "<Figure size 640x480 with 1 Axes>"
            ],
            "image/png": "[encoded data removed]"
          },
          "metadata": {}
        }
      ]
    },
    {
      "cell_type": "markdown",
      "source": [
        "Overall,\n",
        "\n",
        "the box plot suggests a positive association between age and stroke occurrence. Older individuals are more likely to experience stroke compared to younger individuals. However, there are exceptions, as indicated by the outliers in the stroke group."
      ],
      "metadata": {
        "id": "kW1HNbVKNP0D"
      }
    },
    {
      "cell_type": "markdown",
      "source": [
        "\n",
        "\n",
        "---\n",
        "\n"
      ],
      "metadata": {
        "id": "j29BQuM5NmQg"
      }
    },
    {
      "cell_type": "markdown",
      "source": [
        "Hypothesis Test\n"
      ],
      "metadata": {
        "id": "FnfZGG-ZNkaw"
      }
    },
    {
      "cell_type": "code",
      "source": [
        "import scipy.stats as stats\n",
        "\n",
        "# Assuming df is your DataFrame\n",
        "stroke_group = df['age'][df['stroke'] == 1]\n",
        "no_stroke_group = df['age'][df['stroke'] == 0]\n",
        "\n",
        "# Perform independent t-test\n",
        "t_statistic, p_value = stats.ttest_ind(stroke_group, no_stroke_group)\n",
        "\n",
        "# Print the results\n",
        "print(\"T-statistic:\", t_statistic)\n",
        "print(\"P-value:\", p_value)"
      ],
      "metadata": {
        "colab": {
          "base_uri": "https://localhost:8080/"
        },
        "id": "6IhzDoGtN0lV",
        "outputId": "9395f723-0987-48e6-8815-83a8cec9c79f"
      },
      "execution_count": null,
      "outputs": [
        {
          "output_type": "stream",
          "name": "stdout",
          "text": [
            "T-statistic: 18.00764869257844\n",
            "P-value: 2.5456246424311868e-70\n"
          ]
        }
      ]
    },
    {
      "cell_type": "markdown",
      "source": [
        "Conclusion:\n",
        "\n",
        "Based on these results, we can reject the null hypothesis with a high degree of confidence. This means there is strong evidence to suggest a statistically significant difference in age between individuals with and without stroke."
      ],
      "metadata": {
        "id": "dK94kcrwN3q8"
      }
    },
    {
      "cell_type": "markdown",
      "source": [
        "\n",
        "\n",
        "---\n",
        "\n"
      ],
      "metadata": {
        "id": "MgcoSvHzN51E"
      }
    },
    {
      "cell_type": "markdown",
      "source": [
        "Smoking status vs stroke risk"
      ],
      "metadata": {
        "id": "V3t4oo97OAjZ"
      }
    },
    {
      "cell_type": "code",
      "source": [
        "plt.figure(figsize=(10, 6))\n",
        "\n",
        "sns.countplot(x='smoking_status', hue='stroke', data=df, palette='Set1')\n",
        "\n",
        "# Add title and labels\n",
        "plt.title('Smoking Status vs Stroke Occurrence', fontsize=16)\n",
        "plt.xlabel('Smoking Status')\n",
        "plt.ylabel('Count')\n",
        "\n",
        "plt.legend(title='Stroke', loc='upper right')\n",
        "plt.xticks(rotation=45)  # Rotate x labels for better readability\n",
        "plt.tight_layout()\n",
        "plt.show()\n"
      ],
      "metadata": {
        "colab": {
          "base_uri": "https://localhost:8080/",
          "height": 607
        },
        "id": "1dZH5urDG31Q",
        "outputId": "f2c98588-d696-4530-ae94-60683ebcd8b0"
      },
      "execution_count": null,
      "outputs": [
        {
          "output_type": "display_data",
          "data": {
            "text/plain": [
              "<Figure size 1000x600 with 1 Axes>"
            ],
            "image/png": "[encoded data removed]"
          },
          "metadata": {}
        }
      ]
    },
    {
      "cell_type": "code",
      "source": [
        "contingency_table = pd.crosstab(df['smoking_status'], df['stroke'])\n",
        "\n",
        "chi2_stat, p_value, _, _ = stats.chi2_contingency(contingency_table)\n",
        "\n",
        "print(\"Chi-square statistic:\", chi2_stat)\n",
        "print(\"P-value:\", p_value)"
      ],
      "metadata": {
        "colab": {
          "base_uri": "https://localhost:8080/"
        },
        "id": "222AmuYbG34Q",
        "outputId": "70fc2131-5474-473d-8cf9-186d365b117e"
      },
      "execution_count": null,
      "outputs": [
        {
          "output_type": "stream",
          "name": "stdout",
          "text": [
            "Chi-square statistic: 27.665293121159944\n",
            "P-value: 4.269623154820198e-06\n"
          ]
        }
      ]
    },
    {
      "cell_type": "markdown",
      "source": [
        "Conclusion:\n",
        "\n",
        "1. Based on these results, we can reject the null hypothesis with a high degree of confidence. This means there is strong evidence to suggest a statistically significant association between smoking status and stroke risk.\n",
        "\n",
        "2. In simpler terms, smoking status does influence stroke risk. Individuals who have smoked or currently smoke are more likely to experience stroke compared to those who have never smoked."
      ],
      "metadata": {
        "id": "gKncMEC8OMQY"
      }
    },
    {
      "cell_type": "markdown",
      "source": [
        "\n",
        "\n",
        "---\n",
        "\n"
      ],
      "metadata": {
        "id": "MlKCuuekOX7Q"
      }
    },
    {
      "cell_type": "markdown",
      "source": [
        "Correlation between blood glucose levels and stroke"
      ],
      "metadata": {
        "id": "Q8Ob4y3jOdzg"
      }
    },
    {
      "cell_type": "code",
      "source": [
        "plt.figure(figsize=(10, 6))\n",
        "\n",
        "sns.scatterplot(x='avg_glucose_level', y='stroke', hue='gender', data=df, style='gender',\n",
        "                    palette='Set1', markers=['o', 's'], alpha=0.6)\n",
        "\n",
        "plt.title('Scatter Plot of Avg. Glucose Level vs. Stroke by Gender', fontsize=16)\n",
        "plt.xlabel('Average Glucose Level')\n",
        "plt.ylabel('Stroke Occurrence')\n",
        "plt.legend(title='Gender')\n",
        "plt.grid(True)\n",
        "plt.show()"
      ],
      "metadata": {
        "colab": {
          "base_uri": "https://localhost:8080/",
          "height": 566
        },
        "id": "CzXsAU7AG37X",
        "outputId": "76c3d05a-9f20-4568-f7b4-59ec9d5980f3"
      },
      "execution_count": null,
      "outputs": [
        {
          "output_type": "display_data",
          "data": {
            "text/plain": [
              "<Figure size 1000x600 with 1 Axes>"
            ],
            "image/png": "[encoded data removed]"
          },
          "metadata": {}
        }
      ]
    },
    {
      "cell_type": "markdown",
      "source": [
        "Gender vs the likelihood of stroke"
      ],
      "metadata": {
        "id": "0f49UGNlO5vp"
      }
    },
    {
      "cell_type": "code",
      "source": [
        "plt.figure(figsize=(10, 6))\n",
        "\n",
        "sns.countplot(x='gender', hue='stroke', data=df, palette='Set1')\n",
        "\n",
        "# Add title and labels\n",
        "plt.title('Gender vs Stroke Occurrence', fontsize=16)\n",
        "plt.xlabel('Gender')\n",
        "plt.ylabel('Count')\n",
        "\n",
        "plt.legend(title='Stroke', loc='upper right')\n",
        "plt.xticks(rotation=45)  # Rotate x labels for better readability\n",
        "plt.tight_layout()\n",
        "plt.show()"
      ],
      "metadata": {
        "colab": {
          "base_uri": "https://localhost:8080/",
          "height": 607
        },
        "id": "CAHeKEBxG3-H",
        "outputId": "e5d7dbd6-e6b6-4ff8-c009-a13ffe3a4302"
      },
      "execution_count": null,
      "outputs": [
        {
          "output_type": "display_data",
          "data": {
            "text/plain": [
              "<Figure size 1000x600 with 1 Axes>"
            ],
            "image/png": "[encoded data removed]"
          },
          "metadata": {}
        }
      ]
    },
    {
      "cell_type": "markdown",
      "source": [
        "Hypothesis Testing: Gender and Stroke Risk"
      ],
      "metadata": {
        "id": "ljCI10sxPDUS"
      }
    },
    {
      "cell_type": "code",
      "source": [
        "contingency_table = pd.crosstab(df['gender'], df['stroke'])\n",
        "\n",
        "chi2_stat, p_value, _, _ = stats.chi2_contingency(contingency_table)\n",
        "\n",
        "print(\"Chi-square statistic:\", chi2_stat)\n",
        "print(\"P-value:\", p_value)"
      ],
      "metadata": {
        "colab": {
          "base_uri": "https://localhost:8080/"
        },
        "id": "QJZfSH9TG4BB",
        "outputId": "6fab8bad-420d-4bd8-c8f1-96032734baf9"
      },
      "execution_count": null,
      "outputs": [
        {
          "output_type": "stream",
          "name": "stdout",
          "text": [
            "Chi-square statistic: 0.42228968780312515\n",
            "P-value: 0.5157967401557528\n"
          ]
        }
      ]
    },
    {
      "cell_type": "markdown",
      "source": [
        "Impact of blood pressure on Stroke"
      ],
      "metadata": {
        "id": "6ubG7QR4PJak"
      }
    },
    {
      "cell_type": "code",
      "source": [
        "contingency_table = pd.crosstab(df['hypertension'], df['stroke'])\n",
        "chi2_stat, p_value, _, _ = stats.chi2_contingency(contingency_table)\n",
        "print(\"Chi-square statistic:\", chi2_stat)\n",
        "print(\"P-value:\", p_value)"
      ],
      "metadata": {
        "colab": {
          "base_uri": "https://localhost:8080/"
        },
        "id": "UW8koK21G4Dz",
        "outputId": "db23e1de-db84-4570-88ee-84cabcffdd5b"
      },
      "execution_count": null,
      "outputs": [
        {
          "output_type": "stream",
          "name": "stdout",
          "text": [
            "Chi-square statistic: 80.1885969110217\n",
            "P-value: 3.4032555411052174e-19\n"
          ]
        }
      ]
    },
    {
      "cell_type": "markdown",
      "source": [
        "\n",
        "\n",
        "---\n",
        "\n"
      ],
      "metadata": {
        "id": "DdojCucjPR_8"
      }
    },
    {
      "cell_type": "markdown",
      "source": [
        "# Multivariate Analysis"
      ],
      "metadata": {
        "id": "E2-wJeHOPTMy"
      }
    },
    {
      "cell_type": "markdown",
      "source": [
        "How do multiple factors, such as smoking status and age influence the stroke rate?"
      ],
      "metadata": {
        "id": "ZBdyhMsiPY3h"
      }
    },
    {
      "cell_type": "code",
      "source": [
        "data = df.copy()\n",
        "\n",
        "data['age_group'] = pd.cut(data['age'], bins=[1, 30, 40, 50, 60, 70, 80, 90], labels=['1-30', '31-40', '41-50', '51-60', '61-70', '71-80', '81-90'])\n",
        "\n",
        "# Creating a pivot table for the heatmap\n",
        "pivot_table = data.pivot_table(values='stroke', index='smoking_status', columns='age_group', aggfunc='mean')\n"
      ],
      "metadata": {
        "colab": {
          "base_uri": "https://localhost:8080/"
        },
        "id": "AkYutpj0G4Gw",
        "outputId": "11c28841-67f3-4562-dc86-bbe891d0f094"
      },
      "execution_count": null,
      "outputs": [
        {
          "output_type": "stream",
          "name": "stderr",
          "text": [
            "<ipython-input-40-ed31c83dc30d>:6: FutureWarning:\n",
            "\n",
            "The default value of observed=False is deprecated and will change to observed=True in a future version of pandas. Specify observed=False to silence this warning and retain the current behavior\n",
            "\n"
          ]
        }
      ]
    },
    {
      "cell_type": "code",
      "source": [
        "# Plotting the heatmap\n",
        "plt.figure(figsize=(9, 8))\n",
        "sns.heatmap(pivot_table, annot=True, cmap=\"YlGnBu\")\n",
        "plt.title('Stroke Rate by Smoking Status and Age Group')\n",
        "plt.ylabel('Smoking Status')\n",
        "plt.xlabel('Age Group')\n",
        "plt.show()"
      ],
      "metadata": {
        "colab": {
          "base_uri": "https://localhost:8080/",
          "height": 718
        },
        "id": "9Gx4rpU4P3ue",
        "outputId": "2adf4339-a95a-4df8-bfc6-327f507112dd"
      },
      "execution_count": null,
      "outputs": [
        {
          "output_type": "display_data",
          "data": {
            "text/plain": [
              "<Figure size 900x800 with 2 Axes>"
            ],
            "image/png": "[encoded data removed]"
          },
          "metadata": {}
        }
      ]
    },
    {
      "cell_type": "markdown",
      "source": [
        "Key Observations:\n",
        "1. Age-related risk: The overall trend indicates that the risk of stroke\n",
        "increases with age, regardless of smoking status.\n",
        "2. Smoking impact: Across all age groups, individuals with a smoking history (formerly smoked, smokes) generally have a higher risk of stroke compared to those who never smoked.\n",
        "3. Age-smoking interaction: The effect of smoking on stroke risk appears to be more pronounced in older age groups. For example, the difference in stroke rates between smokers and never-smokers is more noticeable in the 61-70, 71-80, and 81-90 age groups."
      ],
      "metadata": {
        "id": "sKB6_rmDQ6ux"
      }
    },
    {
      "cell_type": "markdown",
      "source": [
        "\n",
        "\n",
        "---\n",
        "\n"
      ],
      "metadata": {
        "id": "Xsnd7kRJRIeO"
      }
    },
    {
      "cell_type": "markdown",
      "source": [
        "How do multiple factors, such as age, hypertension, and heart disease , collectively relate to stroke?"
      ],
      "metadata": {
        "id": "wKvr_1T2RO4S"
      }
    },
    {
      "cell_type": "code",
      "source": [
        "import statsmodels.api as sm\n",
        "\n",
        "# Logistic Regression for Hypothesis Testing\n",
        "data = df.copy()\n",
        "data['intercept'] = 1# Adding an intercept for the logistic regression\n",
        "data['age'] = data['age'].astype(float)\n",
        "logit_model = sm.Logit(data['stroke'], data[['intercept', 'age', 'hypertension', 'heart_disease']])\n",
        "result = logit_model.fit()\n",
        "result.summary()"
      ],
      "metadata": {
        "colab": {
          "base_uri": "https://localhost:8080/",
          "height": 341
        },
        "id": "j575CwOJQ1-T",
        "outputId": "546a7f05-8db1-4eb6-9ccb-c838bec54d7f"
      },
      "execution_count": null,
      "outputs": [
        {
          "output_type": "stream",
          "name": "stdout",
          "text": [
            "Optimization terminated successfully.\n",
            "         Current function value: 0.158267\n",
            "         Iterations 9\n"
          ]
        },
        {
          "output_type": "execute_result",
          "data": {
            "text/plain": [
              "<class 'statsmodels.iolib.summary.Summary'>\n",
              "\"\"\"\n",
              "                           Logit Regression Results                           \n",
              "==============================================================================\n",
              "Dep. Variable:                 stroke   No. Observations:                 5066\n",
              "Model:                          Logit   Df Residuals:                     5062\n",
              "Method:                           MLE   Df Model:                            3\n",
              "Date:                Wed, 06 Nov 2024   Pseudo R-squ.:                  0.1926\n",
              "Time:                        07:24:27   Log-Likelihood:                -801.78\n",
              "converged:                       True   LL-Null:                       -992.98\n",
              "Covariance Type:            nonrobust   LLR p-value:                 1.438e-82\n",
              "=================================================================================\n",
              "                    coef    std err          z      P>|z|      [0.025      0.975]\n",
              "---------------------------------------------------------------------------------\n",
              "intercept        -7.0978      0.337    -21.068      0.000      -7.758      -6.438\n",
              "age               0.0703      0.005     13.810      0.000       0.060       0.080\n",
              "hypertension      0.4578      0.161      2.849      0.004       0.143       0.773\n",
              "heart_disease     0.4086      0.186      2.197      0.028       0.044       0.773\n",
              "=================================================================================\n",
              "\"\"\""
            ],
            "text/html": [
              "<table class=\"simpletable\">\n",
              "<caption>Logit Regression Results</caption>\n",
              "<tr>\n",
              "  <th>Dep. Variable:</th>        <td>stroke</td>      <th>  No. Observations:  </th>  <td>  5066</td>  \n",
              "</tr>\n",
              "<tr>\n",
              "  <th>Model:</th>                 <td>Logit</td>      <th>  Df Residuals:      </th>  <td>  5062</td>  \n",
              "</tr>\n",
              "<tr>\n",
              "  <th>Method:</th>                 <td>MLE</td>       <th>  Df Model:          </th>  <td>     3</td>  \n",
              "</tr>\n",
              "<tr>\n",
              "  <th>Date:</th>            <td>Wed, 06 Nov 2024</td> <th>  Pseudo R-squ.:     </th>  <td>0.1926</td>  \n",
              "</tr>\n",
              "<tr>\n",
              "  <th>Time:</th>                <td>07:24:27</td>     <th>  Log-Likelihood:    </th> <td> -801.78</td> \n",
              "</tr>\n",
              "<tr>\n",
              "  <th>converged:</th>             <td>True</td>       <th>  LL-Null:           </th> <td> -992.98</td> \n",
              "</tr>\n",
              "<tr>\n",
              "  <th>Covariance Type:</th>     <td>nonrobust</td>    <th>  LLR p-value:       </th> <td>1.438e-82</td>\n",
              "</tr>\n",
              "</table>\n",
              "<table class=\"simpletable\">\n",
              "<tr>\n",
              "        <td></td>           <th>coef</th>     <th>std err</th>      <th>z</th>      <th>P>|z|</th>  <th>[0.025</th>    <th>0.975]</th>  \n",
              "</tr>\n",
              "<tr>\n",
              "  <th>intercept</th>     <td>   -7.0978</td> <td>    0.337</td> <td>  -21.068</td> <td> 0.000</td> <td>   -7.758</td> <td>   -6.438</td>\n",
              "</tr>\n",
              "<tr>\n",
              "  <th>age</th>           <td>    0.0703</td> <td>    0.005</td> <td>   13.810</td> <td> 0.000</td> <td>    0.060</td> <td>    0.080</td>\n",
              "</tr>\n",
              "<tr>\n",
              "  <th>hypertension</th>  <td>    0.4578</td> <td>    0.161</td> <td>    2.849</td> <td> 0.004</td> <td>    0.143</td> <td>    0.773</td>\n",
              "</tr>\n",
              "<tr>\n",
              "  <th>heart_disease</th> <td>    0.4086</td> <td>    0.186</td> <td>    2.197</td> <td> 0.028</td> <td>    0.044</td> <td>    0.773</td>\n",
              "</tr>\n",
              "</table>"
            ],
            "text/latex": "\\begin{center}\n\\begin{tabular}{lclc}\n\\toprule\n\\textbf{Dep. Variable:}   &      stroke      & \\textbf{  No. Observations:  } &     5066    \\\\\n\\textbf{Model:}           &      Logit       & \\textbf{  Df Residuals:      } &     5062    \\\\\n\\textbf{Method:}          &       MLE        & \\textbf{  Df Model:          } &        3    \\\\\n\\textbf{Date:}            & Wed, 06 Nov 2024 & \\textbf{  Pseudo R-squ.:     } &   0.1926    \\\\\n\\textbf{Time:}            &     07:24:27     & \\textbf{  Log-Likelihood:    } &   -801.78   \\\\\n\\textbf{converged:}       &       True       & \\textbf{  LL-Null:           } &   -992.98   \\\\\n\\textbf{Covariance Type:} &    nonrobust     & \\textbf{  LLR p-value:       } & 1.438e-82   \\\\\n\\bottomrule\n\\end{tabular}\n\\begin{tabular}{lcccccc}\n                        & \\textbf{coef} & \\textbf{std err} & \\textbf{z} & \\textbf{P$> |$z$|$} & \\textbf{[0.025} & \\textbf{0.975]}  \\\\\n\\midrule\n\\textbf{intercept}      &      -7.0978  &        0.337     &   -21.068  &         0.000        &       -7.758    &       -6.438     \\\\\n\\textbf{age}            &       0.0703  &        0.005     &    13.810  &         0.000        &        0.060    &        0.080     \\\\\n\\textbf{hypertension}   &       0.4578  &        0.161     &     2.849  &         0.004        &        0.143    &        0.773     \\\\\n\\textbf{heart\\_disease} &       0.4086  &        0.186     &     2.197  &         0.028        &        0.044    &        0.773     \\\\\n\\bottomrule\n\\end{tabular}\n%\\caption{Logit Regression Results}\n\\end{center}"
          },
          "metadata": {},
          "execution_count": 42
        }
      ]
    },
    {
      "cell_type": "markdown",
      "source": [
        "\n",
        "\n",
        "---\n",
        "\n"
      ],
      "metadata": {
        "id": "LpqwioFYRd47"
      }
    },
    {
      "cell_type": "markdown",
      "source": [
        "Stroke rates across different work types and residence types combined"
      ],
      "metadata": {
        "id": "XTwUglKORZ_y"
      }
    },
    {
      "cell_type": "code",
      "source": [
        "# Create a contingency table\n",
        "contingency_table = pd.crosstab(index=[df['work_type'], df['Residence_type']], columns=df['stroke'])\n",
        "contingency_table"
      ],
      "metadata": {
        "colab": {
          "base_uri": "https://localhost:8080/",
          "height": 394
        },
        "id": "Qt6vkHbPRdES",
        "outputId": "4d7fa73e-4fe4-430d-afa9-d182f02bce44"
      },
      "execution_count": null,
      "outputs": [
        {
          "output_type": "execute_result",
          "data": {
            "text/plain": [
              "stroke                           0   1\n",
              "work_type     Residence_type          \n",
              "Govt_job      Rural            298  14\n",
              "              Urban            326  19\n",
              "Never_worked  Rural              7   0\n",
              "              Urban             15   0\n",
              "Private       Rural           1393  68\n",
              "              Urban           1382  81\n",
              "Self-employed Rural            362  31\n",
              "              Urban            392  34\n",
              "children      Rural            319   1\n",
              "              Urban            323   1"
            ],
            "text/html": [
              "\n",
              "  <div id=\"df-6cd25a3d-4ce5-48a2-9546-c9e76d183fc3\" class=\"colab-df-container\">\n",
              "    <div>\n",
              "<style scoped>\n",
              "    .dataframe tbody tr th:only-of-type {\n",
              "        vertical-align: middle;\n",
              "    }\n",
              "\n",
              "    .dataframe tbody tr th {\n",
              "        vertical-align: top;\n",
              "    }\n",
              "\n",
              "    .dataframe thead th {\n",
              "        text-align: right;\n",
              "    }\n",
              "</style>\n",
              "<table border=\"1\" class=\"dataframe\">\n",
              "  <thead>\n",
              "    <tr style=\"text-align: right;\">\n",
              "      <th></th>\n",
              "      <th>stroke</th>\n",
              "      <th>0</th>\n",
              "      <th>1</th>\n",
              "    </tr>\n",
              "    <tr>\n",
              "      <th>work_type</th>\n",
              "      <th>Residence_type</th>\n",
              "      <th></th>\n",
              "      <th></th>\n",
              "    </tr>\n",
              "  </thead>\n",
              "  <tbody>\n",
              "    <tr>\n",
              "      <th rowspan=\"2\" valign=\"top\">Govt_job</th>\n",
              "      <th>Rural</th>\n",
              "      <td>298</td>\n",
              "      <td>14</td>\n",
              "    </tr>\n",
              "    <tr>\n",
              "      <th>Urban</th>\n",
              "      <td>326</td>\n",
              "      <td>19</td>\n",
              "    </tr>\n",
              "    <tr>\n",
              "      <th rowspan=\"2\" valign=\"top\">Never_worked</th>\n",
              "      <th>Rural</th>\n",
              "      <td>7</td>\n",
              "      <td>0</td>\n",
              "    </tr>\n",
              "    <tr>\n",
              "      <th>Urban</th>\n",
              "      <td>15</td>\n",
              "      <td>0</td>\n",
              "    </tr>\n",
              "    <tr>\n",
              "      <th rowspan=\"2\" valign=\"top\">Private</th>\n",
              "      <th>Rural</th>\n",
              "      <td>1393</td>\n",
              "      <td>68</td>\n",
              "    </tr>\n",
              "    <tr>\n",
              "      <th>Urban</th>\n",
              "      <td>1382</td>\n",
              "      <td>81</td>\n",
              "    </tr>\n",
              "    <tr>\n",
              "      <th rowspan=\"2\" valign=\"top\">Self-employed</th>\n",
              "      <th>Rural</th>\n",
              "      <td>362</td>\n",
              "      <td>31</td>\n",
              "    </tr>\n",
              "    <tr>\n",
              "      <th>Urban</th>\n",
              "      <td>392</td>\n",
              "      <td>34</td>\n",
              "    </tr>\n",
              "    <tr>\n",
              "      <th rowspan=\"2\" valign=\"top\">children</th>\n",
              "      <th>Rural</th>\n",
              "      <td>319</td>\n",
              "      <td>1</td>\n",
              "    </tr>\n",
              "    <tr>\n",
              "      <th>Urban</th>\n",
              "      <td>323</td>\n",
              "      <td>1</td>\n",
              "    </tr>\n",
              "  </tbody>\n",
              "</table>\n",
              "</div>\n",
              "    <div class=\"colab-df-buttons\">\n",
              "\n",
              "  <div class=\"colab-df-container\">\n",
              "    <button class=\"colab-df-convert\" onclick=\"convertToInteractive('df-6cd25a3d-4ce5-48a2-9546-c9e76d183fc3')\"\n",
              "            title=\"Convert this dataframe to an interactive table.\"\n",
              "            style=\"display:none;\">\n",
              "\n",
              "  <svg xmlns=\"http://www.w3.org/2000/svg\" height=\"24px\" viewBox=\"0 -960 960 960\">\n",
              "    <path d=\"M120-120v-720h720v720H120Zm60-500h600v-160H180v160Zm220 220h160v-160H400v160Zm0 220h160v-160H400v160ZM180-400h160v-160H180v160Zm440 0h160v-160H620v160ZM180-180h160v-160H180v160Zm440 0h160v-160H620v160Z\"/>\n",
              "  </svg>\n",
              "    </button>\n",
              "\n",
              "  <style>\n",
              "    .colab-df-container {\n",
              "      display:flex;\n",
              "      gap: 12px;\n",
              "    }\n",
              "\n",
              "    .colab-df-convert {\n",
              "      background-color: #E8F0FE;\n",
              "      border: none;\n",
              "      border-radius: 50%;\n",
              "      cursor: pointer;\n",
              "      display: none;\n",
              "      fill: #1967D2;\n",
              "      height: 32px;\n",
              "      padding: 0 0 0 0;\n",
              "      width: 32px;\n",
              "    }\n",
              "\n",
              "    .colab-df-convert:hover {\n",
              "      background-color: #E2EBFA;\n",
              "      box-shadow: 0px 1px 2px rgba(60, 64, 67, 0.3), 0px 1px 3px 1px rgba(60, 64, 67, 0.15);\n",
              "      fill: #174EA6;\n",
              "    }\n",
              "\n",
              "    .colab-df-buttons div {\n",
              "      margin-bottom: 4px;\n",
              "    }\n",
              "\n",
              "    [theme=dark] .colab-df-convert {\n",
              "      background-color: #3B4455;\n",
              "      fill: #D2E3FC;\n",
              "    }\n",
              "\n",
              "    [theme=dark] .colab-df-convert:hover {\n",
              "      background-color: #434B5C;\n",
              "      box-shadow: 0px 1px 3px 1px rgba(0, 0, 0, 0.15);\n",
              "      filter: drop-shadow(0px 1px 2px rgba(0, 0, 0, 0.3));\n",
              "      fill: #FFFFFF;\n",
              "    }\n",
              "  </style>\n",
              "\n",
              "    <script>\n",
              "      const buttonEl =\n",
              "        document.querySelector('#df-6cd25a3d-4ce5-48a2-9546-c9e76d183fc3 button.colab-df-convert');\n",
              "      buttonEl.style.display =\n",
              "        google.colab.kernel.accessAllowed ? 'block' : 'none';\n",
              "\n",
              "      async function convertToInteractive(key) {\n",
              "        const element = document.querySelector('#df-6cd25a3d-4ce5-48a2-9546-c9e76d183fc3');\n",
              "        const dataTable =\n",
              "          await google.colab.kernel.invokeFunction('convertToInteractive',\n",
              "                                                    [key], {});\n",
              "        if (!dataTable) return;\n",
              "\n",
              "        const docLinkHtml = 'Like what you see? Visit the ' +\n",
              "          '<a target=\"_blank\" href=https://colab.research.google.com/notebooks/data_table.ipynb>data table notebook</a>'\n",
              "          + ' to learn more about interactive tables.';\n",
              "        element.innerHTML = '';\n",
              "        dataTable['output_type'] = 'display_data';\n",
              "        await google.colab.output.renderOutput(dataTable, element);\n",
              "        const docLink = document.createElement('div');\n",
              "        docLink.innerHTML = docLinkHtml;\n",
              "        element.appendChild(docLink);\n",
              "      }\n",
              "    </script>\n",
              "  </div>\n",
              "\n",
              "\n",
              "<div id=\"df-0986ae0b-4abb-4ea9-9b2c-b2e1e0479590\">\n",
              "  <button class=\"colab-df-quickchart\" onclick=\"quickchart('df-0986ae0b-4abb-4ea9-9b2c-b2e1e0479590')\"\n",
              "            title=\"Suggest charts\"\n",
              "            style=\"display:none;\">\n",
              "\n",
              "<svg xmlns=\"http://www.w3.org/2000/svg\" height=\"24px\"viewBox=\"0 0 24 24\"\n",
              "     width=\"24px\">\n",
              "    <g>\n",
              "        <path d=\"M19 3H5c-1.1 0-2 .9-2 2v14c0 1.1.9 2 2 2h14c1.1 0 2-.9 2-2V5c0-1.1-.9-2-2-2zM9 17H7v-7h2v7zm4 0h-2V7h2v10zm4 0h-2v-4h2v4z\"/>\n",
              "    </g>\n",
              "</svg>\n",
              "  </button>\n",
              "\n",
              "<style>\n",
              "  .colab-df-quickchart {\n",
              "      --bg-color: #E8F0FE;\n",
              "      --fill-color: #1967D2;\n",
              "      --hover-bg-color: #E2EBFA;\n",
              "      --hover-fill-color: #174EA6;\n",
              "      --disabled-fill-color: #AAA;\n",
              "      --disabled-bg-color: #DDD;\n",
              "  }\n",
              "\n",
              "  [theme=dark] .colab-df-quickchart {\n",
              "      --bg-color: #3B4455;\n",
              "      --fill-color: #D2E3FC;\n",
              "      --hover-bg-color: #434B5C;\n",
              "      --hover-fill-color: #FFFFFF;\n",
              "      --disabled-bg-color: #3B4455;\n",
              "      --disabled-fill-color: #666;\n",
              "  }\n",
              "\n",
              "  .colab-df-quickchart {\n",
              "    background-color: var(--bg-color);\n",
              "    border: none;\n",
              "    border-radius: 50%;\n",
              "    cursor: pointer;\n",
              "    display: none;\n",
              "    fill: var(--fill-color);\n",
              "    height: 32px;\n",
              "    padding: 0;\n",
              "    width: 32px;\n",
              "  }\n",
              "\n",
              "  .colab-df-quickchart:hover {\n",
              "    background-color: var(--hover-bg-color);\n",
              "    box-shadow: 0 1px 2px rgba(60, 64, 67, 0.3), 0 1px 3px 1px rgba(60, 64, 67, 0.15);\n",
              "    fill: var(--button-hover-fill-color);\n",
              "  }\n",
              "\n",
              "  .colab-df-quickchart-complete:disabled,\n",
              "  .colab-df-quickchart-complete:disabled:hover {\n",
              "    background-color: var(--disabled-bg-color);\n",
              "    fill: var(--disabled-fill-color);\n",
              "    box-shadow: none;\n",
              "  }\n",
              "\n",
              "  .colab-df-spinner {\n",
              "    border: 2px solid var(--fill-color);\n",
              "    border-color: transparent;\n",
              "    border-bottom-color: var(--fill-color);\n",
              "    animation:\n",
              "      spin 1s steps(1) infinite;\n",
              "  }\n",
              "\n",
              "  @keyframes spin {\n",
              "    0% {\n",
              "      border-color: transparent;\n",
              "      border-bottom-color: var(--fill-color);\n",
              "      border-left-color: var(--fill-color);\n",
              "    }\n",
              "    20% {\n",
              "      border-color: transparent;\n",
              "      border-left-color: var(--fill-color);\n",
              "      border-top-color: var(--fill-color);\n",
              "    }\n",
              "    30% {\n",
              "      border-color: transparent;\n",
              "      border-left-color: var(--fill-color);\n",
              "      border-top-color: var(--fill-color);\n",
              "      border-right-color: var(--fill-color);\n",
              "    }\n",
              "    40% {\n",
              "      border-color: transparent;\n",
              "      border-right-color: var(--fill-color);\n",
              "      border-top-color: var(--fill-color);\n",
              "    }\n",
              "    60% {\n",
              "      border-color: transparent;\n",
              "      border-right-color: var(--fill-color);\n",
              "    }\n",
              "    80% {\n",
              "      border-color: transparent;\n",
              "      border-right-color: var(--fill-color);\n",
              "      border-bottom-color: var(--fill-color);\n",
              "    }\n",
              "    90% {\n",
              "      border-color: transparent;\n",
              "      border-bottom-color: var(--fill-color);\n",
              "    }\n",
              "  }\n",
              "</style>\n",
              "\n",
              "  <script>\n",
              "    async function quickchart(key) {\n",
              "      const quickchartButtonEl =\n",
              "        document.querySelector('#' + key + ' button');\n",
              "      quickchartButtonEl.disabled = true;  // To prevent multiple clicks.\n",
              "      quickchartButtonEl.classList.add('colab-df-spinner');\n",
              "      try {\n",
              "        const charts = await google.colab.kernel.invokeFunction(\n",
              "            'suggestCharts', [key], {});\n",
              "      } catch (error) {\n",
              "        console.error('Error during call to suggestCharts:', error);\n",
              "      }\n",
              "      quickchartButtonEl.classList.remove('colab-df-spinner');\n",
              "      quickchartButtonEl.classList.add('colab-df-quickchart-complete');\n",
              "    }\n",
              "    (() => {\n",
              "      let quickchartButtonEl =\n",
              "        document.querySelector('#df-0986ae0b-4abb-4ea9-9b2c-b2e1e0479590 button');\n",
              "      quickchartButtonEl.style.display =\n",
              "        google.colab.kernel.accessAllowed ? 'block' : 'none';\n",
              "    })();\n",
              "  </script>\n",
              "</div>\n",
              "\n",
              "  <div id=\"id_6570b9b7-afe6-402b-95ad-d1243bd98688\">\n",
              "    <style>\n",
              "      .colab-df-generate {\n",
              "        background-color: #E8F0FE;\n",
              "        border: none;\n",
              "        border-radius: 50%;\n",
              "        cursor: pointer;\n",
              "        display: none;\n",
              "        fill: #1967D2;\n",
              "        height: 32px;\n",
              "        padding: 0 0 0 0;\n",
              "        width: 32px;\n",
              "      }\n",
              "\n",
              "      .colab-df-generate:hover {\n",
              "        background-color: #E2EBFA;\n",
              "        box-shadow: 0px 1px 2px rgba(60, 64, 67, 0.3), 0px 1px 3px 1px rgba(60, 64, 67, 0.15);\n",
              "        fill: #174EA6;\n",
              "      }\n",
              "\n",
              "      [theme=dark] .colab-df-generate {\n",
              "        background-color: #3B4455;\n",
              "        fill: #D2E3FC;\n",
              "      }\n",
              "\n",
              "      [theme=dark] .colab-df-generate:hover {\n",
              "        background-color: #434B5C;\n",
              "        box-shadow: 0px 1px 3px 1px rgba(0, 0, 0, 0.15);\n",
              "        filter: drop-shadow(0px 1px 2px rgba(0, 0, 0, 0.3));\n",
              "        fill: #FFFFFF;\n",
              "      }\n",
              "    </style>\n",
              "    <button class=\"colab-df-generate\" onclick=\"generateWithVariable('contingency_table')\"\n",
              "            title=\"Generate code using this dataframe.\"\n",
              "            style=\"display:none;\">\n",
              "\n",
              "  <svg xmlns=\"http://www.w3.org/2000/svg\" height=\"24px\"viewBox=\"0 0 24 24\"\n",
              "       width=\"24px\">\n",
              "    <path d=\"M7,19H8.4L18.45,9,17,7.55,7,17.6ZM5,21V16.75L18.45,3.32a2,2,0,0,1,2.83,0l1.4,1.43a1.91,1.91,0,0,1,.58,1.4,1.91,1.91,0,0,1-.58,1.4L9.25,21ZM18.45,9,17,7.55Zm-12,3A5.31,5.31,0,0,0,4.9,8.1,5.31,5.31,0,0,0,1,6.5,5.31,5.31,0,0,0,4.9,4.9,5.31,5.31,0,0,0,6.5,1,5.31,5.31,0,0,0,8.1,4.9,5.31,5.31,0,0,0,12,6.5,5.46,5.46,0,0,0,6.5,12Z\"/>\n",
              "  </svg>\n",
              "    </button>\n",
              "    <script>\n",
              "      (() => {\n",
              "      const buttonEl =\n",
              "        document.querySelector('#id_6570b9b7-afe6-402b-95ad-d1243bd98688 button.colab-df-generate');\n",
              "      buttonEl.style.display =\n",
              "        google.colab.kernel.accessAllowed ? 'block' : 'none';\n",
              "\n",
              "      buttonEl.onclick = () => {\n",
              "        google.colab.notebook.generateWithVariable('contingency_table');\n",
              "      }\n",
              "      })();\n",
              "    </script>\n",
              "  </div>\n",
              "\n",
              "    </div>\n",
              "  </div>\n"
            ],
            "application/vnd.google.colaboratory.intrinsic+json": {
              "type": "dataframe",
              "variable_name": "contingency_table",
              "summary": "{\n  \"name\": \"contingency_table\",\n  \"rows\": 10,\n  \"fields\": [\n    {\n      \"column\": 0,\n      \"properties\": {\n        \"dtype\": \"number\",\n        \"std\": 496,\n        \"min\": 7,\n        \"max\": 1393,\n        \"num_unique_values\": 10,\n        \"samples\": [\n          319,\n          326,\n          1382\n        ],\n        \"semantic_type\": \"\",\n        \"description\": \"\"\n      }\n    },\n    {\n      \"column\": 1,\n      \"properties\": {\n        \"dtype\": \"number\",\n        \"std\": 29,\n        \"min\": 0,\n        \"max\": 81,\n        \"num_unique_values\": 8,\n        \"samples\": [\n          19,\n          31,\n          14\n        ],\n        \"semantic_type\": \"\",\n        \"description\": \"\"\n      }\n    }\n  ]\n}"
            }
          },
          "metadata": {},
          "execution_count": 43
        }
      ]
    },
    {
      "cell_type": "code",
      "source": [
        "# heatmap from the contingency table\n",
        "plt.figure(figsize=(6, 8))\n",
        "sns.heatmap(contingency_table, annot=True, fmt=\"d\", cmap=\"YlGnBu\")\n",
        "plt.title('Stroke Rates by Work and Residence Type')\n",
        "plt.ylabel('Work Type, Residence Type')\n",
        "plt.xlabel('Stroke')\n",
        "plt.show()"
      ],
      "metadata": {
        "colab": {
          "base_uri": "https://localhost:8080/",
          "height": 718
        },
        "id": "EX0eLG69Rkha",
        "outputId": "5da6d0e2-9bd5-4a9e-a8f0-e8cc85b2269f"
      },
      "execution_count": null,
      "outputs": [
        {
          "output_type": "display_data",
          "data": {
            "text/plain": [
              "<Figure size 600x800 with 2 Axes>"
            ],
            "image/png": "[encoded data removed]"
          },
          "metadata": {}
        }
      ]
    },
    {
      "cell_type": "markdown",
      "source": [
        "# Label Encoding"
      ],
      "metadata": {
        "id": "1Bc4VhDXeJDW"
      }
    },
    {
      "cell_type": "code",
      "source": [
        "from sklearn.model_selection import train_test_split\n",
        "from sklearn.linear_model import LogisticRegression\n",
        "from sklearn.metrics import accuracy_score\n",
        "from sklearn.preprocessing import LabelEncoder\n",
        "\n",
        "\n",
        "# Prepare data for logistic regression\n",
        "# Convert categorical features to numerical using Label Encoding\n",
        "le = LabelEncoder()\n",
        "for col in ['gender', 'ever_married', 'work_type', 'Residence_type', 'smoking_status']:\n",
        "    data[col] = le.fit_transform(data[col])"
      ],
      "metadata": {
        "id": "aejNq7yHd1eP"
      },
      "execution_count": null,
      "outputs": []
    },
    {
      "cell_type": "markdown",
      "source": [
        "# Features matrix and target variable"
      ],
      "metadata": {
        "id": "G8-6bM2BeLwV"
      }
    },
    {
      "cell_type": "code",
      "source": [
        "# Define features (X) and target (y)\n",
        "X = data.drop('stroke', axis=1)\n",
        "y = data['stroke']"
      ],
      "metadata": {
        "id": "t4rkFq4Jd6MH"
      },
      "execution_count": null,
      "outputs": []
    },
    {
      "cell_type": "markdown",
      "source": [
        "# Split Data"
      ],
      "metadata": {
        "id": "-6C92a1NeTX8"
      }
    },
    {
      "cell_type": "code",
      "source": [
        "# Split data into training and testing sets\n",
        "X_train, X_test, y_train, y_test = train_test_split(X, y, test_size=0.2, random_state=42)"
      ],
      "metadata": {
        "id": "Qs1i68kXd836"
      },
      "execution_count": null,
      "outputs": []
    },
    {
      "cell_type": "markdown",
      "source": [
        "# Train model"
      ],
      "metadata": {
        "id": "GZxTs1ebeWir"
      }
    },
    {
      "cell_type": "code",
      "source": [
        "# Initialize and train the Logistic Regression model\n",
        "model = LogisticRegression(max_iter=1000) # Increased max_iter for convergence\n",
        "model.fit(X_train, y_train)\n",
        "\n",
        "# Make predictions\n",
        "y_pred = model.predict(X_test)"
      ],
      "metadata": {
        "colab": {
          "base_uri": "https://localhost:8080/"
        },
        "id": "CdL_GgAmeCqR",
        "outputId": "f22146d2-7131-4624-dee5-0a3206736510"
      },
      "execution_count": null,
      "outputs": [
        {
          "output_type": "stream",
          "name": "stderr",
          "text": [
            "/usr/local/lib/python3.10/dist-packages/sklearn/linear_model/_logistic.py:469: ConvergenceWarning:\n",
            "\n",
            "lbfgs failed to converge (status=1):\n",
            "STOP: TOTAL NO. of ITERATIONS REACHED LIMIT.\n",
            "\n",
            "Increase the number of iterations (max_iter) or scale the data as shown in:\n",
            "    https://scikit-learn.org/stable/modules/preprocessing.html\n",
            "Please also refer to the documentation for alternative solver options:\n",
            "    https://scikit-learn.org/stable/modules/linear_model.html#logistic-regression\n",
            "\n"
          ]
        }
      ]
    },
    {
      "cell_type": "markdown",
      "source": [
        "# Accuracy"
      ],
      "metadata": {
        "id": "cGU9nMu4dm5B"
      }
    },
    {
      "cell_type": "code",
      "source": [
        "# Evaluate the model\n",
        "accuracy = accuracy_score(y_test, y_pred)\n",
        "print(f\"Accuracy : {accuracy}\")"
      ],
      "metadata": {
        "id": "iDO9ZwoAWZpH",
        "colab": {
          "base_uri": "https://localhost:8080/"
        },
        "outputId": "38fb6a58-ef26-4b9f-e497-73ca4ffe3667"
      },
      "execution_count": null,
      "outputs": [
        {
          "output_type": "stream",
          "name": "stdout",
          "text": [
            "Accuracy : 0.9388560157790927\n"
          ]
        }
      ]
    },
    {
      "cell_type": "code",
      "source": [],
      "metadata": {
        "id": "iG5m8A1zWZsd"
      },
      "execution_count": null,
      "outputs": []
    }
  ]
}